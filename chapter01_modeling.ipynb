{
 "cells": [
  {
   "cell_type": "markdown",
   "metadata": {
    "slideshow": {
     "slide_type": "slide"
    }
   },
   "source": [
    "# マイクロマウスのモデリング\n",
    "\n",
    "マイクロマウスの動きをシミュレーションするために，まずはどのようなダイナミクスにしたがって運動するかを数式で記述する必要があります．  \n",
    "マイクロマウスの場合，回路を流れる電流によってモーターにトルクが発生し，タイヤと地面との摩擦力によって並進方向の力が生じるので，  \n",
    "運動方程式と回路方程式を中心に式を組み立てていくといいでしょう．\n",
    "\n",
    "![](img/motor_circuit_01.png)\n",
    "\n"
   ]
  },
  {
   "cell_type": "code",
   "execution_count": 1,
   "metadata": {
    "scrolled": true,
    "slideshow": {
     "slide_type": "slide"
    }
   },
   "outputs": [
    {
     "name": "stdout",
     "output_type": "stream",
     "text": [
      "<モーターの回路方程式>\n"
     ]
    },
    {
     "data": {
      "image/png": "[encoded data removed]",
      "text/latex": [
       "$$I_{R} = \\frac{1}{R} \\left(- K_{E} \\dot{\\phi}_R + V_{MR}\\right)$$"
      ],
      "text/plain": [
       "      -K_E⋅\\dot{\\phi}_R + V_MR\n",
       "I_R = ────────────────────────\n",
       "                 R            "
      ]
     },
     "metadata": {},
     "output_type": "display_data"
    },
    {
     "data": {
      "image/png": "[encoded data removed]",
      "text/latex": [
       "$$I_{L} = \\frac{1}{R} \\left(- K_{E} \\dot{\\phi}_L + V_{ML}\\right)$$"
      ],
      "text/plain": [
       "      -K_E⋅\\dot{\\phi}_L + V_ML\n",
       "I_L = ────────────────────────\n",
       "                 R            "
      ]
     },
     "metadata": {},
     "output_type": "display_data"
    }
   ],
   "source": [
    "# -*- coding: utf-8 -*-\n",
    "from sympy import *\n",
    "from IPython.core.display import display\n",
    "init_printing()\n",
    "\n",
    "VMR, IR, dphiR = symbols('V_MR I_R \\dot{\\phi}_R')\n",
    "VML, IL, dphiL = symbols('V_ML I_L \\dot{\\phi}_L')\n",
    "R, KE = symbols('R K_E')\n",
    "eq1_R = Eq(VMR, R*IR + KE*dphiR)\n",
    "eq1_L = Eq(VML, R*IL + KE*dphiL)\n",
    "\n",
    "print('<モーターの回路方程式>')\n",
    "IR = solve(eq1_R, IR)[0]\n",
    "IL = solve(eq1_L, IL)[0]\n",
    "# eq1_L = Eq(IL, solve(eq1_L, IL)[0])\n",
    "\n",
    "display(Eq(symbols('I_R'), IR))\n",
    "display(Eq(symbols('I_L'), IL))"
   ]
  },
  {
   "cell_type": "code",
   "execution_count": 2,
   "metadata": {
    "slideshow": {
     "slide_type": "slide"
    }
   },
   "outputs": [
    {
     "name": "stdout",
     "output_type": "stream",
     "text": [
      "\n",
      "<電流-トルクの関係式>\n"
     ]
    },
    {
     "data": {
      "image/png": "[encoded data removed]",
      "text/latex": [
       "$$\\tau_{R} = I_{R} K_{T}$$"
      ],
      "text/plain": [
       "τ_R = I_R⋅K_T"
      ]
     },
     "metadata": {},
     "output_type": "display_data"
    },
    {
     "data": {
      "image/png": "[encoded data removed]",
      "text/latex": [
       "$$\\tau_{L} = I_{L} K_{T}$$"
      ],
      "text/plain": [
       "τ_L = I_L⋅K_T"
      ]
     },
     "metadata": {},
     "output_type": "display_data"
    },
    {
     "name": "stdout",
     "output_type": "stream",
     "text": [
      "\n",
      "<電圧-トルクの関係式>\n"
     ]
    },
    {
     "data": {
      "image/png": "[encoded data removed]",
      "text/latex": [
       "$$\\tau_{R} = \\frac{K_{T}}{R} \\left(- K_{E} \\dot{\\phi}_R + V_{MR}\\right)$$"
      ],
      "text/plain": [
       "      K_T⋅(-K_E⋅\\dot{\\phi}_R + V_MR)\n",
       "τ_R = ──────────────────────────────\n",
       "                    R               "
      ]
     },
     "metadata": {},
     "output_type": "display_data"
    },
    {
     "data": {
      "image/png": "[encoded data removed]",
      "text/latex": [
       "$$\\tau_{L} = \\frac{K_{T}}{R} \\left(- K_{E} \\dot{\\phi}_L + V_{ML}\\right)$$"
      ],
      "text/plain": [
       "      K_T⋅(-K_E⋅\\dot{\\phi}_L + V_ML)\n",
       "τ_L = ──────────────────────────────\n",
       "                    R               "
      ]
     },
     "metadata": {},
     "output_type": "display_data"
    }
   ],
   "source": [
    "tau_R, tau_L = symbols('tau_R tau_L')\n",
    "KT = symbols('K_T')\n",
    "print('\\n<電流-トルクの関係式>')\n",
    "display(Eq(tau_R, var('K_T')*var('I_R')))\n",
    "display(Eq(tau_L, var('K_T')*var('I_L')))\n",
    "\n",
    "print('\\n<電圧-トルクの関係式>')\n",
    "tau_R = KT*IR\n",
    "tau_L = KT*IL\n",
    "display(Eq(symbols('tau_R'),tau_R));\n",
    "display(Eq(symbols('tau_L'),tau_L));"
   ]
  },
  {
   "cell_type": "code",
   "execution_count": 3,
   "metadata": {
    "scrolled": true,
    "slideshow": {
     "slide_type": "slide"
    }
   },
   "outputs": [
    {
     "name": "stdout",
     "output_type": "stream",
     "text": [
      "モータトルクとタイヤに働く力の関係式\n"
     ]
    },
    {
     "data": {
      "image/png": "[encoded data removed]",
      "text/latex": [
       "$$F_{R} = \\frac{K_{T} N_{G}}{R r} \\left(- K_{E} \\dot{\\phi}_R + V_{MR}\\right)$$"
      ],
      "text/plain": [
       "      K_T⋅N_{G}⋅(-K_E⋅\\dot{\\phi}_R + V_MR)\n",
       "F_R = ────────────────────────────────────\n",
       "                      R⋅r                 "
      ]
     },
     "metadata": {},
     "output_type": "display_data"
    },
    {
     "data": {
      "image/png": "[encoded data removed]",
      "text/latex": [
       "$$F_{L} = \\frac{K_{T} N_{G}}{R r} \\left(- K_{E} \\dot{\\phi}_L + V_{ML}\\right)$$"
      ],
      "text/plain": [
       "      K_T⋅N_{G}⋅(-K_E⋅\\dot{\\phi}_L + V_ML)\n",
       "F_L = ────────────────────────────────────\n",
       "                      R⋅r                 "
      ]
     },
     "metadata": {},
     "output_type": "display_data"
    },
    {
     "name": "stdout",
     "output_type": "stream",
     "text": [
      "運動方程式\n"
     ]
    },
    {
     "data": {
      "image/png": "[encoded data removed]",
      "text/latex": [
       "$$\\dot{v} = \\frac{K_{T} N_{G}}{R m r} \\left(- K_{E} \\dot{\\phi}_L - K_{E} \\dot{\\phi}_R + V_{ML} + V_{MR}\\right)$$"
      ],
      "text/plain": [
       "          K_T⋅N_{G}⋅(-K_E⋅\\dot{\\phi}_L - K_E⋅\\dot{\\phi}_R + V_ML + V_MR)\n",
       "\\dot{v} = ──────────────────────────────────────────────────────────────\n",
       "                                      R⋅m⋅r                             "
      ]
     },
     "metadata": {},
     "output_type": "display_data"
    },
    {
     "data": {
      "image/png": "[encoded data removed]",
      "text/latex": [
       "$$v = \\frac{\\dot{\\phi}_L r}{N_{G}} + \\frac{\\dot{\\phi}_R r}{N_{G}}$$"
      ],
      "text/plain": [
       "    \\dot{\\phi}_L⋅r   \\dot{\\phi}_R⋅r\n",
       "v = ────────────── + ──────────────\n",
       "        N_{G}            N_{G}     "
      ]
     },
     "metadata": {},
     "output_type": "display_data"
    }
   ],
   "source": [
    "m, v, x, dotv, dotx = symbols('m v x \\dot{v} \\dot{x}')\n",
    "FR, FL  = symbols('F_R F_L')\n",
    "r, Ng = symbols('r N_{G}')\n",
    "FR = Ng*tau_R/r\n",
    "FL = Ng*tau_L/r\n",
    "\n",
    "print('モータトルクとタイヤに働く力の関係式')\n",
    "display(Eq(symbols('F_R'), FR))\n",
    "display(Eq(symbols('F_L'), FL))\n",
    "\n",
    "\n",
    "print(\"運動方程式\")\n",
    "eq3_v = Eq(dotv, (FR+FL)/m); \n",
    "eq3_x = Eq(v, dphiR*r/Ng+dphiL*r/Ng );\n",
    "# eq3_vx = Eq(dotx, v)\n",
    "\n",
    "display(simplify(eq3_v), eq3_x)"
   ]
  },
  {
   "cell_type": "markdown",
   "metadata": {
    "slideshow": {
     "slide_type": "slide"
    }
   },
   "source": [
    "ここで式を簡単にするために，\n",
    "$$ \\dot{\\phi}:= \\dot{\\phi}_R + \\dot{\\phi}_L $$\n",
    "$$ V_m := V_R + V_L$$\n",
    "と定義する．すると，"
   ]
  },
  {
   "cell_type": "code",
   "execution_count": 4,
   "metadata": {
    "scrolled": false
   },
   "outputs": [
    {
     "data": {
      "image/png": "[encoded data removed]",
      "text/latex": [
       "$$\\dot{x} = v$$"
      ],
      "text/plain": [
       "\\dot{x} = v"
      ]
     },
     "metadata": {},
     "output_type": "display_data"
    },
    {
     "data": {
      "image/png": "[encoded data removed]",
      "text/latex": [
       "$$\\dot{v} = \\frac{K_{T} N_{G}}{R m r} \\left(- K_{E} \\dot{\\phi} + V_{m}\\right)$$"
      ],
      "text/plain": [
       "          K_T⋅N_{G}⋅(-K_E⋅\\dot{\\phi} + Vₘ)\n",
       "\\dot{v} = ────────────────────────────────\n",
       "                       R⋅m⋅r              "
      ]
     },
     "metadata": {},
     "output_type": "display_data"
    },
    {
     "data": {
      "image/png": "[encoded data removed]",
      "text/latex": [
       "$$v = \\frac{\\dot{\\phi} r}{N_{G}}$$"
      ],
      "text/plain": [
       "    \\dot{\\phi}⋅r\n",
       "v = ────────────\n",
       "       N_{G}    "
      ]
     },
     "metadata": {},
     "output_type": "display_data"
    }
   ],
   "source": [
    "# TODO: 等式に代入することはできる？\n",
    "phi, dphi, Vm = var('\\phi \\dot{\\phi} V_m')\n",
    "\n",
    "eq4_x = Eq(dotx, v)\n",
    "eq4_v = Eq(dotv, (KT*Ng)/(R*m*r)*(-KE*dphi+ Vm))\n",
    "eq4_phi = Eq(v, dphi*r/Ng)\n",
    "\n",
    "display(eq4_x,eq4_v, eq4_phi)"
   ]
  },
  {
   "cell_type": "markdown",
   "metadata": {},
   "source": [
    "という式が得られました．この式を $\\dot{x},\\dot{v},\\dot{phi}$について整理してみます．すると次のような関係式が得られます．"
   ]
  },
  {
   "cell_type": "code",
   "execution_count": 5,
   "metadata": {
    "scrolled": false
   },
   "outputs": [
    {
     "data": {
      "image/png": "[encoded data removed]",
      "text/latex": [
       "$$\\dot{x} = v$$"
      ],
      "text/plain": [
       "\\dot{x} = v"
      ]
     },
     "metadata": {},
     "output_type": "display_data"
    },
    {
     "data": {
      "image/png": "[encoded data removed]",
      "text/latex": [
       "$$\\dot{v} = - \\frac{K_{E} K_{T} N_{G}^{2} v}{R m r^{2}} + \\frac{K_{T} N_{G} V_{m}}{R m r}$$"
      ],
      "text/plain": [
       "                         2                 \n",
       "            K_E⋅K_T⋅N_{G} ⋅v   K_T⋅N_{G}⋅Vₘ\n",
       "\\dot{v} = - ──────────────── + ────────────\n",
       "                      2           R⋅m⋅r    \n",
       "                 R⋅m⋅r                     "
      ]
     },
     "metadata": {},
     "output_type": "display_data"
    },
    {
     "data": {
      "image/png": "[encoded data removed]",
      "text/latex": [
       "$$\\dot{\\phi} = \\frac{N_{G} v}{r}$$"
      ],
      "text/plain": [
       "             N_{G}⋅v\n",
       "\\dot{\\phi} = ───────\n",
       "                r   "
      ]
     },
     "metadata": {},
     "output_type": "display_data"
    }
   ],
   "source": [
    "sols = solve([eq4_v, eq4_phi, eq4_x], [dotv, dphi, dotx])\n",
    "\n",
    "eq_sol_v = Eq(dotv, sols[dotv])\n",
    "eq_sol_phi = Eq(dphi, sols[dphi])\n",
    "eq_sol_x = Eq(dotx, sols[dotx])\n",
    "\n",
    "display(eq_sol_x, expand(eq_sol_v),eq_sol_phi)"
   ]
  },
  {
   "cell_type": "markdown",
   "metadata": {},
   "source": [
    "この式で一番重要なのは，2番目の式です．  \n",
    "この式から，DCモーターによって駆動するマイクロマウスの速度-加速度の関係は，一階の線形微分方程式で表現され，\n",
    "加速度$a=\\dot{v}$は現在の速度$v$とモータに入力する電圧$Vm$で決定されることが分かります．\n",
    "また，速度$v$にかかる係数の符号は負であるため，速度と加速度の間にはトレードオフの関係があることが分かります．\n",
    "\n",
    "シミュレーションをする上で，上式をそのまま使っても数値計算はできますが，**「状態方程式(StateSpace)」**形式に形を少し変えると，\n",
    "多入力多出力システムの表現しやすいほか，既存のライブラリで計算がしやすくなりますので少しだけ，式変形をしてみましょう．\n",
    "\n",
    "状態方程式は，状態変数$X=[x_1, x_2,...,x_n]^T$および出力変数$Y=[y_1, y_2,...,y_m]^T$ に対して($T$は転置記号)，次のような係数行列$A,B,C$を含んだ形式で表される方程式です．(対象によっては，2番目の式を$Y=CX + Du$とする場合もあります)\n",
    "\n",
    "\\begin{eqnarray}\n",
    "    \\dot{X} &=& AX + Bu \\\\\n",
    "    Y &=& CX\n",
    "\\end{eqnarray}\n",
    "\n",
    "今回の直進モデルにおいては，状態変数は$X=[x, v, \\phi]^T$ となります．$Y$は実際にセンサーなどによって観測できる変数を指します．  \n",
    "状態変数Xはロータリエンコーダや加速度センサなどを用いて，（間接的に）計測することが可能なので，  \n",
    "ここでは簡単のため状態変数は全てそのまま観測可能としてしまいましょう．\n",
    "\n",
    "よって，$I_3 (\\mathbb{R}^{3\\times3})$の単位行列を用いて\n",
    "\n",
    "$$C=I_3 = \\left[\\begin{matrix}1 & 0 & 0\\\\0 & 1 & 0\\\\0 & 0 & 1\\end{matrix}\\right]\n",
    "$$\n",
    "\n",
    "$$Y=I_3X = X$$\n",
    "\n",
    "となりました．\n",
    "\n",
    ">#### ※補足\n",
    "ここでは，簡単のため$C=I_3$と置いてしまいましたが，現実にはセンサの精度やノイズなどにより正確に計測ができない場合もあります．\n",
    "例えば，速度$v$を求めるならエンコーダの値を微分するのが簡単ですが，ノイズの乗った値を微分すると速度一定にもかかわらず波形がギザギザになってしまうことがあります．（特に磁気式エンコーダ）  \n",
    "こういった場合，ノイズは高周波成分を多く含むことが多いため，単純に出力値に**ローパスフィルタ**を掛けるか，もしくは\n",
    "モデルと入出力情報から統計的に状態変数を推定する**「カルマンフィルタ」**などの最尤推定オブザーバで対処することが有効です．\n",
    "\n",
    ">参考: [状態フィードバックと状態変数観測器](http://www.mech.tohoku-gakuin.ac.jp/rde/contents/course/controlII/statefeedback.html)\n"
   ]
  },
  {
   "cell_type": "code",
   "execution_count": 6,
   "metadata": {
    "scrolled": false
   },
   "outputs": [
    {
     "name": "stdout",
     "output_type": "stream",
     "text": [
      "<DCマウスの直進モデル>\n"
     ]
    },
    {
     "data": {
      "text/latex": [
       "$$\\left[\\begin{matrix}\\dot{x}\\\\\\dot{v}\\\\\\dot{\\phi}\\end{matrix}\\right] = \\left[\\begin{matrix}0 & 1 & 0\\\\0 & - \\frac{K_{E} K_{T} N_{G}^{2}}{R m r^{2}} & 0\\\\0 & \\frac{N_{G}}{r} & 0\\end{matrix}\\right] \\left[\\begin{matrix}x\\\\v\\\\\\phi\\end{matrix}\\right] + \\left[\\begin{matrix}0\\\\\\frac{K_{T} N_{G}}{R m r}\\\\0\\end{matrix}\\right] V_{m}$$"
      ],
      "text/plain": [
       "⎡ \\dot{x}  ⎤ = ⎡0         1          0⎤⋅⎡ x  ⎤ + ⎡    0    ⎤⋅Vₘ\n",
       "⎢          ⎥   ⎢                      ⎥ ⎢    ⎥   ⎢         ⎥   \n",
       "⎢ \\dot{v}  ⎥   ⎢                 2    ⎥ ⎢ v  ⎥   ⎢K_T⋅N_{G}⎥   \n",
       "⎢          ⎥   ⎢   -K_E⋅K_T⋅N_{G}     ⎥ ⎢    ⎥   ⎢─────────⎥   \n",
       "⎣\\dot{\\phi}⎦   ⎢0  ────────────────  0⎥ ⎣\\phi⎦   ⎢  R⋅m⋅r  ⎥   \n",
       "               ⎢             2        ⎥          ⎢         ⎥   \n",
       "               ⎢        R⋅m⋅r         ⎥          ⎣    0    ⎦   \n",
       "               ⎢                      ⎥                        \n",
       "               ⎢        N_{G}         ⎥                        \n",
       "               ⎢0       ─────        0⎥                        \n",
       "               ⎣          r           ⎦                        "
      ]
     },
     "execution_count": 6,
     "metadata": {},
     "output_type": "execute_result"
    }
   ],
   "source": [
    "polv = Poly(sols[dotv], v)\n",
    "polvm = Poly(sols[dotv], Vm)\n",
    "polp = Poly(sols[dphi], v)\n",
    "\n",
    "a = polv.coeffs()[0] # polvの0番目の係数\n",
    "b = polvm.coeffs()[0] # polvの1番目の係数\n",
    "c = polp.coeffs()[0] # polpの0番目の係数\n",
    "\n",
    "A = Matrix([ [0,1,0], [0,a,0], [0,c,0]])\n",
    "B = Matrix([0, b, 0])\n",
    "X = Matrix([x, v, phi])\n",
    "dX = Matrix([dotx, dotv, dphi])\n",
    "\n",
    "print('<DCマウスの直進モデル>')\n",
    "Eq(dX, MatAdd(MatMul(A,X), MatMul(B,Vm)))"
   ]
  },
  {
   "cell_type": "markdown",
   "metadata": {},
   "source": [
    "DCマウスの直進モデルは上記の式で与えられることが分かりました．\n",
    "\n",
    "ただし，実際のDCモーターを動かす際は，モータードライバにPWM信号を入力することになるので，  \n",
    "入力はPWMのデューティー比{-1,+1}としたほうが扱いやすいかもしれません．\n",
    "\n",
    "そこで，電源電圧を$V_{bat}$，2つのモータに対する平均デューティー比を$u_{duty}$とおくと，\n",
    "モーターへの合計入力電圧$V_m$は\n",
    "\n",
    "$$ V_m = 2V_{bat}u_{duty} $$\n",
    "\n",
    "と表すことができます．よってデューティー入力の直進モデルは，次のように表すことができます．\n",
    "以降はこのモデルを用いて，制御系設計を行っていきます．"
   ]
  },
  {
   "cell_type": "code",
   "execution_count": 7,
   "metadata": {},
   "outputs": [
    {
     "name": "stdout",
     "output_type": "stream",
     "text": [
      "<DCマウスの直進モデル>\n"
     ]
    },
    {
     "data": {
      "text/latex": [
       "$$\\left[\\begin{matrix}\\dot{x}\\\\\\dot{v}\\\\\\dot{\\phi}\\end{matrix}\\right] = \\left[\\begin{matrix}0 & 1 & 0\\\\0 & - \\frac{K_{E} K_{T} N_{G}^{2}}{R m r^{2}} & 0\\\\0 & \\frac{N_{G}}{r} & 0\\end{matrix}\\right] \\left[\\begin{matrix}x\\\\v\\\\\\phi\\end{matrix}\\right] + \\left[\\begin{matrix}0\\\\\\frac{2 K_{T} N_{G} V_{bat}}{R m r}\\\\0\\end{matrix}\\right] u_{duty}$$"
      ],
      "text/plain": [
       "⎡ \\dot{x}  ⎤ = ⎡0         1          0⎤⋅⎡ x  ⎤ + ⎡         0         ⎤⋅u_{duty\n",
       "⎢          ⎥   ⎢                      ⎥ ⎢    ⎥   ⎢                   ⎥        \n",
       "⎢ \\dot{v}  ⎥   ⎢                 2    ⎥ ⎢ v  ⎥   ⎢2⋅K_T⋅N_{G}⋅V_{bat}⎥        \n",
       "⎢          ⎥   ⎢   -K_E⋅K_T⋅N_{G}     ⎥ ⎢    ⎥   ⎢───────────────────⎥        \n",
       "⎣\\dot{\\phi}⎦   ⎢0  ────────────────  0⎥ ⎣\\phi⎦   ⎢       R⋅m⋅r       ⎥        \n",
       "               ⎢             2        ⎥          ⎢                   ⎥        \n",
       "               ⎢        R⋅m⋅r         ⎥          ⎣         0         ⎦        \n",
       "               ⎢                      ⎥                                       \n",
       "               ⎢        N_{G}         ⎥                                       \n",
       "               ⎢0       ─────        0⎥                                       \n",
       "               ⎣          r           ⎦                                       \n",
       "\n",
       "}\n",
       " \n",
       " \n",
       " \n",
       " \n",
       " \n",
       " \n",
       " \n",
       " \n",
       " \n",
       " "
      ]
     },
     "execution_count": 7,
     "metadata": {},
     "output_type": "execute_result"
    }
   ],
   "source": [
    "print('<DCマウスの直進モデル>')\n",
    "u_d, Vbat = symbols('u_{duty} V_{bat}')\n",
    "Eq(dX, MatAdd(MatMul(A,X), MatMul(B*2*Vbat,u_d)))"
   ]
  }
 ],
 "metadata": {
  "kernelspec": {
   "display_name": "Python 3",
   "language": "python",
   "name": "python3"
  },
  "language_info": {
   "codemirror_mode": {
    "name": "ipython",
    "version": 3
   },
   "file_extension": ".py",
   "mimetype": "text/x-python",
   "name": "python",
   "nbconvert_exporter": "python",
   "pygments_lexer": "ipython3",
   "version": "3.6.1"
  },
  "widgets": {
   "application/vnd.jupyter.widget-state+json": {
    "state": {
     "02052329535a45f58fe301419492a277": {
      "model_module": "jupyter-js-widgets",
      "model_module_version": "~2.1.4",
      "model_name": "FloatSliderModel",
      "state": {
       "_model_module_version": "~2.1.4",
       "_view_module_version": "~2.1.4",
       "description": "Ki",
       "layout": "IPY_MODEL_d68eb088be224fd3b3a2206cf70cc4de",
       "max": 5,
       "step": 0.001
      }
     },
     "02962fa18e8f49179d367b295b46f0e5": {
      "model_module": "jupyter-js-widgets",
      "model_module_version": "~2.1.4",
      "model_name": "LayoutModel",
      "state": {
       "_model_module_version": "~2.1.4",
       "_view_module_version": "~2.1.4"
      }
     },
     "0dd33e77fabe44e6bc482c3a3681d5df": {
      "model_module": "jupyter-js-widgets",
      "model_module_version": "~2.1.4",
      "model_name": "FloatSliderModel",
      "state": {
       "_model_module_version": "~2.1.4",
       "_view_module_version": "~2.1.4",
       "description": "Kd",
       "layout": "IPY_MODEL_e2d7c877ef7c4297b20e0ad7e54c8aed",
       "max": 5,
       "step": 0.01
      }
     },
     "1735359efe484601b72c1f44e0422114": {
      "model_module": "jupyter-js-widgets",
      "model_module_version": "~2.1.4",
      "model_name": "FloatSliderModel",
      "state": {
       "_model_module_version": "~2.1.4",
       "_view_module_version": "~2.1.4",
       "description": "Kd",
       "layout": "IPY_MODEL_8011b2310fbe4d5a908576b511c0cbe0",
       "max": 5,
       "step": 0.01
      }
     },
     "1759309698b74976849a1037bf84e49b": {
      "model_module": "jupyter-js-widgets",
      "model_module_version": "~2.1.4",
      "model_name": "LayoutModel",
      "state": {
       "_model_module_version": "~2.1.4",
       "_view_module_version": "~2.1.4"
      }
     },
     "1b9405dac1f444459f3724be8d44448c": {
      "model_module": "jupyter-js-widgets",
      "model_module_version": "~2.1.4",
      "model_name": "LayoutModel",
      "state": {
       "_model_module_version": "~2.1.4",
       "_view_module_version": "~2.1.4"
      }
     },
     "201f2dd72b1e4ec1b22a6cb9b978b209": {
      "model_module": "jupyter-js-widgets",
      "model_module_version": "~2.1.4",
      "model_name": "LayoutModel",
      "state": {
       "_model_module_version": "~2.1.4",
       "_view_module_version": "~2.1.4"
      }
     },
     "267103be356442e1a395432ea9c84c24": {
      "model_module": "jupyter-js-widgets",
      "model_module_version": "~2.1.4",
      "model_name": "VBoxModel",
      "state": {
       "_dom_classes": [
        "widget-interact"
       ],
       "_model_module_version": "~2.1.4",
       "_view_module_version": "~2.1.4",
       "children": [
        "IPY_MODEL_3706abd2039041c7944330ac56a037fa",
        "IPY_MODEL_96e503f8c3034e8d97abecf094130bba",
        "IPY_MODEL_9dd4c2ece86b4819bba64f0b102890f1",
        "IPY_MODEL_a4666b7ff95a407fb5f1ce915c70785d"
       ],
       "layout": "IPY_MODEL_f8bc588232d54ecca8370c853dee7b7d"
      }
     },
     "2b89c34827a24266bc2db5804e0727ac": {
      "model_module": "jupyter-js-widgets",
      "model_module_version": "~2.1.4",
      "model_name": "LayoutModel",
      "state": {
       "_model_module_version": "~2.1.4",
       "_view_module_version": "~2.1.4"
      }
     },
     "31df72f3e58440ff981f9a8b506ca78b": {
      "model_module": "jupyter-js-widgets",
      "model_module_version": "~2.1.4",
      "model_name": "LayoutModel",
      "state": {
       "_model_module_version": "~2.1.4",
       "_view_module_version": "~2.1.4"
      }
     },
     "3706abd2039041c7944330ac56a037fa": {
      "model_module": "jupyter-js-widgets",
      "model_module_version": "~2.1.4",
      "model_name": "FloatSliderModel",
      "state": {
       "_model_module_version": "~2.1.4",
       "_view_module_version": "~2.1.4",
       "description": "gear_ratio",
       "layout": "IPY_MODEL_8d7fc110324546d9aebd36ff226f4bf2",
       "max": 10,
       "min": 1,
       "step": 0.1,
       "value": 3
      }
     },
     "3a4fd04d76374e49976727fe997facad": {
      "model_module": "jupyter-js-widgets",
      "model_module_version": "~2.1.4",
      "model_name": "FloatSliderModel",
      "state": {
       "_model_module_version": "~2.1.4",
       "_view_module_version": "~2.1.4",
       "description": "Kp",
       "layout": "IPY_MODEL_b080e8ef99f747c1a29f8ff4a348a55c",
       "max": 10,
       "min": 0.01,
       "step": 0.01,
       "value": 1
      }
     },
     "42e3390b59684eceb11453db873c3455": {
      "model_module": "jupyter-js-widgets",
      "model_module_version": "~2.1.4",
      "model_name": "OutputModel",
      "state": {
       "_dom_classes": [],
       "_model_module": "jupyter-js-widgets",
       "_model_module_version": "~2.1.4",
       "_view_module": "jupyter-js-widgets",
       "_view_module_version": "~2.1.4",
       "layout": "IPY_MODEL_8741e467ed0e4040aa2b51aca5feea50",
       "msg_throttle": 1
      }
     },
     "43630c5161514d1ea80ce8563c7bf7c4": {
      "model_module": "jupyter-js-widgets",
      "model_module_version": "~2.1.4",
      "model_name": "FloatSliderModel",
      "state": {
       "_model_module_version": "~2.1.4",
       "_view_module_version": "~2.1.4",
       "description": "Ki",
       "layout": "IPY_MODEL_977f902595d841b0a8c87b5fb8f0ae27",
       "max": 5,
       "step": 0.001
      }
     },
     "43d746ed41914236aadc8b6a6e5d5caa": {
      "model_module": "jupyter-js-widgets",
      "model_module_version": "~2.1.4",
      "model_name": "LayoutModel",
      "state": {
       "_model_module_version": "~2.1.4",
       "_view_module_version": "~2.1.4"
      }
     },
     "482ffa26b9c748b195b4a4f8a039e98f": {
      "model_module": "jupyter-js-widgets",
      "model_module_version": "~2.1.4",
      "model_name": "FloatSliderModel",
      "state": {
       "_model_module_version": "~2.1.4",
       "_view_module_version": "~2.1.4",
       "description": "motor_duty",
       "layout": "IPY_MODEL_2b89c34827a24266bc2db5804e0727ac",
       "max": 1,
       "step": 0.01,
       "value": 0.5
      }
     },
     "4d9fa4a13e7c4e618f5051ab48c1240e": {
      "model_module": "jupyter-js-widgets",
      "model_module_version": "~2.1.4",
      "model_name": "FloatSliderModel",
      "state": {
       "_model_module_version": "~2.1.4",
       "_view_module_version": "~2.1.4",
       "description": "Kp",
       "layout": "IPY_MODEL_02962fa18e8f49179d367b295b46f0e5",
       "max": 3,
       "min": 0.01,
       "step": 0.01,
       "value": 1
      }
     },
     "51f50f36006f46f0898689aad63fe420": {
      "model_module": "jupyter-js-widgets",
      "model_module_version": "~2.1.4",
      "model_name": "LayoutModel",
      "state": {
       "_model_module_version": "~2.1.4",
       "_view_module_version": "~2.1.4"
      }
     },
     "5ce3c3dce72a406d803f907f92879891": {
      "model_module": "jupyter-js-widgets",
      "model_module_version": "~2.1.4",
      "model_name": "LayoutModel",
      "state": {
       "_model_module_version": "~2.1.4",
       "_view_module_version": "~2.1.4"
      }
     },
     "5d7e40458583449ebaa4a4192248c53f": {
      "model_module": "jupyter-js-widgets",
      "model_module_version": "~2.1.4",
      "model_name": "FloatSliderModel",
      "state": {
       "_model_module_version": "~2.1.4",
       "_view_module_version": "~2.1.4",
       "description": "v_goal",
       "layout": "IPY_MODEL_da8317adc3e14ccf910b7b9b901433e5",
       "max": 4,
       "step": 0.1,
       "value": 1.3
      }
     },
     "6088438f4daf44f3b395c85af1ed1935": {
      "model_module": "jupyter-js-widgets",
      "model_module_version": "~2.1.4",
      "model_name": "FloatSliderModel",
      "state": {
       "_model_module_version": "~2.1.4",
       "_view_module_version": "~2.1.4",
       "description": "Ki",
       "layout": "IPY_MODEL_a419d535761a4f1b8b44c2c9270d4596",
       "max": 5,
       "step": 0.001
      }
     },
     "6226261c1a9d4045becca709c31e3bd7": {
      "model_module": "jupyter-js-widgets",
      "model_module_version": "~2.1.4",
      "model_name": "VBoxModel",
      "state": {
       "_dom_classes": [
        "widget-interact"
       ],
       "_model_module_version": "~2.1.4",
       "_view_module_version": "~2.1.4",
       "children": [
        "IPY_MODEL_e5338feb28d14c1abefbeb26f2946851",
        "IPY_MODEL_6088438f4daf44f3b395c85af1ed1935",
        "IPY_MODEL_dcc55637159b4b85beba6f4c4ae5dcd7",
        "IPY_MODEL_a594ac5e6d5946b988c45c4fbb57120e",
        "IPY_MODEL_f2c0f6f4790d454dba562734ed3f1a54"
       ],
       "layout": "IPY_MODEL_ed55e2905b4947fa846a3c25514cbdca"
      }
     },
     "66e154b5a6ee44de97ea92bd441182d9": {
      "model_module": "jupyter-js-widgets",
      "model_module_version": "~2.1.4",
      "model_name": "VBoxModel",
      "state": {
       "_dom_classes": [
        "widget-interact"
       ],
       "_model_module_version": "~2.1.4",
       "_view_module_version": "~2.1.4",
       "children": [
        "IPY_MODEL_4d9fa4a13e7c4e618f5051ab48c1240e",
        "IPY_MODEL_8f89bdee77404a0daa01422fea1bf6f4",
        "IPY_MODEL_0dd33e77fabe44e6bc482c3a3681d5df",
        "IPY_MODEL_8c64e05c464b4768a12e5601a39c9ba9",
        "IPY_MODEL_993ab172bfc34095b03763b370495283"
       ],
       "layout": "IPY_MODEL_43d746ed41914236aadc8b6a6e5d5caa"
      }
     },
     "6ba68e917f09406bbc3c8dd9ce04d17e": {
      "model_module": "jupyter-js-widgets",
      "model_module_version": "~2.1.4",
      "model_name": "LayoutModel",
      "state": {
       "_model_module_version": "~2.1.4",
       "_view_module_version": "~2.1.4"
      }
     },
     "6f17e0d1a77b47f1852d30e2edfffdfb": {
      "model_module": "jupyter-js-widgets",
      "model_module_version": "~2.1.4",
      "model_name": "OutputModel",
      "state": {
       "_dom_classes": [],
       "_model_module": "jupyter-js-widgets",
       "_model_module_version": "~2.1.4",
       "_view_module": "jupyter-js-widgets",
       "_view_module_version": "~2.1.4",
       "layout": "IPY_MODEL_fd1b38bc3cf946ab80080b3854141d58",
       "msg_throttle": 1
      }
     },
     "7324d536d7564cd8bec3f793b86ac245": {
      "model_module": "jupyter-js-widgets",
      "model_module_version": "~2.1.4",
      "model_name": "FloatSliderModel",
      "state": {
       "_model_module_version": "~2.1.4",
       "_view_module_version": "~2.1.4",
       "description": "v_goal",
       "layout": "IPY_MODEL_9d8c60b8c87a42c5948b0d354510ce72",
       "max": 4,
       "step": 0.1,
       "value": 1
      }
     },
     "8011b2310fbe4d5a908576b511c0cbe0": {
      "model_module": "jupyter-js-widgets",
      "model_module_version": "~2.1.4",
      "model_name": "LayoutModel",
      "state": {
       "_model_module_version": "~2.1.4",
       "_view_module_version": "~2.1.4"
      }
     },
     "833d95109fb140cbaa3b2eccdf5a83e6": {
      "model_module": "jupyter-js-widgets",
      "model_module_version": "~2.1.4",
      "model_name": "VBoxModel",
      "state": {
       "_dom_classes": [
        "widget-interact"
       ],
       "_model_module_version": "~2.1.4",
       "_view_module_version": "~2.1.4",
       "children": [
        "IPY_MODEL_cdbb66eb274f40bf9729d31e9766d8fb",
        "IPY_MODEL_02052329535a45f58fe301419492a277",
        "IPY_MODEL_1735359efe484601b72c1f44e0422114",
        "IPY_MODEL_5d7e40458583449ebaa4a4192248c53f",
        "IPY_MODEL_42e3390b59684eceb11453db873c3455"
       ],
       "layout": "IPY_MODEL_bd3f679d7d0f4befa7578f8613bb7fae"
      }
     },
     "8741e467ed0e4040aa2b51aca5feea50": {
      "model_module": "jupyter-js-widgets",
      "model_module_version": "~2.1.4",
      "model_name": "LayoutModel",
      "state": {
       "_model_module_version": "~2.1.4",
       "_view_module_version": "~2.1.4"
      }
     },
     "8ac6f58562e74ad69f3e3e015fc8b0ab": {
      "model_module": "jupyter-js-widgets",
      "model_module_version": "~2.1.4",
      "model_name": "LayoutModel",
      "state": {
       "_model_module_version": "~2.1.4",
       "_view_module_version": "~2.1.4"
      }
     },
     "8c64e05c464b4768a12e5601a39c9ba9": {
      "model_module": "jupyter-js-widgets",
      "model_module_version": "~2.1.4",
      "model_name": "FloatSliderModel",
      "state": {
       "_model_module_version": "~2.1.4",
       "_view_module_version": "~2.1.4",
       "description": "target",
       "layout": "IPY_MODEL_a8a9d5c4e0654ef3a3e144ccf30cd772",
       "max": 3,
       "step": 0.1,
       "value": 1
      }
     },
     "8cb0feb1371d43f8ad648e313be7d467": {
      "model_module": "jupyter-js-widgets",
      "model_module_version": "~2.1.4",
      "model_name": "LayoutModel",
      "state": {
       "_model_module_version": "~2.1.4",
       "_view_module_version": "~2.1.4"
      }
     },
     "8d7fc110324546d9aebd36ff226f4bf2": {
      "model_module": "jupyter-js-widgets",
      "model_module_version": "~2.1.4",
      "model_name": "LayoutModel",
      "state": {
       "_model_module_version": "~2.1.4",
       "_view_module_version": "~2.1.4"
      }
     },
     "8eccf347b71c4419be022adfa0638384": {
      "model_module": "jupyter-js-widgets",
      "model_module_version": "~2.1.4",
      "model_name": "VBoxModel",
      "state": {
       "_dom_classes": [
        "widget-interact"
       ],
       "_model_module_version": "~2.1.4",
       "_view_module_version": "~2.1.4",
       "children": [
        "IPY_MODEL_3a4fd04d76374e49976727fe997facad",
        "IPY_MODEL_43630c5161514d1ea80ce8563c7bf7c4",
        "IPY_MODEL_e9ea4289d8f042928f4f79dcb9fc19fa",
        "IPY_MODEL_7324d536d7564cd8bec3f793b86ac245",
        "IPY_MODEL_6f17e0d1a77b47f1852d30e2edfffdfb"
       ],
       "layout": "IPY_MODEL_d18bc63641c64e35b611ef52e7434640"
      }
     },
     "8f89bdee77404a0daa01422fea1bf6f4": {
      "model_module": "jupyter-js-widgets",
      "model_module_version": "~2.1.4",
      "model_name": "FloatSliderModel",
      "state": {
       "_model_module_version": "~2.1.4",
       "_view_module_version": "~2.1.4",
       "description": "Ki",
       "layout": "IPY_MODEL_51f50f36006f46f0898689aad63fe420",
       "max": 5,
       "step": 0.001
      }
     },
     "964244f9b98f443e9a08860bb79a4e3f": {
      "model_module": "jupyter-js-widgets",
      "model_module_version": "~2.1.4",
      "model_name": "FloatSliderModel",
      "state": {
       "_model_module_version": "~2.1.4",
       "_view_module_version": "~2.1.4",
       "description": "gear_ratio",
       "layout": "IPY_MODEL_201f2dd72b1e4ec1b22a6cb9b978b209",
       "max": 10,
       "min": 1,
       "step": 0.1,
       "value": 3
      }
     },
     "96e503f8c3034e8d97abecf094130bba": {
      "model_module": "jupyter-js-widgets",
      "model_module_version": "~2.1.4",
      "model_name": "FloatSliderModel",
      "state": {
       "_model_module_version": "~2.1.4",
       "_view_module_version": "~2.1.4",
       "description": "motor_duty",
       "layout": "IPY_MODEL_e474cac8715648eda7c962e2946345a3",
       "max": 1,
       "step": 0.01,
       "value": 0.5
      }
     },
     "977f902595d841b0a8c87b5fb8f0ae27": {
      "model_module": "jupyter-js-widgets",
      "model_module_version": "~2.1.4",
      "model_name": "LayoutModel",
      "state": {
       "_model_module_version": "~2.1.4",
       "_view_module_version": "~2.1.4"
      }
     },
     "993ab172bfc34095b03763b370495283": {
      "model_module": "jupyter-js-widgets",
      "model_module_version": "~2.1.4",
      "model_name": "OutputModel",
      "state": {
       "_dom_classes": [],
       "_model_module": "jupyter-js-widgets",
       "_model_module_version": "~2.1.4",
       "_view_module": "jupyter-js-widgets",
       "_view_module_version": "~2.1.4",
       "layout": "IPY_MODEL_8ac6f58562e74ad69f3e3e015fc8b0ab",
       "msg_throttle": 1
      }
     },
     "9d8c60b8c87a42c5948b0d354510ce72": {
      "model_module": "jupyter-js-widgets",
      "model_module_version": "~2.1.4",
      "model_name": "LayoutModel",
      "state": {
       "_model_module_version": "~2.1.4",
       "_view_module_version": "~2.1.4"
      }
     },
     "9dd4c2ece86b4819bba64f0b102890f1": {
      "model_module": "jupyter-js-widgets",
      "model_module_version": "~2.1.4",
      "model_name": "FloatSliderModel",
      "state": {
       "_model_module_version": "~2.1.4",
       "_view_module_version": "~2.1.4",
       "description": "mass_gram",
       "layout": "IPY_MODEL_31df72f3e58440ff981f9a8b506ca78b",
       "max": 200,
       "min": 5,
       "step": 0.5,
       "value": 30
      }
     },
     "9fd86b13781042ae8d7c9f409570ee23": {
      "model_module": "jupyter-js-widgets",
      "model_module_version": "~2.1.4",
      "model_name": "LayoutModel",
      "state": {
       "_model_module_version": "~2.1.4",
       "_view_module_version": "~2.1.4"
      }
     },
     "a419d535761a4f1b8b44c2c9270d4596": {
      "model_module": "jupyter-js-widgets",
      "model_module_version": "~2.1.4",
      "model_name": "LayoutModel",
      "state": {
       "_model_module_version": "~2.1.4",
       "_view_module_version": "~2.1.4"
      }
     },
     "a4666b7ff95a407fb5f1ce915c70785d": {
      "model_module": "jupyter-js-widgets",
      "model_module_version": "~2.1.4",
      "model_name": "OutputModel",
      "state": {
       "_dom_classes": [],
       "_model_module": "jupyter-js-widgets",
       "_model_module_version": "~2.1.4",
       "_view_module": "jupyter-js-widgets",
       "_view_module_version": "~2.1.4",
       "layout": "IPY_MODEL_6ba68e917f09406bbc3c8dd9ce04d17e",
       "msg_throttle": 1
      }
     },
     "a594ac5e6d5946b988c45c4fbb57120e": {
      "model_module": "jupyter-js-widgets",
      "model_module_version": "~2.1.4",
      "model_name": "FloatSliderModel",
      "state": {
       "_model_module_version": "~2.1.4",
       "_view_module_version": "~2.1.4",
       "description": "target",
       "layout": "IPY_MODEL_8cb0feb1371d43f8ad648e313be7d467",
       "max": 3,
       "step": 0.1,
       "value": 1
      }
     },
     "a8a9d5c4e0654ef3a3e144ccf30cd772": {
      "model_module": "jupyter-js-widgets",
      "model_module_version": "~2.1.4",
      "model_name": "LayoutModel",
      "state": {
       "_model_module_version": "~2.1.4",
       "_view_module_version": "~2.1.4"
      }
     },
     "a93b1abc2f0e4e33987ff82c23d21939": {
      "model_module": "jupyter-js-widgets",
      "model_module_version": "~2.1.4",
      "model_name": "OutputModel",
      "state": {
       "_dom_classes": [],
       "_model_module": "jupyter-js-widgets",
       "_model_module_version": "~2.1.4",
       "_view_module": "jupyter-js-widgets",
       "_view_module_version": "~2.1.4",
       "layout": "IPY_MODEL_b07da7d6fc6944bba912dfcb871727b3",
       "msg_throttle": 1
      }
     },
     "acdd9c7a865048bc804a2fb87bc9d48c": {
      "model_module": "jupyter-js-widgets",
      "model_module_version": "~2.1.4",
      "model_name": "LayoutModel",
      "state": {
       "_model_module_version": "~2.1.4",
       "_view_module_version": "~2.1.4"
      }
     },
     "aee616990ef149fabcdbcbe22abe44e0": {
      "model_module": "jupyter-js-widgets",
      "model_module_version": "~2.1.4",
      "model_name": "FloatSliderModel",
      "state": {
       "_model_module_version": "~2.1.4",
       "_view_module_version": "~2.1.4",
       "description": "mass_gram",
       "layout": "IPY_MODEL_acdd9c7a865048bc804a2fb87bc9d48c",
       "max": 200,
       "min": 5,
       "step": 0.5,
       "value": 30
      }
     },
     "b07da7d6fc6944bba912dfcb871727b3": {
      "model_module": "jupyter-js-widgets",
      "model_module_version": "~2.1.4",
      "model_name": "LayoutModel",
      "state": {
       "_model_module_version": "~2.1.4",
       "_view_module_version": "~2.1.4"
      }
     },
     "b080e8ef99f747c1a29f8ff4a348a55c": {
      "model_module": "jupyter-js-widgets",
      "model_module_version": "~2.1.4",
      "model_name": "LayoutModel",
      "state": {
       "_model_module_version": "~2.1.4",
       "_view_module_version": "~2.1.4"
      }
     },
     "bd3f679d7d0f4befa7578f8613bb7fae": {
      "model_module": "jupyter-js-widgets",
      "model_module_version": "~2.1.4",
      "model_name": "LayoutModel",
      "state": {
       "_model_module_version": "~2.1.4",
       "_view_module_version": "~2.1.4"
      }
     },
     "bd75cbcb82df4f269e1e98bb6e1b5957": {
      "model_module": "jupyter-js-widgets",
      "model_module_version": "~2.1.4",
      "model_name": "LayoutModel",
      "state": {
       "_model_module_version": "~2.1.4",
       "_view_module_version": "~2.1.4"
      }
     },
     "cdbb66eb274f40bf9729d31e9766d8fb": {
      "model_module": "jupyter-js-widgets",
      "model_module_version": "~2.1.4",
      "model_name": "FloatSliderModel",
      "state": {
       "_model_module_version": "~2.1.4",
       "_view_module_version": "~2.1.4",
       "description": "Kp",
       "layout": "IPY_MODEL_1759309698b74976849a1037bf84e49b",
       "max": 10,
       "min": 0.01,
       "step": 0.01,
       "value": 1
      }
     },
     "d18bc63641c64e35b611ef52e7434640": {
      "model_module": "jupyter-js-widgets",
      "model_module_version": "~2.1.4",
      "model_name": "LayoutModel",
      "state": {
       "_model_module_version": "~2.1.4",
       "_view_module_version": "~2.1.4"
      }
     },
     "d68eb088be224fd3b3a2206cf70cc4de": {
      "model_module": "jupyter-js-widgets",
      "model_module_version": "~2.1.4",
      "model_name": "LayoutModel",
      "state": {
       "_model_module_version": "~2.1.4",
       "_view_module_version": "~2.1.4"
      }
     },
     "da8317adc3e14ccf910b7b9b901433e5": {
      "model_module": "jupyter-js-widgets",
      "model_module_version": "~2.1.4",
      "model_name": "LayoutModel",
      "state": {
       "_model_module_version": "~2.1.4",
       "_view_module_version": "~2.1.4"
      }
     },
     "dc7067f21bcc48f0b4ef3b4764be36d6": {
      "model_module": "jupyter-js-widgets",
      "model_module_version": "~2.1.4",
      "model_name": "LayoutModel",
      "state": {
       "_model_module_version": "~2.1.4",
       "_view_module_version": "~2.1.4"
      }
     },
     "dcc55637159b4b85beba6f4c4ae5dcd7": {
      "model_module": "jupyter-js-widgets",
      "model_module_version": "~2.1.4",
      "model_name": "FloatSliderModel",
      "state": {
       "_model_module_version": "~2.1.4",
       "_view_module_version": "~2.1.4",
       "description": "Kd",
       "layout": "IPY_MODEL_9fd86b13781042ae8d7c9f409570ee23",
       "max": 5,
       "step": 0.01
      }
     },
     "e2d7c877ef7c4297b20e0ad7e54c8aed": {
      "model_module": "jupyter-js-widgets",
      "model_module_version": "~2.1.4",
      "model_name": "LayoutModel",
      "state": {
       "_model_module_version": "~2.1.4",
       "_view_module_version": "~2.1.4"
      }
     },
     "e474cac8715648eda7c962e2946345a3": {
      "model_module": "jupyter-js-widgets",
      "model_module_version": "~2.1.4",
      "model_name": "LayoutModel",
      "state": {
       "_model_module_version": "~2.1.4",
       "_view_module_version": "~2.1.4"
      }
     },
     "e5338feb28d14c1abefbeb26f2946851": {
      "model_module": "jupyter-js-widgets",
      "model_module_version": "~2.1.4",
      "model_name": "FloatSliderModel",
      "state": {
       "_model_module_version": "~2.1.4",
       "_view_module_version": "~2.1.4",
       "description": "Kp",
       "layout": "IPY_MODEL_1b9405dac1f444459f3724be8d44448c",
       "max": 3,
       "min": 0.01,
       "step": 0.01,
       "value": 1
      }
     },
     "e949676c6b66417fadff0277cdd54072": {
      "model_module": "jupyter-js-widgets",
      "model_module_version": "~2.1.4",
      "model_name": "VBoxModel",
      "state": {
       "_dom_classes": [
        "widget-interact"
       ],
       "_model_module_version": "~2.1.4",
       "_view_module_version": "~2.1.4",
       "children": [
        "IPY_MODEL_964244f9b98f443e9a08860bb79a4e3f",
        "IPY_MODEL_482ffa26b9c748b195b4a4f8a039e98f",
        "IPY_MODEL_aee616990ef149fabcdbcbe22abe44e0",
        "IPY_MODEL_a93b1abc2f0e4e33987ff82c23d21939"
       ],
       "layout": "IPY_MODEL_dc7067f21bcc48f0b4ef3b4764be36d6"
      }
     },
     "e9ea4289d8f042928f4f79dcb9fc19fa": {
      "model_module": "jupyter-js-widgets",
      "model_module_version": "~2.1.4",
      "model_name": "FloatSliderModel",
      "state": {
       "_model_module_version": "~2.1.4",
       "_view_module_version": "~2.1.4",
       "description": "Kd",
       "layout": "IPY_MODEL_5ce3c3dce72a406d803f907f92879891",
       "max": 5,
       "step": 0.01
      }
     },
     "ed55e2905b4947fa846a3c25514cbdca": {
      "model_module": "jupyter-js-widgets",
      "model_module_version": "~2.1.4",
      "model_name": "LayoutModel",
      "state": {
       "_model_module_version": "~2.1.4",
       "_view_module_version": "~2.1.4"
      }
     },
     "f2c0f6f4790d454dba562734ed3f1a54": {
      "model_module": "jupyter-js-widgets",
      "model_module_version": "~2.1.4",
      "model_name": "OutputModel",
      "state": {
       "_dom_classes": [],
       "_model_module": "jupyter-js-widgets",
       "_model_module_version": "~2.1.4",
       "_view_module": "jupyter-js-widgets",
       "_view_module_version": "~2.1.4",
       "layout": "IPY_MODEL_bd75cbcb82df4f269e1e98bb6e1b5957",
       "msg_throttle": 1
      }
     },
     "f8bc588232d54ecca8370c853dee7b7d": {
      "model_module": "jupyter-js-widgets",
      "model_module_version": "~2.1.4",
      "model_name": "LayoutModel",
      "state": {
       "_model_module_version": "~2.1.4",
       "_view_module_version": "~2.1.4"
      }
     },
     "fd1b38bc3cf946ab80080b3854141d58": {
      "model_module": "jupyter-js-widgets",
      "model_module_version": "~2.1.4",
      "model_name": "LayoutModel",
      "state": {
       "_model_module_version": "~2.1.4",
       "_view_module_version": "~2.1.4"
      }
     }
    },
    "version_major": 1,
    "version_minor": 0
   }
  }
 },
 "nbformat": 4,
 "nbformat_minor": 2
}

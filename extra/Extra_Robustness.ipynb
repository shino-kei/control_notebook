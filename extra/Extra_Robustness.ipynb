{
 "cells": [
  {
   "cell_type": "markdown",
   "metadata": {},
   "source": [
    "\n",
    "## 外乱に対するフィードバック性能\n",
    "<img src=\"img/disturburance.png\" width=70%>\n",
    "\n",
    "まず，フィードバック(FB)制御系における外乱$d$に対する出力$y$の伝達関数$G_{dy}$を求めてみます．\n",
    "今回は線形システムを対象としているため， $d$に関する影響だけを考えたい場合には，目標値指令$v_{ref}=0$として構いません．よって，\n",
    "\n",
    "\n",
    "$$Y(s)=(eK+d)P \\\\e=-Y $$\n",
    "より\n",
    "$$G_{dy}(s)=\\dfrac{Y}{d}=\\dfrac{P}{1+KP}$$\n",
    "となります．\n",
    "\n",
    "また， ループを含まないフィードフォワード(FF)制御系においては，$d$から$y$の伝達関数は\n",
    "\n",
    "$$Y(s)=Pd$$\n",
    "であるため，\n",
    "$$G_{dyFF}(s)=\\dfrac{Y}{d}=P$$\n",
    "\n",
    "よって， フィードフォワード制御とフィードバック制御の伝達関数の比を取ると，\n",
    "\n",
    "$$S(s)=\\dfrac{G_{dy}}{G_{dyFF}}=\\dfrac{1}{1+KP}$$\n",
    "\n",
    "よって，FB制御はFF制御と比較して，$\\frac{1}{1+KP}$倍のノイズ低減性能があることが分かるかと思います．\n",
    "なので，開ループの伝達関数$K(s)P(s)$のゲインを大きくするほど，外乱の影響を小さくすることができます． \n",
    "この伝達関数$S(s)$は**感度関数**と呼ばれ，対外乱性能における重要な指標となります．\n",
    "\n",
    "正確なモデルを作るに越したことは無いですが，出力にそれほど影響しないのならば，ある程度割り切って無視してしまうというのも選択肢の一つでしょう．  \n",
    "\n",
    "ただし， センサのノイズと外乱が一緒に入ってくる\n",
    "\n",
    "TODO:感度関数と相補感度関数  \n",
    "追従性能とノイズ低減性能"
   ]
  }
 ],
 "metadata": {
  "kernelspec": {
   "display_name": "Python 3",
   "language": "python",
   "name": "python3"
  },
  "language_info": {
   "codemirror_mode": {
    "name": "ipython",
    "version": 3
   },
   "file_extension": ".py",
   "mimetype": "text/x-python",
   "name": "python",
   "nbconvert_exporter": "python",
   "pygments_lexer": "ipython3",
   "version": "3.6.1"
  }
 },
 "nbformat": 4,
 "nbformat_minor": 2
}

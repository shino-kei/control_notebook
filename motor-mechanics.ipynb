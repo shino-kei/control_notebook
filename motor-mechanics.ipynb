{
 "cells": [
  {
   "cell_type": "code",
   "execution_count": 1,
   "metadata": {
    "scrolled": true
   },
   "outputs": [
    {
     "name": "stdout",
     "output_type": "stream",
     "text": [
      "モーターの回路方程式\n",
      "IR= \n"
     ]
    },
    {
     "data": {
      "image/png": "[encoded data removed]",
      "text/latex": [
       "$$\\frac{1}{R} \\left(- K_{E} \\dot{\\phi}_R + V_{MR}\\right)$$"
      ],
      "text/plain": [
       "-K_E⋅\\dot{\\phi}_R + V_MR\n",
       "────────────────────────\n",
       "           R            "
      ]
     },
     "metadata": {},
     "output_type": "display_data"
    },
    {
     "name": "stdout",
     "output_type": "stream",
     "text": [
      "IL= \n"
     ]
    },
    {
     "data": {
      "image/png": "[encoded data removed]",
      "text/latex": [
       "$$\\frac{1}{R} \\left(- K_{E} \\dot{\\phi}_L + V_{ML}\\right)$$"
      ],
      "text/plain": [
       "-K_E⋅\\dot{\\phi}_L + V_ML\n",
       "────────────────────────\n",
       "           R            "
      ]
     },
     "metadata": {},
     "output_type": "display_data"
    }
   ],
   "source": [
    "# -*- coding: utf-8 -*-\n",
    "from sympy import *\n",
    "from IPython.core.display import display\n",
    "init_printing()\n",
    "\n",
    "VMR, IR, dphiR = symbols('V_MR I_R \\dot{\\phi}_R')\n",
    "VML, IL, dphiL = symbols('V_ML I_L \\dot{\\phi}_L')\n",
    "R, KE = symbols('R K_E')\n",
    "eq1_R = Eq(VMR, R*IR + KE*dphiR)\n",
    "eq1_L = Eq(VML, R*IL + KE*dphiL)\n",
    "\n",
    "print('モーターの回路方程式')\n",
    "IR = solve(eq1_R, IR)[0]\n",
    "IL = solve(eq1_L, IL)[0]\n",
    "# eq1_L = Eq(IL, solve(eq1_L, IL)[0])\n",
    "\n",
    "print('IR= ')\n",
    "display(IR)\n",
    "print('IL= ')\n",
    "display(IL)"
   ]
  },
  {
   "cell_type": "code",
   "execution_count": 2,
   "metadata": {},
   "outputs": [
    {
     "name": "stdout",
     "output_type": "stream",
     "text": [
      "電流-トルクの関係式\n"
     ]
    },
    {
     "data": {
      "image/png": "[encoded data removed]",
      "text/latex": [
       "$$\\frac{K_{T}}{R} \\left(- K_{E} \\dot{\\phi}_R + V_{MR}\\right)$$"
      ],
      "text/plain": [
       "K_T⋅(-K_E⋅\\dot{\\phi}_R + V_MR)\n",
       "──────────────────────────────\n",
       "              R               "
      ]
     },
     "metadata": {},
     "output_type": "display_data"
    },
    {
     "data": {
      "image/png": "[encoded data removed]",
      "text/latex": [
       "$$\\frac{K_{T}}{R} \\left(- K_{E} \\dot{\\phi}_L + V_{ML}\\right)$$"
      ],
      "text/plain": [
       "K_T⋅(-K_E⋅\\dot{\\phi}_L + V_ML)\n",
       "──────────────────────────────\n",
       "              R               "
      ]
     },
     "metadata": {},
     "output_type": "display_data"
    }
   ],
   "source": [
    "tau_R, tau_L = symbols('tau_R tau_L')\n",
    "KT = symbols('K_T')\n",
    "\n",
    "# eq2_R = Eq(tau_R, KT*IR)\n",
    "# eq2_L = Eq(tau_L, KT*IL)\n",
    "tau_R = KT*IR\n",
    "tau_L = KT*IL\n",
    "print('電流-トルクの関係式')\n",
    "display(tau_R)\n",
    "display(tau_L)"
   ]
  },
  {
   "cell_type": "code",
   "execution_count": 3,
   "metadata": {
    "scrolled": true
   },
   "outputs": [
    {
     "data": {
      "image/png": "[encoded data removed]",
      "text/latex": [
       "$$\\dot{v} = \\frac{K_{T} N_{G}}{R m r} \\left(- K_{E} \\dot{\\phi}_L - K_{E} \\dot{\\phi}_R + V_{ML} + V_{MR}\\right)$$"
      ],
      "text/plain": [
       "          K_T⋅N_{G}⋅(-K_E⋅\\dot{\\phi}_L - K_E⋅\\dot{\\phi}_R + V_ML + V_MR)\n",
       "\\dot{v} = ──────────────────────────────────────────────────────────────\n",
       "                                      R⋅m⋅r                             "
      ]
     },
     "metadata": {},
     "output_type": "display_data"
    },
    {
     "data": {
      "image/png": "[encoded data removed]",
      "text/latex": [
       "$$v = \\frac{\\dot{\\phi}_L r}{N_{G}} + \\frac{\\dot{\\phi}_R r}{N_{G}}$$"
      ],
      "text/plain": [
       "    \\dot{\\phi}_L⋅r   \\dot{\\phi}_R⋅r\n",
       "v = ────────────── + ──────────────\n",
       "        N_{G}            N_{G}     "
      ]
     },
     "metadata": {},
     "output_type": "display_data"
    }
   ],
   "source": [
    "m, v, x, dotv, dotx = symbols('m v x \\dot{v} \\dot{x}')\n",
    "FR, FL  = symbols('F_R F_L')\n",
    "r, Ng = symbols('r N_{G}')\n",
    "FR = Ng*tau_R/r\n",
    "FL = Ng*tau_L/r\n",
    "\n",
    "eq3_v = Eq(dotv, (FR+FL)/m); \n",
    "eq3_x = Eq(v, dphiR*r/Ng+dphiL*r/Ng );\n",
    "# eq3_vx = Eq(dotx, v)\n",
    "\n",
    "display(simplify(eq3_v), eq3_x)"
   ]
  },
  {
   "cell_type": "markdown",
   "metadata": {},
   "source": [
    "ここで式を簡単にするために，\n",
    "$$ \\dot{\\phi}:= \\dot{\\phi}_R + \\dot{\\phi}_L $$\n",
    "$$ V_m := V_R + V_L$$\n",
    "と定義する．すると，"
   ]
  },
  {
   "cell_type": "code",
   "execution_count": 4,
   "metadata": {
    "scrolled": true
   },
   "outputs": [
    {
     "data": {
      "image/png": "[encoded data removed]",
      "text/latex": [
       "$$\\dot{v} = \\frac{K_{T} N_{G}}{R m r} \\left(- K_{E} \\dot{\\phi} + V_{m}\\right)$$"
      ],
      "text/plain": [
       "          K_T⋅N_{G}⋅(-K_E⋅\\dot{\\phi} + Vₘ)\n",
       "\\dot{v} = ────────────────────────────────\n",
       "                       R⋅m⋅r              "
      ]
     },
     "metadata": {},
     "output_type": "display_data"
    },
    {
     "data": {
      "image/png": "[encoded data removed]",
      "text/latex": [
       "$$v = \\frac{\\dot{\\phi} r}{N_{G}}$$"
      ],
      "text/plain": [
       "    \\dot{\\phi}⋅r\n",
       "v = ────────────\n",
       "       N_{G}    "
      ]
     },
     "metadata": {},
     "output_type": "display_data"
    },
    {
     "data": {
      "image/png": "[encoded data removed]",
      "text/latex": [
       "$$\\dot{x} = v$$"
      ],
      "text/plain": [
       "\\dot{x} = v"
      ]
     },
     "metadata": {},
     "output_type": "display_data"
    }
   ],
   "source": [
    "phi, dphi, Vm = var('\\phi \\dot{\\phi} V_m')\n",
    "\n",
    "eq4_v = Eq(dotv, (KT*Ng)/(R*m*r)*(-KE*dphi+ Vm))\n",
    "eq4_phi = Eq(v, dphi*r/Ng)\n",
    "eq4_x = Eq(dotx, v)\n",
    "\n",
    "display(eq4_v, eq4_phi, eq4_x)"
   ]
  },
  {
   "cell_type": "markdown",
   "metadata": {},
   "source": [
    "#### この式を $\\dot{x},\\dot{v},\\dot{phi}$について整理してみます．すると次のような状態方程式が得られます．"
   ]
  },
  {
   "cell_type": "code",
   "execution_count": 5,
   "metadata": {},
   "outputs": [
    {
     "data": {
      "image/png": "[encoded data removed]",
      "text/latex": [
       "$$\\dot{x} = v$$"
      ],
      "text/plain": [
       "\\dot{x} = v"
      ]
     },
     "metadata": {},
     "output_type": "display_data"
    },
    {
     "data": {
      "image/png": "[encoded data removed]",
      "text/latex": [
       "$$\\dot{v} = - \\frac{K_{E} K_{T} N_{G}^{2} v}{R m r^{2}} + \\frac{K_{T} N_{G} V_{m}}{R m r}$$"
      ],
      "text/plain": [
       "                         2                 \n",
       "            K_E⋅K_T⋅N_{G} ⋅v   K_T⋅N_{G}⋅Vₘ\n",
       "\\dot{v} = - ──────────────── + ────────────\n",
       "                      2           R⋅m⋅r    \n",
       "                 R⋅m⋅r                     "
      ]
     },
     "metadata": {},
     "output_type": "display_data"
    },
    {
     "data": {
      "image/png": "[encoded data removed]",
      "text/latex": [
       "$$\\dot{\\phi} = \\frac{N_{G} v}{r}$$"
      ],
      "text/plain": [
       "             N_{G}⋅v\n",
       "\\dot{\\phi} = ───────\n",
       "                r   "
      ]
     },
     "metadata": {},
     "output_type": "display_data"
    }
   ],
   "source": [
    "sols = solve([eq4_v, eq4_phi, eq4_x], [dotv, dphi, dotx])\n",
    "\n",
    "eq_sol_v = Eq(dotv, sols[dotv])\n",
    "eq_sol_phi = Eq(dphi, sols[dphi])\n",
    "eq_sol_x = Eq(dotx, sols[dotx])\n",
    "\n",
    "display(eq_sol_x, expand(eq_sol_v),eq_sol_phi)"
   ]
  },
  {
   "cell_type": "code",
   "execution_count": 6,
   "metadata": {},
   "outputs": [
    {
     "data": {
      "text/latex": [
       "$$\\left[\\begin{matrix}0 & - \\frac{K_{E} K_{T} m}{N_{G} R r} & 0\\\\0 & - \\frac{K_{E} K_{T} m}{N_{G} R r} & 0\\\\0 & \\frac{1}{N_{G} r} & 0\\end{matrix}\\right]$$"
      ],
      "text/plain": [
       "⎡   -K_E⋅K_T⋅m    ⎤\n",
       "⎢0  ───────────  0⎥\n",
       "⎢    N_{G}⋅R⋅r    ⎥\n",
       "⎢                 ⎥\n",
       "⎢   -K_E⋅K_T⋅m    ⎥\n",
       "⎢0  ───────────  0⎥\n",
       "⎢    N_{G}⋅R⋅r    ⎥\n",
       "⎢                 ⎥\n",
       "⎢        1        ⎥\n",
       "⎢0    ───────    0⎥\n",
       "⎣     N_{G}⋅r     ⎦"
      ]
     },
     "metadata": {},
     "output_type": "display_data"
    },
    {
     "data": {
      "text/latex": [
       "$$\\left[\\begin{matrix}0\\\\\\frac{K_{T} m}{R} r\\\\0\\end{matrix}\\right]$$"
      ],
      "text/plain": [
       "⎡   0   ⎤\n",
       "⎢       ⎥\n",
       "⎢K_T⋅m⋅r⎥\n",
       "⎢───────⎥\n",
       "⎢   R   ⎥\n",
       "⎢       ⎥\n",
       "⎣   0   ⎦"
      ]
     },
     "metadata": {},
     "output_type": "display_data"
    }
   ],
   "source": [
    "a = -(KT*KE*m)/(Ng*R*r)\n",
    "b = (KT*m*r)/R\n",
    "c = 1/(Ng*r)\n",
    "A = Matrix([ [0,a,0], [0,a,0], [0,c,0]])\n",
    "B = Matrix([0, b, 0])\n",
    "\n",
    "display(A,B)"
   ]
  },
  {
   "cell_type": "code",
   "execution_count": 7,
   "metadata": {},
   "outputs": [
    {
     "data": {
      "image/png": "[encoded data removed]",
      "text/plain": [
       "<matplotlib.figure.Figure at 0x191d664fbe0>"
      ]
     },
     "metadata": {},
     "output_type": "display_data"
    }
   ],
   "source": [
    "from control import *\n",
    "import numpy as np\n",
    "from matplotlib import pylab as plt\n",
    "%matplotlib inline\n",
    "\n",
    "\n",
    "# パラメータの設定\n",
    "# 回路定数 (MK06-4.5の場合)\n",
    "R = 5.0; # ohm\n",
    "KE = 7.1504e-04; # 逆起電力定数[V/(rad/s)]\n",
    "KT = 6.5e-04; # トルク定数[Nm/I]\n",
    "Vbat = 4.0; # モータドライバの電源電圧[V]\n",
    "\n",
    "\n",
    "# 機体パラメータ\n",
    "Ng = 3.0;          # ギアの減速比(モーター：ホイール=1:n)\n",
    "r = 7.5e-03;    # タイヤ半径[m]\n",
    "m = 75e-03;     # 機体重量[kg]\n",
    "w = 30e-03;     # 機体の中心から右端までの距離(横幅/2) [m]\n",
    "h = 45e-03;     # 機体の中心から先端までの距離(縦幅/2) [m]\n",
    "# J = 1/3*(w**2+h**2)*m; # 機体の慣性モーメント(形状を長方形に近似)\n",
    "\n",
    "a = -(KT*KE*Ng**2)/(R*m*r**2)\n",
    "b = (KT*Ng)/(m*r*R)\n",
    "c = 1/(Ng*r)\n",
    "A = np.array([ [0,1,0], [0,a,0], [0,c,0]])\n",
    "B = np.array([[0], [b], [0]])\n",
    "C = np.array([[0,1,0]])\n",
    "\n",
    "# 状態空間形式(dX/dt = Ax + Bu, y = Cx)でシステムを表現\n",
    "# sys = StateSpace(A, B, C, 0)\n",
    "sys = StateSpace(A, B, C, 0)\n",
    "\n",
    "t = np.linspace(0, 20, 1000)\n",
    "yout, T = matlab.step(sys, t)\n",
    "\n",
    "\n",
    "plt.plot(T, yout)\n",
    "plt.axhline(1, color=\"b\", linestyle=\"--\");\n",
    "plt.xlim(0, 20);\n",
    "plt.title('Step Response'); # 日本語使えないつらい"
   ]
  },
  {
   "cell_type": "code",
   "execution_count": null,
   "metadata": {},
   "outputs": [],
   "source": []
  }
 ],
 "metadata": {
  "kernelspec": {
   "display_name": "Python 3",
   "language": "python",
   "name": "python3"
  },
  "language_info": {
   "codemirror_mode": {
    "name": "ipython",
    "version": 3
   },
   "file_extension": ".py",
   "mimetype": "text/x-python",
   "name": "python",
   "nbconvert_exporter": "python",
   "pygments_lexer": "ipython3",
   "version": "3.6.1"
  }
 },
 "nbformat": 4,
 "nbformat_minor": 2
}

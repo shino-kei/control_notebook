{
 "cells": [
  {
   "cell_type": "code",
   "execution_count": 1,
   "metadata": {},
   "outputs": [
    {
     "name": "stdout",
     "output_type": "stream",
     "text": [
      "モーターの回路方程式\n"
     ]
    },
    {
     "data": {
      "image/png": "[encoded data removed]",
      "text/latex": [
       "$$V_{MR} = I_{R} R + K_{E} \\omega_R$$"
      ],
      "text/plain": [
       "V_MR = I_R⋅R + K_E⋅\\omega_R"
      ]
     },
     "execution_count": 1,
     "metadata": {},
     "output_type": "execute_result"
    }
   ],
   "source": [
    "from sympy import *\n",
    "init_printing()\n",
    "\n",
    "Vmr, Ir, wr = symbols('V_MR I_R \\omega_R')\n",
    "R, KE = symbols('R K_E')\n",
    "eq1 = Eq(Vmr, R*Ir + KE*wr)\n",
    "\n",
    "print('モーターの回路方程式')\n",
    "eq1\n"
   ]
  },
  {
   "cell_type": "code",
   "execution_count": 2,
   "metadata": {},
   "outputs": [
    {
     "name": "stdout",
     "output_type": "stream",
     "text": [
      "トルク\n"
     ]
    },
    {
     "data": {
      "image/png": "[encoded data removed]",
      "text/latex": [
       "$$\\tau_{R} = I_{R} K_{T}$$"
      ],
      "text/plain": [
       "τ_R = I_R⋅K_T"
      ]
     },
     "execution_count": 2,
     "metadata": {},
     "output_type": "execute_result"
    }
   ],
   "source": [
    "tau_r = symbols('tau_R')\n",
    "KT = symbols('K_T')\n",
    "\n",
    "eq2 = Eq(tau_r, KT*Ir)\n",
    "print('トルク')\n",
    "eq2"
   ]
  },
  {
   "cell_type": "code",
   "execution_count": 3,
   "metadata": {
    "scrolled": true
   },
   "outputs": [
    {
     "data": {
      "image/png": "[encoded data removed]",
      "text/latex": [
       "$$\\left [ \\frac{1}{K_{E}} \\left(- I_{R} R + V_{MR}\\right)\\right ]$$"
      ],
      "text/plain": [
       "⎡-I_R⋅R + V_MR⎤\n",
       "⎢─────────────⎥\n",
       "⎣     K_E     ⎦"
      ]
     },
     "execution_count": 3,
     "metadata": {},
     "output_type": "execute_result"
    }
   ],
   "source": [
    "solve(eq1, (wr))"
   ]
  },
  {
   "cell_type": "code",
   "execution_count": 4,
   "metadata": {},
   "outputs": [],
   "source": [
    "from sympy import var\n",
    "\n",
    "Ldy, Ldz = var('\\dot{L}_y \\dot{L}_z')\n",
    "g, x, y, z = var('g x y z')\n",
    "xZ, yZ, zZ = var('x_Z y_Z z_Z')\n",
    "xdd, ydd, zdd = var('\\ddot{x} \\ddot{y} \\ddot{z} ')"
   ]
  },
  {
   "cell_type": "code",
   "execution_count": 10,
   "metadata": {
    "scrolled": false
   },
   "outputs": [
    {
     "data": {
      "image/png": "[encoded data removed]",
      "text/latex": [
       "$$\\ddot{x} z + \\left(\\ddot{z} + g\\right) \\left(- x + x_{Z}\\right) = 0$$"
      ],
      "text/plain": [
       "\\ddot{x}⋅z + (\\ddot{z} + g)⋅(-x + x_Z) = 0"
      ]
     },
     "metadata": {},
     "output_type": "display_data"
    },
    {
     "data": {
      "image/png": "[encoded data removed]",
      "text/latex": [
       "$$\\ddot{y} z - \\dot{L}_y + \\left(\\ddot{z} + g\\right) \\left(- y + y_{Z}\\right) = 0$$"
      ],
      "text/plain": [
       "\\ddot{y}⋅z - \\dot{L}_y + (\\ddot{z} + g)⋅(-y + y_Z) = 0"
      ]
     },
     "metadata": {},
     "output_type": "display_data"
    },
    {
     "data": {
      "image/png": "[encoded data removed]",
      "text/latex": [
       "$$- \\ddot{x} y + \\ddot{y} x + \\dot{L}_z - z_{Z} \\left(\\ddot{z} + g\\right) = 0$$"
      ],
      "text/plain": [
       "-\\ddot{x}⋅y + \\ddot{y}⋅x + \\dot{L}_z - z_Z⋅(\\ddot{z} + g) = 0"
      ]
     },
     "metadata": {},
     "output_type": "display_data"
    }
   ],
   "source": [
    "from sympy import solve\n",
    "from IPython.display import display\n",
    "\n",
    "E1 = Eq(z * xdd + (xZ - x) * (g + zdd))\n",
    "E2 = Eq(z * ydd + (yZ - y) * (g + zdd) - Ldy)\n",
    "E3 = Eq(-y * xdd + x * ydd - zZ * (g + zdd) + Ldz)\n",
    "display(E1)\n",
    "display(E2)\n",
    "display(E3)\n",
    "\n",
    "sols = solve([E1, E2, E3], [xdd, ydd, Ldy])\n",
    "\n"
   ]
  },
  {
   "cell_type": "code",
   "execution_count": 6,
   "metadata": {},
   "outputs": [
    {
     "data": {
      "image/png": "[encoded data removed]",
      "text/latex": [
       "$$\\ddot{x} = \\frac{1}{z} \\left(\\ddot{z} x - \\ddot{z} x_{Z} + g x - g x_{Z}\\right)$$"
      ],
      "text/plain": [
       "           \\ddot{z}⋅x - \\ddot{z}⋅x_Z + g⋅x - g⋅x_Z\n",
       "\\ddot{x} = ───────────────────────────────────────\n",
       "                              z                   "
      ]
     },
     "metadata": {},
     "output_type": "display_data"
    },
    {
     "data": {
      "image/png": "[encoded data removed]",
      "text/latex": [
       "$$\\ddot{y} = \\frac{1}{x z} \\left(y \\left(\\ddot{z} x - \\ddot{z} x_{Z} + g x - g x_{Z}\\right) + z \\left(\\ddot{z} z_{Z} - \\dot{L}_z + g z_{Z}\\right)\\right)$$"
      ],
      "text/plain": [
       "           y⋅(\\ddot{z}⋅x - \\ddot{z}⋅x_Z + g⋅x - g⋅x_Z) + z⋅(\\ddot{z}⋅z_Z - \\do\n",
       "\\ddot{y} = ───────────────────────────────────────────────────────────────────\n",
       "                                                  x⋅z                         \n",
       "\n",
       "t{L}_z + g⋅z_Z)\n",
       "───────────────\n",
       "               "
      ]
     },
     "metadata": {},
     "output_type": "display_data"
    },
    {
     "data": {
      "image/png": "[encoded data removed]",
      "text/latex": [
       "$$\\dot{L}_y = \\frac{1}{x} \\left(\\ddot{z} x y_{Z} - \\ddot{z} x_{Z} y + \\ddot{z} z z_{Z} - \\dot{L}_z z + g x y_{Z} - g x_{Z} y + g z z_{Z}\\right)$$"
      ],
      "text/plain": [
       "            \\ddot{z}⋅x⋅y_Z - \\ddot{z}⋅x_Z⋅y + \\ddot{z}⋅z⋅z_Z - \\dot{L}_z⋅z + g\n",
       "\\dot{L}_y = ──────────────────────────────────────────────────────────────────\n",
       "                                                         x                    \n",
       "\n",
       "⋅x⋅y_Z - g⋅x_Z⋅y + g⋅z⋅z_Z\n",
       "──────────────────────────\n",
       "                          "
      ]
     },
     "metadata": {},
     "output_type": "display_data"
    }
   ],
   "source": [
    "display(Eq(xdd,sols[xdd]))\n",
    "display(Eq(ydd,sols[ydd]))\n",
    "display(Eq(Ldy,sols[Ldy]))\n"
   ]
  }
 ],
 "metadata": {
  "kernelspec": {
   "display_name": "Python 3",
   "language": "python",
   "name": "python3"
  },
  "language_info": {
   "codemirror_mode": {
    "name": "ipython",
    "version": 3
   },
   "file_extension": ".py",
   "mimetype": "text/x-python",
   "name": "python",
   "nbconvert_exporter": "python",
   "pygments_lexer": "ipython3",
   "version": "3.6.1"
  }
 },
 "nbformat": 4,
 "nbformat_minor": 2
}

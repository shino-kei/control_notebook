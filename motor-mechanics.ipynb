{
 "cells": [
  {
   "cell_type": "code",
   "execution_count": 1,
   "metadata": {
    "scrolled": true
   },
   "outputs": [
    {
     "name": "stdout",
     "output_type": "stream",
     "text": [
      "モーターの回路方程式\n",
      "IR= \n"
     ]
    },
    {
     "data": {
      "image/png": "[encoded data removed]",
      "text/latex": [
       "$$\\frac{1}{R} \\left(- K_{E} \\dot{\\phi}_R + V_{MR}\\right)$$"
      ],
      "text/plain": [
       "-K_E⋅\\dot{\\phi}_R + V_MR\n",
       "────────────────────────\n",
       "           R            "
      ]
     },
     "metadata": {},
     "output_type": "display_data"
    },
    {
     "name": "stdout",
     "output_type": "stream",
     "text": [
      "IL= \n"
     ]
    },
    {
     "data": {
      "image/png": "[encoded data removed]",
      "text/latex": [
       "$$\\frac{1}{R} \\left(- K_{E} \\dot{\\phi}_L + V_{ML}\\right)$$"
      ],
      "text/plain": [
       "-K_E⋅\\dot{\\phi}_L + V_ML\n",
       "────────────────────────\n",
       "           R            "
      ]
     },
     "metadata": {},
     "output_type": "display_data"
    }
   ],
   "source": [
    "# -*- coding: utf-8 -*-\n",
    "from sympy import *\n",
    "from IPython.core.display import display\n",
    "init_printing()\n",
    "\n",
    "VMR, IR, dphiR = symbols('V_MR I_R \\dot{\\phi}_R')\n",
    "VML, IL, dphiL = symbols('V_ML I_L \\dot{\\phi}_L')\n",
    "R, KE = symbols('R K_E')\n",
    "eq1_R = Eq(VMR, R*IR + KE*dphiR)\n",
    "eq1_L = Eq(VML, R*IL + KE*dphiL)\n",
    "\n",
    "print('モーターの回路方程式')\n",
    "IR = solve(eq1_R, IR)[0]\n",
    "IL = solve(eq1_L, IL)[0]\n",
    "# eq1_L = Eq(IL, solve(eq1_L, IL)[0])\n",
    "\n",
    "print('IR= ')\n",
    "display(IR)\n",
    "print('IL= ')\n",
    "display(IL)"
   ]
  },
  {
   "cell_type": "code",
   "execution_count": 2,
   "metadata": {},
   "outputs": [
    {
     "name": "stdout",
     "output_type": "stream",
     "text": [
      "電流-トルクの関係式\n"
     ]
    },
    {
     "data": {
      "image/png": "[encoded data removed]",
      "text/latex": [
       "$$\\frac{K_{T}}{R} \\left(- K_{E} \\dot{\\phi}_R + V_{MR}\\right)$$"
      ],
      "text/plain": [
       "K_T⋅(-K_E⋅\\dot{\\phi}_R + V_MR)\n",
       "──────────────────────────────\n",
       "              R               "
      ]
     },
     "metadata": {},
     "output_type": "display_data"
    },
    {
     "data": {
      "image/png": "[encoded data removed]",
      "text/latex": [
       "$$\\frac{K_{T}}{R} \\left(- K_{E} \\dot{\\phi}_L + V_{ML}\\right)$$"
      ],
      "text/plain": [
       "K_T⋅(-K_E⋅\\dot{\\phi}_L + V_ML)\n",
       "──────────────────────────────\n",
       "              R               "
      ]
     },
     "metadata": {},
     "output_type": "display_data"
    }
   ],
   "source": [
    "tau_R, tau_L = symbols('tau_R tau_L')\n",
    "KT = symbols('K_T')\n",
    "\n",
    "# eq2_R = Eq(tau_R, KT*IR)\n",
    "# eq2_L = Eq(tau_L, KT*IL)\n",
    "tau_R = KT*IR\n",
    "tau_L = KT*IL\n",
    "print('電流-トルクの関係式')\n",
    "display(tau_R)\n",
    "display(tau_L)"
   ]
  },
  {
   "cell_type": "code",
   "execution_count": 3,
   "metadata": {
    "scrolled": true
   },
   "outputs": [
    {
     "data": {
      "image/png": "[encoded data removed]",
      "text/latex": [
       "$$\\dot{v} = \\frac{K_{T} N_{G}}{R m r} \\left(- K_{E} \\dot{\\phi}_L - K_{E} \\dot{\\phi}_R + V_{ML} + V_{MR}\\right)$$"
      ],
      "text/plain": [
       "          K_T⋅N_{G}⋅(-K_E⋅\\dot{\\phi}_L - K_E⋅\\dot{\\phi}_R + V_ML + V_MR)\n",
       "\\dot{v} = ──────────────────────────────────────────────────────────────\n",
       "                                      R⋅m⋅r                             "
      ]
     },
     "metadata": {},
     "output_type": "display_data"
    },
    {
     "data": {
      "image/png": "[encoded data removed]",
      "text/latex": [
       "$$v = \\frac{\\dot{\\phi}_L r}{N_{G}} + \\frac{\\dot{\\phi}_R r}{N_{G}}$$"
      ],
      "text/plain": [
       "    \\dot{\\phi}_L⋅r   \\dot{\\phi}_R⋅r\n",
       "v = ────────────── + ──────────────\n",
       "        N_{G}            N_{G}     "
      ]
     },
     "metadata": {},
     "output_type": "display_data"
    }
   ],
   "source": [
    "m, v, x, dotv, dotx = symbols('m v x \\dot{v} \\dot{x}')\n",
    "FR, FL  = symbols('F_R F_L')\n",
    "r, Ng = symbols('r N_{G}')\n",
    "FR = Ng*tau_R/r\n",
    "FL = Ng*tau_L/r\n",
    "\n",
    "eq3_v = Eq(dotv, (FR+FL)/m); \n",
    "eq3_x = Eq(v, dphiR*r/Ng+dphiL*r/Ng );\n",
    "# eq3_vx = Eq(dotx, v)\n",
    "\n",
    "display(simplify(eq3_v), eq3_x)"
   ]
  },
  {
   "cell_type": "markdown",
   "metadata": {},
   "source": [
    "ここで式を簡単にするために，\n",
    "$$ \\dot{\\phi}:= \\dot{\\phi}_R + \\dot{\\phi}_L $$\n",
    "$$ V_m := V_R + V_L$$\n",
    "と定義する．すると，"
   ]
  },
  {
   "cell_type": "code",
   "execution_count": 4,
   "metadata": {
    "scrolled": true
   },
   "outputs": [
    {
     "data": {
      "image/png": "[encoded data removed]",
      "text/latex": [
       "$$\\dot{x} = v$$"
      ],
      "text/plain": [
       "\\dot{x} = v"
      ]
     },
     "metadata": {},
     "output_type": "display_data"
    },
    {
     "data": {
      "image/png": "[encoded data removed]",
      "text/latex": [
       "$$\\dot{v} = \\frac{K_{T} N_{G}}{R m r} \\left(- K_{E} \\dot{\\phi} + V_{m}\\right)$$"
      ],
      "text/plain": [
       "          K_T⋅N_{G}⋅(-K_E⋅\\dot{\\phi} + V_m)\n",
       "\\dot{v} = ─────────────────────────────────\n",
       "                        R⋅m⋅r              "
      ]
     },
     "metadata": {},
     "output_type": "display_data"
    },
    {
     "data": {
      "image/png": "[encoded data removed]",
      "text/latex": [
       "$$v = \\frac{\\dot{\\phi} r}{N_{G}}$$"
      ],
      "text/plain": [
       "    \\dot{\\phi}⋅r\n",
       "v = ────────────\n",
       "       N_{G}    "
      ]
     },
     "metadata": {},
     "output_type": "display_data"
    }
   ],
   "source": [
    "# TODO: 等式に代入することはできる？\n",
    "phi, dphi, Vm = var('\\phi \\dot{\\phi} V_m')\n",
    "\n",
    "eq4_x = Eq(dotx, v)\n",
    "eq4_v = Eq(dotv, (KT*Ng)/(R*m*r)*(-KE*dphi+ Vm))\n",
    "eq4_phi = Eq(v, dphi*r/Ng)\n",
    "\n",
    "display(eq4_x,eq4_v, eq4_phi)"
   ]
  },
  {
   "cell_type": "markdown",
   "metadata": {},
   "source": [
    "#### この式を $\\dot{x},\\dot{v},\\dot{phi}$について整理してみます．すると次のような状態方程式が得られます．"
   ]
  },
  {
   "cell_type": "code",
   "execution_count": 5,
   "metadata": {},
   "outputs": [
    {
     "data": {
      "image/png": "[encoded data removed]",
      "text/latex": [
       "$$\\dot{x} = v$$"
      ],
      "text/plain": [
       "\\dot{x} = v"
      ]
     },
     "metadata": {},
     "output_type": "display_data"
    },
    {
     "data": {
      "image/png": "[encoded data removed]",
      "text/latex": [
       "$$\\dot{v} = - \\frac{K_{E} K_{T} N_{G}^{2} v}{R m r^{2}} + \\frac{K_{T} N_{G} V_{m}}{R m r}$$"
      ],
      "text/plain": [
       "                         2                  \n",
       "            K_E⋅K_T⋅N_{G} ⋅v   K_T⋅N_{G}⋅V_m\n",
       "\\dot{v} = - ──────────────── + ─────────────\n",
       "                      2            R⋅m⋅r    \n",
       "                 R⋅m⋅r                      "
      ]
     },
     "metadata": {},
     "output_type": "display_data"
    },
    {
     "data": {
      "image/png": "[encoded data removed]",
      "text/latex": [
       "$$\\dot{\\phi} = \\frac{N_{G} v}{r}$$"
      ],
      "text/plain": [
       "             N_{G}⋅v\n",
       "\\dot{\\phi} = ───────\n",
       "                r   "
      ]
     },
     "metadata": {},
     "output_type": "display_data"
    }
   ],
   "source": [
    "sols = solve([eq4_v, eq4_phi, eq4_x], [dotv, dphi, dotx])\n",
    "\n",
    "eq_sol_v = Eq(dotv, sols[dotv])\n",
    "eq_sol_phi = Eq(dphi, sols[dphi])\n",
    "eq_sol_x = Eq(dotx, sols[dotx])\n",
    "\n",
    "display(eq_sol_x, expand(eq_sol_v),eq_sol_phi)\n",
    "polv = Poly(sols[dotv], v)\n",
    "polp = Poly(sols[dphi], v)\n",
    "\n",
    "a = polv.coeffs()[0] # polvの0番目の係数\n",
    "b = polv.coeffs()[1] # polvの1番目の係数\n",
    "c = polp.coeffs()[0] # polpの0番目の係数"
   ]
  },
  {
   "cell_type": "code",
   "execution_count": 6,
   "metadata": {
    "scrolled": true
   },
   "outputs": [
    {
     "name": "stdout",
     "output_type": "stream",
     "text": [
      "<DCマウスの状態方程式>\n"
     ]
    },
    {
     "data": {
      "text/latex": [
       "$$\\left[\\begin{matrix}\\dot{x}\\\\\\dot{v}\\\\\\dot{\\phi}\\end{matrix}\\right] = \\left[\\begin{matrix}0 & 1 & 0\\\\0 & - \\frac{K_{E} K_{T} N_{G}^{2}}{R m r^{2}} & 0\\\\0 & \\frac{N_{G}}{r} & 0\\end{matrix}\\right] \\left[\\begin{matrix}x\\\\v\\\\\\phi\\end{matrix}\\right] + \\left[\\begin{matrix}0\\\\\\frac{K_{T} N_{G} V_{m}}{R m r}\\\\0\\end{matrix}\\right] V_{m}$$"
      ],
      "text/plain": [
       "⎡ \\dot{x}  ⎤ = ⎡0         1          0⎤⋅⎡ x  ⎤ + ⎡      0      ⎤⋅V_m\n",
       "⎢          ⎥   ⎢                      ⎥ ⎢    ⎥   ⎢             ⎥    \n",
       "⎢ \\dot{v}  ⎥   ⎢                 2    ⎥ ⎢ v  ⎥   ⎢K_T⋅N_{G}⋅V_m⎥    \n",
       "⎢          ⎥   ⎢   -K_E⋅K_T⋅N_{G}     ⎥ ⎢    ⎥   ⎢─────────────⎥    \n",
       "⎣\\dot{\\phi}⎦   ⎢0  ────────────────  0⎥ ⎣\\phi⎦   ⎢    R⋅m⋅r    ⎥    \n",
       "               ⎢             2        ⎥          ⎢             ⎥    \n",
       "               ⎢        R⋅m⋅r         ⎥          ⎣      0      ⎦    \n",
       "               ⎢                      ⎥                             \n",
       "               ⎢        N_{G}         ⎥                             \n",
       "               ⎢0       ─────        0⎥                             \n",
       "               ⎣          r           ⎦                             "
      ]
     },
     "execution_count": 6,
     "metadata": {},
     "output_type": "execute_result"
    }
   ],
   "source": [
    "A = Matrix([ [0,1,0], [0,a,0], [0,c,0]])\n",
    "B = Matrix([0, b, 0])\n",
    "X = Matrix([x, v, phi])\n",
    "dX = Matrix([dotx, dotv, dphi])\n",
    "\n",
    "print('<DCマウスの状態方程式>')\n",
    "Eq(dX, MatAdd(MatMul(A,X), MatMul(B,Vm)))"
   ]
  },
  {
   "cell_type": "markdown",
   "metadata": {},
   "source": [
    "DCマウスのモデルは上記の式で与えられることが分かりました．\n",
    "#### それでは，この式を用いてまずはモーターに一定値入力を与えたときのマイクロマウスの直進走行をシミューレションしてみましょう．\n"
   ]
  },
  {
   "cell_type": "code",
   "execution_count": 27,
   "metadata": {},
   "outputs": [
    {
     "data": {
      "application/vnd.jupyter.widget-view+json": {
       "model_id": "6f9cc7de08eb4ffa8cdd6fec11809500"
      }
     },
     "metadata": {},
     "output_type": "display_data"
    }
   ],
   "source": [
    "from control import *\n",
    "import numpy as np\n",
    "from matplotlib import pylab as plt\n",
    "%matplotlib inline\n",
    "\n",
    "from __future__ import print_function\n",
    "from ipywidgets import interact, FloatSlider, RadioButtons\n",
    "\n",
    "# スライドバーで動かせるプロットを作成\n",
    "\n",
    "@interact(gear_ratio=(1.0, 10, 0.1), motor_duty=(0, 1.0, 0.01), mass_gram=(5, 200, 0.5), show_legend=True)\n",
    "def f(gear_ratio, motor_duty, mass_gram, show_legend):\n",
    "    Ng = gear_ratio; # ギアの減速比(モーター：ホイール=1:n)\n",
    "    m = mass_gram/1000;\n",
    "    \n",
    "    # パラメータの設定\n",
    "    # 回路定数 (MK06-4.5の場合)\n",
    "    R = 5.0; # ohm\n",
    "    KE = 7.1504e-04; # 逆起電力定数[V/(rad/s)]\n",
    "    KT = 6.5e-04; # トルク定数[Nm/I]\n",
    "    Vbat = 4.0; # モータドライバの電源電圧[V]\n",
    "\n",
    "    # 機体パラメータ\n",
    "#     Ng = 3.0;          # ギアの減速比(モーター：ホイール=1:n)\n",
    "    r = 7.5e-03;    # タイヤ半径[m]\n",
    "#     m = 75e-03;     # 機体重量[kg]\n",
    "    w = 30e-03;     # 機体の中心から右端までの距離(横幅/2) [m]\n",
    "    h = 45e-03;     # 機体の中心から先端までの距離(縦幅/2) [m]\n",
    "    # J = 1/3*(w**2+h**2)*m; # 機体の慣性モーメント(形状を長方形に近似)\n",
    "\n",
    "    \n",
    "    # 状態空間形式(dX/dt = AX + Bu, y = Cx)でシステムを表現    \n",
    "    a = -(KT*KE*Ng**2)/(R*m*r**2)\n",
    "    b = (2*motor_duty*Vbat) * (KT*Ng)/(m*r*R) # Vm = (2*motor_duty*Vbat)*u と置いた\n",
    "    c = 1/(Ng*r)\n",
    "    A = np.array([ [0,1,0], [0,a,0], [0,c,0]]) \n",
    "    B = np.array([[0], [b], [0]])\n",
    "    C = np.array([[0,1,0]])\n",
    "    sys = StateSpace(A, B, C, 0)\n",
    "\n",
    "    # 線形シミュレーション:ステップ入力 u(t)=1 (t>0)\n",
    "    t = np.linspace(0, 20, 1000)\n",
    "    yout, T = matlab.step(sys, t) \n",
    "\n",
    "    plt.plot(T, yout,label='v')\n",
    "    plt.axhline(b/-a, color=\"b\", linestyle=\"--\", label='steady state');\n",
    "    plt.xlim(0, 20);plt.ylim(0,20);\n",
    "    plt.xlabel('time t[s]');plt.ylabel('speed X [m/s]')\n",
    "    plt.title('Step Response (Input: Vm)');  # 日本語使えないつらい\n",
    "    if show_legend:plt.legend()\n",
    "    plt.show();\n"
   ]
  },
  {
   "cell_type": "code",
   "execution_count": null,
   "metadata": {
    "collapsed": true
   },
   "outputs": [],
   "source": []
  }
 ],
 "metadata": {
  "kernelspec": {
   "display_name": "Python 2",
   "language": "python",
   "name": "python2"
  },
  "language_info": {
   "codemirror_mode": {
    "name": "ipython",
    "version": 2
   },
   "file_extension": ".py",
   "mimetype": "text/x-python",
   "name": "python",
   "nbconvert_exporter": "python",
   "pygments_lexer": "ipython2",
   "version": "2.7.12"
  }
 },
 "nbformat": 4,
 "nbformat_minor": 2
}

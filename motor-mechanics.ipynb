{
 "cells": [
  {
   "cell_type": "markdown",
   "metadata": {
    "slideshow": {
     "slide_type": "slide"
    }
   },
   "source": [
    "# マイクロマウスのモデリング\n",
    "\n",
    "マイクロマウスの動きをシミュレーションするために，まずはどのようなダイナミクスにしたがって運動するかを数式で記述する必要があります．  \n",
    "マイクロマウスの場合，回路を流れる電流によってモーターにトルクが発生し，タイヤと地面との摩擦力によって並進方向の力が生じるので，  \n",
    "運動方程式と回路方程式を中心に式を組み立てていくといいでしょう．\n",
    "\n",
    "![](img/motor_circuit_01.png)\n",
    "\n"
   ]
  },
  {
   "cell_type": "code",
   "execution_count": 1,
   "metadata": {
    "scrolled": true,
    "slideshow": {
     "slide_type": "slide"
    }
   },
   "outputs": [
    {
     "name": "stdout",
     "output_type": "stream",
     "text": [
      "<モーターの回路方程式>\n"
     ]
    },
    {
     "data": {
      "image/png": "[encoded data removed]",
      "text/latex": [
       "$$I_{R} = \\frac{1}{R} \\left(- K_{E} \\dot{\\phi}_R + V_{MR}\\right)$$"
      ],
      "text/plain": [
       "      -K_E⋅\\dot{\\phi}_R + V_MR\n",
       "I_R = ────────────────────────\n",
       "                 R            "
      ]
     },
     "metadata": {},
     "output_type": "display_data"
    },
    {
     "data": {
      "image/png": "[encoded data removed]",
      "text/latex": [
       "$$I_{L} = \\frac{1}{R} \\left(- K_{E} \\dot{\\phi}_L + V_{ML}\\right)$$"
      ],
      "text/plain": [
       "      -K_E⋅\\dot{\\phi}_L + V_ML\n",
       "I_L = ────────────────────────\n",
       "                 R            "
      ]
     },
     "metadata": {},
     "output_type": "display_data"
    }
   ],
   "source": [
    "# -*- coding: utf-8 -*-\n",
    "from sympy import *\n",
    "from IPython.core.display import display\n",
    "init_printing()\n",
    "\n",
    "VMR, IR, dphiR = symbols('V_MR I_R \\dot{\\phi}_R')\n",
    "VML, IL, dphiL = symbols('V_ML I_L \\dot{\\phi}_L')\n",
    "R, KE = symbols('R K_E')\n",
    "eq1_R = Eq(VMR, R*IR + KE*dphiR)\n",
    "eq1_L = Eq(VML, R*IL + KE*dphiL)\n",
    "\n",
    "print('<モーターの回路方程式>')\n",
    "IR = solve(eq1_R, IR)[0]\n",
    "IL = solve(eq1_L, IL)[0]\n",
    "# eq1_L = Eq(IL, solve(eq1_L, IL)[0])\n",
    "\n",
    "display(Eq(symbols('I_R'), IR))\n",
    "display(Eq(symbols('I_L'), IL))"
   ]
  },
  {
   "cell_type": "code",
   "execution_count": 2,
   "metadata": {
    "slideshow": {
     "slide_type": "slide"
    }
   },
   "outputs": [
    {
     "name": "stdout",
     "output_type": "stream",
     "text": [
      "\n",
      "<電流-トルクの関係式>\n"
     ]
    },
    {
     "data": {
      "image/png": "[encoded data removed]",
      "text/latex": [
       "$$\\tau_{R} = I_{R} K_{T}$$"
      ],
      "text/plain": [
       "τ_R = I_R⋅K_T"
      ]
     },
     "metadata": {},
     "output_type": "display_data"
    },
    {
     "data": {
      "image/png": "[encoded data removed]",
      "text/latex": [
       "$$\\tau_{L} = I_{L} K_{T}$$"
      ],
      "text/plain": [
       "τ_L = I_L⋅K_T"
      ]
     },
     "metadata": {},
     "output_type": "display_data"
    },
    {
     "name": "stdout",
     "output_type": "stream",
     "text": [
      "\n",
      "<電圧-トルクの関係式>\n"
     ]
    },
    {
     "data": {
      "image/png": "[encoded data removed]",
      "text/latex": [
       "$$\\tau_{R} = \\frac{K_{T}}{R} \\left(- K_{E} \\dot{\\phi}_R + V_{MR}\\right)$$"
      ],
      "text/plain": [
       "      K_T⋅(-K_E⋅\\dot{\\phi}_R + V_MR)\n",
       "τ_R = ──────────────────────────────\n",
       "                    R               "
      ]
     },
     "metadata": {},
     "output_type": "display_data"
    },
    {
     "data": {
      "image/png": "[encoded data removed]",
      "text/latex": [
       "$$\\tau_{L} = \\frac{K_{T}}{R} \\left(- K_{E} \\dot{\\phi}_L + V_{ML}\\right)$$"
      ],
      "text/plain": [
       "      K_T⋅(-K_E⋅\\dot{\\phi}_L + V_ML)\n",
       "τ_L = ──────────────────────────────\n",
       "                    R               "
      ]
     },
     "metadata": {},
     "output_type": "display_data"
    }
   ],
   "source": [
    "tau_R, tau_L = symbols('tau_R tau_L')\n",
    "KT = symbols('K_T')\n",
    "print('\\n<電流-トルクの関係式>')\n",
    "display(Eq(tau_R, var('K_T')*var('I_R')))\n",
    "display(Eq(tau_L, var('K_T')*var('I_L')))\n",
    "\n",
    "print('\\n<電圧-トルクの関係式>')\n",
    "tau_R = KT*IR\n",
    "tau_L = KT*IL\n",
    "display(Eq(symbols('tau_R'),tau_R));\n",
    "display(Eq(symbols('tau_L'),tau_L));"
   ]
  },
  {
   "cell_type": "code",
   "execution_count": 3,
   "metadata": {
    "scrolled": true,
    "slideshow": {
     "slide_type": "slide"
    }
   },
   "outputs": [
    {
     "data": {
      "image/png": "[encoded data removed]",
      "text/latex": [
       "$$\\dot{v} = \\frac{K_{T} N_{G}}{R m r} \\left(- K_{E} \\dot{\\phi}_L - K_{E} \\dot{\\phi}_R + V_{ML} + V_{MR}\\right)$$"
      ],
      "text/plain": [
       "          K_T⋅N_{G}⋅(-K_E⋅\\dot{\\phi}_L - K_E⋅\\dot{\\phi}_R + V_ML + V_MR)\n",
       "\\dot{v} = ──────────────────────────────────────────────────────────────\n",
       "                                      R⋅m⋅r                             "
      ]
     },
     "metadata": {},
     "output_type": "display_data"
    },
    {
     "data": {
      "image/png": "[encoded data removed]",
      "text/latex": [
       "$$v = \\frac{\\dot{\\phi}_L r}{N_{G}} + \\frac{\\dot{\\phi}_R r}{N_{G}}$$"
      ],
      "text/plain": [
       "    \\dot{\\phi}_L⋅r   \\dot{\\phi}_R⋅r\n",
       "v = ────────────── + ──────────────\n",
       "        N_{G}            N_{G}     "
      ]
     },
     "metadata": {},
     "output_type": "display_data"
    }
   ],
   "source": [
    "m, v, x, dotv, dotx = symbols('m v x \\dot{v} \\dot{x}')\n",
    "FR, FL  = symbols('F_R F_L')\n",
    "r, Ng = symbols('r N_{G}')\n",
    "FR = Ng*tau_R/r\n",
    "FL = Ng*tau_L/r\n",
    "\n",
    "eq3_v = Eq(dotv, (FR+FL)/m); \n",
    "eq3_x = Eq(v, dphiR*r/Ng+dphiL*r/Ng );\n",
    "# eq3_vx = Eq(dotx, v)\n",
    "\n",
    "display(simplify(eq3_v), eq3_x)"
   ]
  },
  {
   "cell_type": "markdown",
   "metadata": {
    "slideshow": {
     "slide_type": "slide"
    }
   },
   "source": [
    "ここで式を簡単にするために，\n",
    "$$ \\dot{\\phi}:= \\dot{\\phi}_R + \\dot{\\phi}_L $$\n",
    "$$ V_m := V_R + V_L$$\n",
    "と定義する．すると，"
   ]
  },
  {
   "cell_type": "code",
   "execution_count": 4,
   "metadata": {
    "scrolled": false
   },
   "outputs": [
    {
     "data": {
      "image/png": "[encoded data removed]",
      "text/latex": [
       "$$\\dot{x} = v$$"
      ],
      "text/plain": [
       "\\dot{x} = v"
      ]
     },
     "metadata": {},
     "output_type": "display_data"
    },
    {
     "data": {
      "image/png": "[encoded data removed]",
      "text/latex": [
       "$$\\dot{v} = \\frac{K_{T} N_{G}}{R m r} \\left(- K_{E} \\dot{\\phi} + V_{m}\\right)$$"
      ],
      "text/plain": [
       "          K_T⋅N_{G}⋅(-K_E⋅\\dot{\\phi} + Vₘ)\n",
       "\\dot{v} = ────────────────────────────────\n",
       "                       R⋅m⋅r              "
      ]
     },
     "metadata": {},
     "output_type": "display_data"
    },
    {
     "data": {
      "image/png": "[encoded data removed]",
      "text/latex": [
       "$$v = \\frac{\\dot{\\phi} r}{N_{G}}$$"
      ],
      "text/plain": [
       "    \\dot{\\phi}⋅r\n",
       "v = ────────────\n",
       "       N_{G}    "
      ]
     },
     "metadata": {},
     "output_type": "display_data"
    }
   ],
   "source": [
    "# TODO: 等式に代入することはできる？\n",
    "phi, dphi, Vm = var('\\phi \\dot{\\phi} V_m')\n",
    "\n",
    "eq4_x = Eq(dotx, v)\n",
    "eq4_v = Eq(dotv, (KT*Ng)/(R*m*r)*(-KE*dphi+ Vm))\n",
    "eq4_phi = Eq(v, dphi*r/Ng)\n",
    "\n",
    "display(eq4_x,eq4_v, eq4_phi)"
   ]
  },
  {
   "cell_type": "markdown",
   "metadata": {},
   "source": [
    "となることが分かりました．この式を $\\dot{x},\\dot{v},\\dot{phi}$について整理してみます．すると次のような関係式が得られます．"
   ]
  },
  {
   "cell_type": "code",
   "execution_count": 5,
   "metadata": {
    "scrolled": true
   },
   "outputs": [
    {
     "data": {
      "image/png": "[encoded data removed]",
      "text/latex": [
       "$$\\dot{x} = v$$"
      ],
      "text/plain": [
       "\\dot{x} = v"
      ]
     },
     "metadata": {},
     "output_type": "display_data"
    },
    {
     "data": {
      "image/png": "[encoded data removed]",
      "text/latex": [
       "$$\\dot{v} = - \\frac{K_{E} K_{T} N_{G}^{2} v}{R m r^{2}} + \\frac{K_{T} N_{G} V_{m}}{R m r}$$"
      ],
      "text/plain": [
       "                         2                 \n",
       "            K_E⋅K_T⋅N_{G} ⋅v   K_T⋅N_{G}⋅Vₘ\n",
       "\\dot{v} = - ──────────────── + ────────────\n",
       "                      2           R⋅m⋅r    \n",
       "                 R⋅m⋅r                     "
      ]
     },
     "metadata": {},
     "output_type": "display_data"
    },
    {
     "data": {
      "image/png": "[encoded data removed]",
      "text/latex": [
       "$$\\dot{\\phi} = \\frac{N_{G} v}{r}$$"
      ],
      "text/plain": [
       "             N_{G}⋅v\n",
       "\\dot{\\phi} = ───────\n",
       "                r   "
      ]
     },
     "metadata": {},
     "output_type": "display_data"
    }
   ],
   "source": [
    "sols = solve([eq4_v, eq4_phi, eq4_x], [dotv, dphi, dotx])\n",
    "\n",
    "eq_sol_v = Eq(dotv, sols[dotv])\n",
    "eq_sol_phi = Eq(dphi, sols[dphi])\n",
    "eq_sol_x = Eq(dotx, sols[dotx])\n",
    "\n",
    "display(eq_sol_x, expand(eq_sol_v),eq_sol_phi)"
   ]
  },
  {
   "cell_type": "markdown",
   "metadata": {},
   "source": [
    "この式で一番重要なのは，2番目の式です．  \n",
    "この式から，DCモーターによって駆動するマイクロマウスの速度-加速度の関係は，一次の運動方程式で表現され，\n",
    "加速度$\\dot{v}$は現在の速度$v$とモータに入力する電圧$Vm$で決定されることが分かります．\n",
    "また，速度$v$にかかる係数の符号は負であるため，速度と加速度の間にはトレードオフの関係があることが分かります．\n",
    "\n",
    "シミュレーションをする上で，上式をそのまま使っても数値計算はできますが，**「状態方程式(StateSpace)」**形式に形を少し変えると，\n",
    "多入力多出力システムの表現しやすいほか，既存のライブラリで計算がしやすくなります．\n",
    "\n",
    "状態方程式は，状態変数$X=[x_1, x_2,...,x_n]^T$および出力変数$Y=[y_1, y_2,...,y_m]^T$ に対して，次のような係数行列$A,B,C$を含んだ形式で表される方程式です．(対象によっては，2番目の式を$Y=CX + Du$とする場合もあります)\n",
    "\n",
    "\\begin{eqnarray}\n",
    "    \\dot{X} &=& AX + Bu \\\\\n",
    "    Y &=& CX\n",
    "\\end{eqnarray}\n",
    "\n",
    "今回の直進モデルにおいては，状態変数は$X=[x, v, \\phi]^T$ となります．$Y$は実際にセンサーなどによって観測できる変数を指します．  \n",
    "状態変数Xはロータリエンコーダや加速度センサなどを用いて，（間接的に）計測することが可能なので，ここでは簡単のため，\n",
    "$I_3 (\\mathbb{R}^{3\\times3})$の単位行列を用いて\n",
    "\n",
    "$$C=I_3$$\n",
    "\n",
    "$$Y=I_3X = X$$\n",
    "\n",
    "とすることにしましょう．\n",
    "\n",
    ">#### ※補足\n",
    "ここでは，簡単のため$C=I_3$と置いてしまいましたが，現実にはセンサの精度やノイズなどにより正確に計測ができない場合もあります．\n",
    "例えば，速度$v$を求めるならエンコーダの値を微分するのが簡単ですが，ノイズの乗った値を微分すると速度一定にもかかわらず波形がギザギザになってしまうことがあります．（特に磁気式エンコーダ）  \n",
    "こういった場合，ノイズは高周波成分を多く含むため，単純に出力値に**ローパスフィルタ**を掛けるか，もしくは\n",
    "モデルと入出力情報から統計的に状態変数を推定する**「カルマンフィルタ」**などの最尤推定オブザーバを用いることで対処可能です．\n",
    "\n",
    ">参考: [状態フィードバックと状態変数観測器](http://www.mech.tohoku-gakuin.ac.jp/rde/contents/course/controlII/statefeedback.html)\n"
   ]
  },
  {
   "cell_type": "code",
   "execution_count": 6,
   "metadata": {
    "scrolled": true
   },
   "outputs": [
    {
     "name": "stdout",
     "output_type": "stream",
     "text": [
      "<DCマウスの直進モデル>\n"
     ]
    },
    {
     "data": {
      "text/latex": [
       "$$\\left[\\begin{matrix}\\dot{x}\\\\\\dot{v}\\\\\\dot{\\phi}\\end{matrix}\\right] = \\left[\\begin{matrix}0 & 1 & 0\\\\0 & - \\frac{K_{E} K_{T} N_{G}^{2}}{R m r^{2}} & 0\\\\0 & \\frac{N_{G}}{r} & 0\\end{matrix}\\right] \\left[\\begin{matrix}x\\\\v\\\\\\phi\\end{matrix}\\right] + \\left[\\begin{matrix}0\\\\\\frac{K_{T} N_{G}}{R m r}\\\\0\\end{matrix}\\right] V_{m}$$"
      ],
      "text/plain": [
       "⎡ \\dot{x}  ⎤ = ⎡0         1          0⎤⋅⎡ x  ⎤ + ⎡    0    ⎤⋅Vₘ\n",
       "⎢          ⎥   ⎢                      ⎥ ⎢    ⎥   ⎢         ⎥   \n",
       "⎢ \\dot{v}  ⎥   ⎢                 2    ⎥ ⎢ v  ⎥   ⎢K_T⋅N_{G}⎥   \n",
       "⎢          ⎥   ⎢   -K_E⋅K_T⋅N_{G}     ⎥ ⎢    ⎥   ⎢─────────⎥   \n",
       "⎣\\dot{\\phi}⎦   ⎢0  ────────────────  0⎥ ⎣\\phi⎦   ⎢  R⋅m⋅r  ⎥   \n",
       "               ⎢             2        ⎥          ⎢         ⎥   \n",
       "               ⎢        R⋅m⋅r         ⎥          ⎣    0    ⎦   \n",
       "               ⎢                      ⎥                        \n",
       "               ⎢        N_{G}         ⎥                        \n",
       "               ⎢0       ─────        0⎥                        \n",
       "               ⎣          r           ⎦                        "
      ]
     },
     "execution_count": 6,
     "metadata": {},
     "output_type": "execute_result"
    }
   ],
   "source": [
    "polv = Poly(sols[dotv], v)\n",
    "polvm = Poly(sols[dotv], Vm)\n",
    "polp = Poly(sols[dphi], v)\n",
    "\n",
    "a = polv.coeffs()[0] # polvの0番目の係数\n",
    "b = polvm.coeffs()[0] # polvの1番目の係数\n",
    "c = polp.coeffs()[0] # polpの0番目の係数\n",
    "\n",
    "A = Matrix([ [0,1,0], [0,a,0], [0,c,0]])\n",
    "B = Matrix([0, b, 0])\n",
    "X = Matrix([x, v, phi])\n",
    "dX = Matrix([dotx, dotv, dphi])\n",
    "\n",
    "print('<DCマウスの直進モデル>')\n",
    "Eq(dX, MatAdd(MatMul(A,X), MatMul(B,Vm)))"
   ]
  },
  {
   "cell_type": "markdown",
   "metadata": {},
   "source": [
    "DCマウスの直進モデルは上記の式で与えられることが分かりました．\n",
    "\n",
    "---\n",
    "\n",
    "# マイクロマウスの直進モデルに対する速度制御系の設計\n",
    "\n",
    "状態方程式は 1 階連立型線形微分方程式の形式で表されているので，数値計算をするのは比較的簡単です．  \n",
    "計算法にはいくつか種類がありますが，ここではPythonのcontrolライブラリを使ってみます．\n",
    "\n",
    "依存するライブラリがあるので，`control`と`slycot`をインストールしておいてください．\n",
    "pipが入っていれば，端末を開いて\n",
    "\n",
    "    sudo pip install control\n",
    "    sudo pip install slycot\n",
    "    \n",
    "とコマンドを打てば，あとは自動でインストールできます．\n",
    "\n",
    "状態方程式モデルの応答を数値計算する際は，python-controlのStateSpaceクラスを使うと簡単です．numpyのarrayクラスを使って係数行列\n",
    "$A,B,C=I_3,(D=0)$を作成し，StateSpace(A,B,C,D)のように引数を与えることで状態方程式モデルを作成できます．\n",
    "\n",
    "一定値入力 $u(t)=1,t >0$ は制御工学の分野で**ステップ入力**と呼ばれます(波形が段差:stepのように見える)．  \n",
    "このようなステップ入力を与えたときの応答を調べるといった操作はよく行われるので，python-controlにも\n",
    "専用の関数(`control.matlab.step`)が用意されています．"
   ]
  },
  {
   "cell_type": "code",
   "execution_count": 7,
   "metadata": {},
   "outputs": [
    {
     "data": {
      "application/vnd.jupyter.widget-view+json": {
       "model_id": "a12a2b694b17460b8fda9ce2009e1797"
      }
     },
     "metadata": {},
     "output_type": "display_data"
    }
   ],
   "source": [
    "from control import *\n",
    "import numpy as np\n",
    "from matplotlib import pylab as plt\n",
    "import matplotlib \n",
    "%matplotlib inline\n",
    "plt.rcParams[\"font.size\"] = 13\n",
    "\n",
    "from __future__ import print_function\n",
    "from ipywidgets import interact, FloatSlider, RadioButtons\n",
    "\n",
    "# スライドバーで動かせるプロットを作成\n",
    "@interact(gear_ratio=(1.0, 10, 0.1), motor_duty=(0, 1.0, 0.01), mass_gram=(5, 200, 0.5))\n",
    "def sim_trans_system(gear_ratio=3.0, motor_duty=0.5, mass_gram=30):\n",
    "    Ng = gear_ratio; # ギアの減速比(モーター：ホイール=1:n)\n",
    "    m = mass_gram/1000; # 機体の質量[kg] (スライドバーからはgで渡される)\n",
    "    \n",
    "    # パラメータの設定\n",
    "    # 回路定数 (MK06-4.5の場合)\n",
    "    R = 5.0; # ohm\n",
    "    KE = 7.1504e-04; # 逆起電力定数[V/(rad/s)]\n",
    "    KT = 6.5e-04; # トルク定数[Nm/I]\n",
    "    Vbat = 4.0; # モータドライバの電源電圧[V]\n",
    "\n",
    "    # 機体パラメータ\n",
    "#     Ng = 3.0;          # ギアの減速比(モーター：ホイール=1:n), スライドバーで設定\n",
    "    r = 7.5e-03;    # タイヤ半径[m]\n",
    "#     m = 75e-03;     # 機体重量[kg], スライドバーで設定\n",
    "    w = 30e-03;     # 機体の中心から右端までの距離(横幅/2) [m]\n",
    "    h = 45e-03;     # 機体の中心から先端までの距離(縦幅/2) [m]\n",
    "    # J = 1/3*(w**2+h**2)*m; # 機体の慣性モーメント(形状を長方形に近似)\n",
    "\n",
    "    \n",
    "    # 状態空間形式(dX/dt = AX + Bu, y = Cx)でシステムを表現    \n",
    "    a = -(KT*KE*Ng**2)/(R*m*r**2)\n",
    "    b = (2*motor_duty*Vbat) * (KT*Ng)/(m*r*R) # Vm = (2*motor_duty*Vbat)*u と置いた\n",
    "    c = 1/(Ng*r)\n",
    "    A = np.array([ [0,1,0], [0,a,0], [0,c,0]]) \n",
    "    B = np.array([[0], [b], [0]])\n",
    "    C = np.array([[1,0,0],[0,1,0],[0,0,1]])\n",
    "    D = np.array([[0],[0],[0]])\n",
    "    sys = StateSpace(A, B, C, D)\n",
    "\n",
    "    # 線形シミュレーション:ステップ入力 u(t)=1 (t>0)\n",
    "    t = np.linspace(0, 20, 1000)\n",
    "    yout, T = matlab.step(sys, t) \n",
    "    v_array = yout[:,1]\n",
    "    dphi_array = v_array*c\n",
    "    I_array = 2*(-KE*dphi_array+(motor_duty*Vbat))/R\n",
    "\n",
    "    # シミュレーション結果のプロット\n",
    "    fig, (axL, axR) = plt.subplots(ncols=2, figsize=(16,6))\n",
    "    axL.plot(T, v_array)\n",
    "    axL.axhline(b/-a, color=\"b\", linestyle=\"--\");\n",
    "    axL.set_xlim(0, 20);  axL.set_ylim(0,25);\n",
    "    axL.set_xlabel('time t[s]');axL.set_ylabel('speed vx [m/s]')\n",
    "    axL.set_title('  Forward Speed (Vm: Step Input)');  # 日本語使えないつらい\n",
    "        \n",
    "    axR.plot(T, I_array)\n",
    "    axR.set_xlim(0, 20);\n",
    "    axR.set_xlabel('time t[s]');axR.set_ylabel('current I_total [A]')\n",
    "\n",
    "    axR.set_title('Total Current of 2 Motors [A]');  # 日本語使えないつらい\n",
    "    \n",
    "    plt.show();\n"
   ]
  },
  {
   "cell_type": "code",
   "execution_count": 8,
   "metadata": {
    "collapsed": true
   },
   "outputs": [],
   "source": [
    "class MouseConfig:\n",
    "    def __init__(self):\n",
    "        self.R = 5.0; # 抵抗 [ohm]\n",
    "        self.KE = 7.1504e-04; # 逆起電力定数[V/(rad/s)]\n",
    "        self.KT = 6.5e-04; # トルク定数[Nm/I]\n",
    "        self.Vbat = 4.0; # モータドライバの電源電圧[V]\n",
    "\n",
    "        # 機体パラメータ\n",
    "        self.Ng = 3.0;          # ギアの減速比(モーター：ホイール=1:n), スライドバーで設定\n",
    "        self.r = 7.5e-03;    # タイヤ半径[m]\n",
    "        self.m = 75e-03;     # 機体重量[kg], スライドバーで設定\n",
    "        self.w = 30e-03;     # 機体の中心から右端までの距離(横幅/2) [m]\n",
    "        self.h = 45e-03;     # 機体の中心から先端までの距離(縦幅/2) [m]\n",
    "        self.J = 1/3*(self.w**2+self.h**2)*self.m; # 機体の慣性モーメント(形状を長方形に近似)\n",
    "\n",
    "\n",
    "class MouseDynamics:\n",
    "    \"\"\"\n",
    "    Body and Motor Model (Transrational)\n",
    "    -\n",
    "    Input: \n",
    "        * duty :Duty ratio of the voltage input to the motor\n",
    "    Output:\n",
    "        * x: Position\n",
    "        * v: Speed (Forward +)\n",
    "        * phi: motor rotation [in radian]\n",
    "        \n",
    "    \"\"\"\n",
    "    \n",
    "    def __init__(self, config=-1):  # コンストラクタ\n",
    "        if config == -1:\n",
    "            # 回路定数 (MK06-4.5の場合)\n",
    "            self.R = 5.0; # ohm\n",
    "            self.KE = 7.1504e-04; # 逆起電力定数[V/(rad/s)]\n",
    "            self.KT = 6.5e-04; # トルク定数[Nm/I]\n",
    "            self.Vbat = 4.0; # モータドライバの電源電圧[V]\n",
    "\n",
    "            # 機体パラメータ\n",
    "            self.Ng = 3.0;          # ギアの減速比(モーター：ホイール=1:n), スライドバーで設定\n",
    "            self.r = 7.5e-03;    # タイヤ半径[m]\n",
    "            self.m = 75e-03;     # 機体重量[kg], スライドバーで設定\n",
    "            self.w = 30e-03;     # 機体の中心から右端までの距離(横幅/2) [m]\n",
    "            self.h = 45e-03;     # 機体の中心から先端までの距離(縦幅/2) [m]\n",
    "            self.J = 1/3*(self.w**2+self.h**2)*self.m; # 機体の慣性モーメント(形状を長方形に近似)\n",
    "        else:\n",
    "            self.R = config.R; # ohm\n",
    "            self.KE = config.KE; # 逆起電力定数[V/(rad/s)]\n",
    "            self.KT = config.KT; # トルク定数[Nm/I]\n",
    "            self.Vbat = config.Vbat; # モータドライバの電源電圧[V]\n",
    "            self.Ng = config.Ng;          # ギアの減速比(モーター：ホイール=1:n), スライドバーで設定\n",
    "            self.r = config.r;     # タイヤ半径[m]\n",
    "            self.m = config.m;     # 機体重量[kg], スライドバーで設定\n",
    "            self.w = config.w;     # 機体の中心から右端までの距離(横幅/2) [m]\n",
    "            self.h = config.h;     # 機体の中心から先端までの距離(縦幅/2) [m]\n",
    "            self.J = config.J;     # 機体の慣性モーメント(形状を長方形に近似)        \n",
    "\n",
    "        self._ismodified = False # モデル再計算フラグ\n",
    "        # state space model\n",
    "        a = -(self.KT*self.KE*self.Ng**2)/(self.R*self.m*self.r**2)\n",
    "        b = (2*self.Vbat) * (self.KT*self.Ng)/(self.m*self.r*self.R) # Vm = (2*motor_duty*Vbat)*u と置いた\n",
    "        c = 1/(self.Ng*self.r)\n",
    "        A = np.array([ [0,1,0], [0,a,0], [0,c,0]]) \n",
    "        B = np.array([[0], [b], [0]])\n",
    "        C = np.array([[1,0,0],[0,1,0],[0,0,1]])\n",
    "        D = np.array([[0],[0],[0]])\n",
    "        self.sys = StateSpace(A, B, C, D)\n",
    "        \n",
    "    def set_config(config):\n",
    "        self.R = config.R; # ohm\n",
    "        self.KE = config.KE; # 逆起電力定数[V/(rad/s)]\n",
    "        self.KT = config.KT; # トルク定数[Nm/I]\n",
    "        self.Vbat = config.Vbat; # モータドライバの電源電圧[V]\n",
    "        self.Ng = config.Ng;          # ギアの減速比(モーター：ホイール=1:n), スライドバーで設定\n",
    "        self.r = config.r;     # タイヤ半径[m]\n",
    "        self.m = config.m;     # 機体重量[kg], スライドバーで設定\n",
    "        self.w = config.w;     # 機体の中心から右端までの距離(横幅/2) [m]\n",
    "        self.h = config.h;     # 機体の中心から先端までの距離(縦幅/2) [m]\n",
    "        self.J = config.J;     # 機体の慣性モーメント(形状を長方形に近似)        \n",
    "        self._ismodified = True\n",
    "        \n",
    "    @property\n",
    "    def ss(self):\n",
    "        if self._ismodified: # パラメータに変更があればモデルを再計算\n",
    "            # state space model\n",
    "            a = -(self.KT*self.KE*self.Ng**2)/(self.R*self.m*self.r**2)\n",
    "            b = (2*self.Vbat) * (self.KT*self.Ng)/(self.m*self.r*self.R) # Vm = (2*Vbat)*u と置いた\n",
    "            c = 1/(self.Ng*self.r)\n",
    "            A = np.array([ [0,1,0], [0,a,0], [0,c,0]]) \n",
    "            B = np.array([[0], [b], [0]])\n",
    "            C = np.array([[1,0,0],[0,1,0],[0,0,1]])\n",
    "            D = np.array([[0],[0],[0]])\n",
    "            self.sys = StateSpace(A, B, C, D)\n",
    "            self._ismodified = False\n",
    "\n",
    "        return self.sys\n",
    "\n",
    "    "
   ]
  },
  {
   "cell_type": "code",
   "execution_count": 9,
   "metadata": {
    "collapsed": true
   },
   "outputs": [],
   "source": [
    "config = MouseConfig()\n",
    "\n",
    "config.R = 5.0; # 抵抗 [ohm]\n",
    "config.KE = 7.1504e-04; # 逆起電力定数[V/(rad/s)]\n",
    "config.KT = 6.5e-04; # トルク定数[Nm/I]\n",
    "config.Vbat = 4.0; # モータドライバの電源電圧[V]\n",
    "config.Ng = 3.0;          # ギアの減速比(モーター：ホイール=1:n), スライドバーで設定\n",
    "config.r = 7.5e-03;    # タイヤ半径[m]\n",
    "config.m = 50e-03;     # 機体重量[kg], スライドバーで設定\n",
    "config.w = 30e-03;     # 機体の中心から右端までの距離(横幅/2) [m]\n",
    "config.h = 45e-03;     # 機体の中心から先端までの距離(縦幅/2) [m]\n",
    "config.J = 1/3*(config.w**2+config.h**2)*config.m; # 機体の慣性モーメント(形状を長方形に近似)\n",
    "mouse = MouseDynamics(config)\n"
   ]
  },
  {
   "cell_type": "code",
   "execution_count": 10,
   "metadata": {},
   "outputs": [
    {
     "data": {
      "image/png": "[encoded data removed]",
      "text/plain": [
       "<matplotlib.figure.Figure at 0x10f2235c0>"
      ]
     },
     "metadata": {},
     "output_type": "display_data"
    }
   ],
   "source": [
    "# 線形シミュレーションの実行\n",
    "motor_duty = 0.5\n",
    "t = np.linspace(0, 20, 1000)\n",
    "u = np.ones(1000) * motor_duty # u(t)=duty (const)\n",
    "yout, T, xout = matlab.lsim(mouse.ss, u, t)\n",
    "v_array = xout[:,1]\n",
    "c = mouse.ss.A[2,1]\n",
    "dphi_array = v_array*c\n",
    "I_array = 2*(-config.KE*dphi_array+(config.Vbat))/config.R  # 回路方程式から計算\n",
    "\n",
    "# シミュレーション結果のプロット\n",
    "fig, (axL, axR) = plt.subplots(ncols=2, figsize=(16,6))\n",
    "\n",
    "axL.plot(T, v_array)\n",
    "axL.set_xlim(0, 20);  axL.set_ylim(0,25);\n",
    "axL.set_xlabel('time t[s]'); axL.set_ylabel('Speed vx [m/s]')\n",
    "axL.set_title('Forward Speed (duty: Step Input)');  \n",
    "# axL.tick_params(labelsize=13)\n",
    "\n",
    "axR.plot(T, I_array)\n",
    "axR.set_xlim(0, 20);\n",
    "axR.set_xlabel('time t[s]');axR.set_ylabel('current I_total [A]')\n",
    "axR.set_title('Total Current of 2 motors [A]');  \n",
    "# axR.tick_params(labelsize=13)\n",
    "\n",
    "plt.show();"
   ]
  },
  {
   "cell_type": "markdown",
   "metadata": {},
   "source": [
    "それでは直進走行モデルを用いて速度の制御系を立ててみます．  \n",
    "まずは，第一ステップとして，ステップ入力で目標速度値が与えられたとき，速度が$t\\to \\infty$で偏差なく追従することを目指してみましょう．\n",
    "\n",
    "以下に示すのは，一番ベーシックなフィードバック制御系のブロック線図です．\n",
    "Pは制御対象でプラントと呼ばれることもあります．今回の例では，入力がdutyで出力が速度なシステムだと考えてください．  \n",
    "Kはコントローラを表します．基準速度$v_{ref}$と実際の出力$v$との偏差$e$を入力し，内部で何らかの演算を行うことで制御対象へ与える入力値$u$を決定します．  \n",
    "$K$のとり方は自由ですが，今回はメジャーな制御法の一つであるPID制御器を設計してみましょう．\n",
    "\n",
    "<img src=\"img/FeedbackSpeedControl.PNG\" width=70%>\n",
    "\n",
    "\n",
    "PID制御器は時間領域では，\n",
    "$$\n",
    "    K(t) = K_p e(t)  + K_i \\int_0^t e(t)dt + K_d \\dfrac{de(t)}{dt}\n",
    "$$\n",
    "\n",
    "ラプラス変換形式(伝達関数形式)では，\n",
    "\n",
    "$$\n",
    "    K(s) = K_p E(s)  + K_i \\dfrac{1}{s} E(s) + K_d sE(s) \\\\\n",
    "        = ( \\dfrac{K_d s^2 + K_p s +  K_i}{s})E(s)\n",
    "$$\n",
    "\n",
    "と表すことができます．両者の式は等価なので，どちらを使っても同じ結果になりますが，\n",
    "ラプラス変換の方がブロック線図と相性がよく考えやすいのでこちらを使います．  \n",
    "python-controlでは，連立微分方程式で表現された状態方程式とラプラス変換で表現された伝達関数が混在していても，\n",
    "自動で計算に都合の良い形式にモデルを変換してくれます．\n",
    "\n",
    "---\n",
    "\n",
    "それでは，ステップ入力で与えられた目標速度にうまく追従するようにPIDのパラメータを調整してみましょう．\n",
    "ただし，モーターへ与えることのできるdutyは最大100％であるので，これを超えないようにしましょう．\n",
    "（オーバーすると，プロットが赤色になります）\n"
   ]
  },
  {
   "cell_type": "code",
   "execution_count": 11,
   "metadata": {},
   "outputs": [
    {
     "data": {
      "application/vnd.jupyter.widget-view+json": {
       "model_id": "23f179c2bdfe44d2b4f0d0958093a01d"
      }
     },
     "metadata": {},
     "output_type": "display_data"
    }
   ],
   "source": [
    "# ステップ目標値を与えたときの，FB制御系のシミュレーション\n",
    "@interact(Kp=(0.01, 3, 0.01), Ki=(0, 5, 0.001), Kd=(0, 5, 0.01), target=(0,3,0.1))\n",
    "def sim_closed_loop(Kp=1.0, Ki=0, Kd=0, target=1):\n",
    "    # PID 制御器 の作成\n",
    "\n",
    "#     num = [Kd, Kp, Ki]\n",
    "#     den = [1, 0]\n",
    "#     K = matlab.tf(num, den)\n",
    "    \n",
    "    # PIDコントローラ（伝達関数形式）の作成\n",
    "    # 純粋微分器は計算不可能なので，1次ローパスフィルタを接続した実用微分器(Kd*s/(gamma*Kd*s+1))を使う\n",
    "    D_COEFFICIENT = 0.1 # 微分係数\n",
    "    Kp = matlab.tf([Kp], [1])\n",
    "    Ki = matlab.tf([Ki], [1, 0])\n",
    "    Kd = matlab.tf([Kd, 0], [D_COEFFICIENT*Kd, 1])  \n",
    "    K = Kp+Ki+Kd\n",
    "\n",
    "    dmux = StateSpace(0,np.array([0,0,0]),0,np.array([0,1,0]) )\n",
    "    P = series(mouse.ss , dmux) # 3出力あるうちの2番目(v)だけを取り出す． \n",
    "\n",
    "    # 閉ループ系の伝達関数を計算\n",
    "    Ysys = matlab.feedback(K*P, 1, -1)  # ネガティブフィードバック\n",
    "    Esys = matlab.feedback(1, K*P, -1)\n",
    "    Usys = K/(1+K*P)\n",
    "    \n",
    "    # 線形シミュレーション\n",
    "    SIM_TIME = 5    # シミュレーション時間\n",
    "    SAMPLE_RATE = 100 # サンプリングレート\n",
    "    t = np.linspace(0, SIM_TIME, SIM_TIME*SAMPLE_RATE)\n",
    "    ref = np.ones(SIM_TIME*SAMPLE_RATE) * target # u(t)=duty (const)\n",
    "    yout, T, xout = matlab.lsim(Ysys, ref, t)\n",
    "#     Eout, T, xout = matlab.lsim(Esys, ref, t)\n",
    "    Uout, T, xout = matlab.lsim(Usys, ref, t)\n",
    "    \n",
    "    \n",
    "    \n",
    "    if np.amax(Uout) > 1.0 :\n",
    "        _is_saturated = True\n",
    "    else :\n",
    "        _is_saturated = False\n",
    "        \n",
    "    # シミュレーション結果のプロット\n",
    "    fig, (axL, axR) = plt.subplots(ncols=2, figsize=(16,6))\n",
    "    \n",
    "    axL.plot(T, yout)\n",
    "    axL.axhline(target, color=\"k\", linestyle=\"--\");\n",
    "    axL.set_xlim(0, SIM_TIME);  axL.set_ylim(0,5);\n",
    "    axL.set_xlabel('time t [s]'); axL.set_ylabel('Speed vx [m/s]')\n",
    "    axL.set_title('Speed Control');  \n",
    "    # axL.tick_params(labelsize=13)\n",
    "\n",
    "    if _is_saturated: axR.plot(T, Uout, 'r',  lw=5)\n",
    "    else: axR.plot(T, Uout, 'b')\n",
    "    axR.set_xlim(0, SIM_TIME);\n",
    "    axR.set_xlabel('time t [s]');axR.set_ylabel('duty [.]')\n",
    "    axR.set_title('Average Duty Output To Two Motors');  \n",
    "    # axR.tick_params(labelsize=13)\n",
    "\n",
    "    plt.show();\n"
   ]
  },
  {
   "cell_type": "markdown",
   "metadata": {},
   "source": [
    "目標速度$v_{target}$と$Kp,Ki,Kd$のスライダーを動かして，いろいろ試してみましょう．\n",
    "\n",
    "\n",
    "---\n",
    "\n",
    "どうだったでしょうか？  \n",
    "今回の問題設定では，$t\\to \\infty$で漸近安定にするためにはP制御があれば十分であり，もし定常偏差も0にしたいなら$Ki$を増やせば良いことがわかります．  \n",
    "\n",
    "筆者の設定したパラメータでは，$v_{target}=1.0 $[m/s]のとき，$Kp=0.84, Ki=0.08$で入力dutyに20%ほどの余裕を残すことができました．\n",
    "\n",
    "\n",
    "![@aaa](img/control_result01.PNG)\n",
    "\n",
    "\n",
    "低速度で走行する場合には，これで十分でしょう．(1m/sでも結構早いですが)  \n",
    "しかし，ここはコンマ一秒を争うマイクロマウスの世界，どうせならできるだけ高速かつ高加速度を追求したいものです．\n",
    "\n",
    "そういったことを考えると実は，先程の制御系はいくつかの問題点を抱えています．その問題点とは，以下のようなものです．\n",
    "\n",
    "* ステップ入力の目標値はそもそも実現不可能(これを実現しようとすると，加速度$a\\to \\infty$となるため)\n",
    "* 急加速を行うことになるため，場合によってはタイヤのスリップと言った影響が無視できなくなる．\n",
    "* また，急加速に伴い動作開始時に非常に大きな電流が流れるため，設計次第ではモーター回路が焼かれて死ぬ．\n",
    "* 入力値は最初の一瞬だけ高くて，後は低いという，無駄が多い制御となっている．\n",
    "* 目標速度を上げると，PIDパラメータの再調整が必要\n",
    "\n",
    "このような問題を克服するため，目標速度を一定値で与えるのではなく，加速→等速→減速といった台形加速の目標値信号を与えることを考えます．\n",
    "ただし，モータの特性上，速度と加速度にはトレードオフの関係があるので，まずは目標とする最高速度に対して実現可能な加速度を\n",
    "見積もっておきます．\n",
    "\n",
    "マウス直進モデルを求める際に，機体の速度$v$と加速度$\\dot{v}$の間には次のような関係があったことを思い出してみます．"
   ]
  },
  {
   "cell_type": "code",
   "execution_count": 12,
   "metadata": {
    "scrolled": true
   },
   "outputs": [
    {
     "data": {
      "image/png": "[encoded data removed]",
      "text/latex": [
       "$$\\dot{v} = - \\frac{K_{E} K_{T} N_{G}^{2} v}{R m r^{2}} + \\frac{K_{T} N_{G} V_{m}}{R m r}$$"
      ],
      "text/plain": [
       "                         2                 \n",
       "            K_E⋅K_T⋅N_{G} ⋅v   K_T⋅N_{G}⋅Vₘ\n",
       "\\dot{v} = - ──────────────── + ────────────\n",
       "                      2           R⋅m⋅r    \n",
       "                 R⋅m⋅r                     "
      ]
     },
     "metadata": {},
     "output_type": "display_data"
    }
   ],
   "source": [
    "display(expand(eq_sol_v))"
   ]
  },
  {
   "cell_type": "markdown",
   "metadata": {},
   "source": [
    "台形加速による等加速度制御を行うためには，最高速に達するまで同じ加速度を維持できなければいけません．\n",
    "直進の制御だけでなく，回転の制御も後で行うことを考えると，コントローラの出力には余裕をもたせたいので，\n",
    "最高速時，$V_m = 2V_{Bat}\\times 0.8$となっているようにします．\n",
    "\n",
    "すると，\n",
    "\n",
    "$$\\dot{v} = \\alpha v_{Goal} + \\beta Vm$$ とおくと，\n",
    "\n",
    "$$a_{max} = \\alpha v_{Goal} + 1.6 \\beta V_{Bat}$$\n",
    "\n",
    "$$(ただし，\\alpha= -\\frac{K_{E} K_{T} N_{G}^{2} }{R m r^{2}},\\  \\beta =\\frac{K_{T} N_{G} }{R m r})$$\n",
    "\n",
    "となるので，目標速度の傾きは$a_{max}$より低くなければならないことがわかりました．  \n",
    "\n",
    "例として，最高速度を$v_{Goal}=2.0$ [m/s] に設定した場合，"
   ]
  },
  {
   "cell_type": "code",
   "execution_count": 13,
   "metadata": {
    "scrolled": true
   },
   "outputs": [
    {
     "name": "stdout",
     "output_type": "stream",
     "text": [
      "a_max: 6.061 [m/s^2], v_goal: 2.000 [m/s]\n",
      "最高速度に達するまでに 0.330秒\n"
     ]
    }
   ],
   "source": [
    "a = mouse.ss.A[1,1]\n",
    "b = mouse.ss.B[1,0] \n",
    "v_bat = 3.6 # 1セル Lipo\n",
    "v_goal = 2.0 # 最高速度\n",
    "\n",
    "a_max = a*v_goal + 0.8*b #*2*v_bat\n",
    "print(\"a_max: {0:.3f} [m/s^2], v_goal: {1:.3f} [m/s]\".format(a_max, v_goal))\n",
    "print(\"最高速度に達するまでに {0:.3f}秒\".format(v_goal/a_max))"
   ]
  },
  {
   "cell_type": "markdown",
   "metadata": {},
   "source": [
    "となるので，$a_{max}=6.061 [m/s^2]$が限界のようです．\n",
    "\n",
    "このように，加速度と最高速度は独立には設定できないので，先に一方を決めてしまった後に，\n",
    "もう一方を実現可能な解の中から選ぶようにしたほうがトラブルが少ないでしょう．\n",
    "\n",
    "下の例では，目標速度$v_{GOAL}$から算出した限界加速度$a_{max}$に0〜1のゲイン(acc_gain)を掛けることで，\n",
    "目標軌道を決定しています．\n",
    "\n",
    ">```python\n",
    "# 限界加速度を計算\n",
    "a_max = a*v_goal + 0.8*b \n",
    "acc_ref = a_max * acc_gain/100\n",
    "```\n"
   ]
  },
  {
   "cell_type": "code",
   "execution_count": 14,
   "metadata": {},
   "outputs": [
    {
     "data": {
      "application/vnd.jupyter.widget-view+json": {
       "model_id": "06acd7c429b64d74a3a8c119a8eb6580"
      }
     },
     "metadata": {},
     "output_type": "display_data"
    }
   ],
   "source": [
    "a = mouse.ss.A[1,1]\n",
    "b = mouse.ss.B[1,0] \n",
    "\n",
    "# 台形加速軌道を与えたときの，FB制御系のシミュレーション\n",
    "@interact(Kp=(0.01, 10, 0.01), Ki=(0, 5, 0.001), Kd=(0, 5, 0.01), v_goal=(0,4,0.1), acc_gain=(0,100,0.1))\n",
    "def sim_closed_loop(Kp=1.0, Ki=0, Kd=0, v_goal=1, acc_gain=100):\n",
    "    # PID 制御器 の作成\n",
    "\n",
    "    # 限界加速度を計算\n",
    "    a_max = a*v_goal + 0.8*b \n",
    "    acc_ref = a_max * acc_gain/100\n",
    "    \n",
    "    # PIDコントローラ（伝達関数形式）の作成\n",
    "    # 純粋微分器は計算不可能なので，1次ローパスフィルタを接続した実用微分器(Kd*s/(gamma*Kd*s+1))を使う\n",
    "    D_COEFFICIENT = 0.1 # 微分係数\n",
    "    Kp = matlab.tf([Kp], [1])\n",
    "    Ki = matlab.tf([Ki], [1, 0])\n",
    "    Kd = matlab.tf([Kd, 0], [D_COEFFICIENT*Kd, 1])  \n",
    "    K = Kp+Ki+Kd\n",
    "#     K =matlab.c2d(K, 0.001)\n",
    "\n",
    "    dmux = StateSpace(0,np.array([0,0,0]),0,np.array([0,1,0]) )\n",
    "    P = series(mouse.ss , dmux) # 3出力あるうちの2番目(v)だけを取り出す． \n",
    "\n",
    "    # 閉ループ系の伝達関数を計算\n",
    "    Ysys = matlab.feedback(K*P, 1, -1)  # ネガティブフィードバック\n",
    "    Esys = matlab.feedback(1, K*P, -1)\n",
    "    Usys = K/(1+K*P)\n",
    "    \n",
    "    # 線形シミュレーション\n",
    "    SIM_TIME = 3    # シミュレーション時間\n",
    "    SAMPLE_RATE = 1000 # サンプリングレート\n",
    "    \n",
    "    t = np.linspace(0, SIM_TIME, SIM_TIME*SAMPLE_RATE)\n",
    "    ref = acc_ref*t\n",
    "    ref[ref>v_goal] = v_goal\n",
    "    yout, T, xout = matlab.lsim(Ysys, ref, t)\n",
    "    #     Eout, T, xout = matlab.lsim(Esys, ref, t)\n",
    "    Uout, T, xout = matlab.lsim(Usys, ref, t)\n",
    "\n",
    "    \n",
    "    if np.amax(Uout) > 1.0 :\n",
    "        _is_saturated = True\n",
    "    else :\n",
    "        _is_saturated = False\n",
    "        \n",
    "    # シミュレーション結果のプロット\n",
    "    fig, (axL, axR) = plt.subplots(ncols=2, figsize=(16,6))\n",
    "    \n",
    "    axL.plot(t, yout)\n",
    "    axL.plot(t, ref)    \n",
    "    axL.set_xlim(0, SIM_TIME);  axL.set_ylim(0,5);\n",
    "    axL.set_xlabel('time t [s]'); axL.set_ylabel('Speed vx [m/s]')\n",
    "    axL.set_title('Speed Control');  \n",
    "    # axL.tick_params(labelsize=13)\n",
    "\n",
    "    if _is_saturated: axR.plot(T, Uout, 'r',  lw=5)\n",
    "    else: axR.plot(T, Uout, 'b')\n",
    "    axR.set_xlim(0, SIM_TIME);\n",
    "    axR.set_xlabel('time t [s]');axR.set_ylabel('duty [.]')\n",
    "    axR.set_title('Average Duty Output To Two Motors');  \n",
    "    # axR.tick_params(labelsize=13)\n",
    "\n",
    "    plt.show();\n"
   ]
  },
  {
   "cell_type": "markdown",
   "metadata": {
    "collapsed": true
   },
   "source": [
    "どうでしょうか？先程よりも調整が楽になったことが分かるでしょうか？\n",
    "\n",
    "先程のステップ指令値の場合には，目標速度を変更したらPIDパラメータの再調整が必要でしたが，  \n",
    "こちらの台形加速の場合は一旦PIDのパラメータを決めてしまえば，目標速度が変わっても同じような制御性能を発揮してくれます．  \n",
    "また，実現可能な加速度・最高速度の軌道を設定したお陰で，常に出力が80%以内に収まっていることが確認できます．\n",
    "\n",
    "指定した目標値に追従するように制御する制御系のことを**サーボ(Servo)系**と呼ぶのですが，  \n",
    "このサーボ系の制御問題においては「どのような目標軌道」を与えるかという点も制御性能に関わる非常に重要な要素であることがわかります．\n",
    "\n",
    "---\n",
    "\n",
    "ところで，これまで，\n",
    "\n",
    "TODO:感度関数と相補感度関数\n",
    "追従性能とノイズ低減性能"
   ]
  }
 ],
 "metadata": {
  "kernelspec": {
   "display_name": "Python 3",
   "language": "python",
   "name": "python3"
  },
  "language_info": {
   "codemirror_mode": {
    "name": "ipython",
    "version": 3
   },
   "file_extension": ".py",
   "mimetype": "text/x-python",
   "name": "python",
   "nbconvert_exporter": "python",
   "pygments_lexer": "ipython3",
   "version": "3.6.1"
  },
  "widgets": {
   "application/vnd.jupyter.widget-state+json": {
    "state": {
     "02052329535a45f58fe301419492a277": {
      "model_module": "jupyter-js-widgets",
      "model_module_version": "~2.1.4",
      "model_name": "FloatSliderModel",
      "state": {
       "_model_module_version": "~2.1.4",
       "_view_module_version": "~2.1.4",
       "description": "Ki",
       "layout": "IPY_MODEL_d68eb088be224fd3b3a2206cf70cc4de",
       "max": 5,
       "step": 0.001
      }
     },
     "02962fa18e8f49179d367b295b46f0e5": {
      "model_module": "jupyter-js-widgets",
      "model_module_version": "~2.1.4",
      "model_name": "LayoutModel",
      "state": {
       "_model_module_version": "~2.1.4",
       "_view_module_version": "~2.1.4"
      }
     },
     "0dd33e77fabe44e6bc482c3a3681d5df": {
      "model_module": "jupyter-js-widgets",
      "model_module_version": "~2.1.4",
      "model_name": "FloatSliderModel",
      "state": {
       "_model_module_version": "~2.1.4",
       "_view_module_version": "~2.1.4",
       "description": "Kd",
       "layout": "IPY_MODEL_e2d7c877ef7c4297b20e0ad7e54c8aed",
       "max": 5,
       "step": 0.01
      }
     },
     "1735359efe484601b72c1f44e0422114": {
      "model_module": "jupyter-js-widgets",
      "model_module_version": "~2.1.4",
      "model_name": "FloatSliderModel",
      "state": {
       "_model_module_version": "~2.1.4",
       "_view_module_version": "~2.1.4",
       "description": "Kd",
       "layout": "IPY_MODEL_8011b2310fbe4d5a908576b511c0cbe0",
       "max": 5,
       "step": 0.01
      }
     },
     "1759309698b74976849a1037bf84e49b": {
      "model_module": "jupyter-js-widgets",
      "model_module_version": "~2.1.4",
      "model_name": "LayoutModel",
      "state": {
       "_model_module_version": "~2.1.4",
       "_view_module_version": "~2.1.4"
      }
     },
     "1b9405dac1f444459f3724be8d44448c": {
      "model_module": "jupyter-js-widgets",
      "model_module_version": "~2.1.4",
      "model_name": "LayoutModel",
      "state": {
       "_model_module_version": "~2.1.4",
       "_view_module_version": "~2.1.4"
      }
     },
     "201f2dd72b1e4ec1b22a6cb9b978b209": {
      "model_module": "jupyter-js-widgets",
      "model_module_version": "~2.1.4",
      "model_name": "LayoutModel",
      "state": {
       "_model_module_version": "~2.1.4",
       "_view_module_version": "~2.1.4"
      }
     },
     "267103be356442e1a395432ea9c84c24": {
      "model_module": "jupyter-js-widgets",
      "model_module_version": "~2.1.4",
      "model_name": "VBoxModel",
      "state": {
       "_dom_classes": [
        "widget-interact"
       ],
       "_model_module_version": "~2.1.4",
       "_view_module_version": "~2.1.4",
       "children": [
        "IPY_MODEL_3706abd2039041c7944330ac56a037fa",
        "IPY_MODEL_96e503f8c3034e8d97abecf094130bba",
        "IPY_MODEL_9dd4c2ece86b4819bba64f0b102890f1",
        "IPY_MODEL_a4666b7ff95a407fb5f1ce915c70785d"
       ],
       "layout": "IPY_MODEL_f8bc588232d54ecca8370c853dee7b7d"
      }
     },
     "2b89c34827a24266bc2db5804e0727ac": {
      "model_module": "jupyter-js-widgets",
      "model_module_version": "~2.1.4",
      "model_name": "LayoutModel",
      "state": {
       "_model_module_version": "~2.1.4",
       "_view_module_version": "~2.1.4"
      }
     },
     "31df72f3e58440ff981f9a8b506ca78b": {
      "model_module": "jupyter-js-widgets",
      "model_module_version": "~2.1.4",
      "model_name": "LayoutModel",
      "state": {
       "_model_module_version": "~2.1.4",
       "_view_module_version": "~2.1.4"
      }
     },
     "3706abd2039041c7944330ac56a037fa": {
      "model_module": "jupyter-js-widgets",
      "model_module_version": "~2.1.4",
      "model_name": "FloatSliderModel",
      "state": {
       "_model_module_version": "~2.1.4",
       "_view_module_version": "~2.1.4",
       "description": "gear_ratio",
       "layout": "IPY_MODEL_8d7fc110324546d9aebd36ff226f4bf2",
       "max": 10,
       "min": 1,
       "step": 0.1,
       "value": 3
      }
     },
     "3a4fd04d76374e49976727fe997facad": {
      "model_module": "jupyter-js-widgets",
      "model_module_version": "~2.1.4",
      "model_name": "FloatSliderModel",
      "state": {
       "_model_module_version": "~2.1.4",
       "_view_module_version": "~2.1.4",
       "description": "Kp",
       "layout": "IPY_MODEL_b080e8ef99f747c1a29f8ff4a348a55c",
       "max": 10,
       "min": 0.01,
       "step": 0.01,
       "value": 1
      }
     },
     "42e3390b59684eceb11453db873c3455": {
      "model_module": "jupyter-js-widgets",
      "model_module_version": "~2.1.4",
      "model_name": "OutputModel",
      "state": {
       "_dom_classes": [],
       "_model_module": "jupyter-js-widgets",
       "_model_module_version": "~2.1.4",
       "_view_module": "jupyter-js-widgets",
       "_view_module_version": "~2.1.4",
       "layout": "IPY_MODEL_8741e467ed0e4040aa2b51aca5feea50",
       "msg_throttle": 1
      }
     },
     "43630c5161514d1ea80ce8563c7bf7c4": {
      "model_module": "jupyter-js-widgets",
      "model_module_version": "~2.1.4",
      "model_name": "FloatSliderModel",
      "state": {
       "_model_module_version": "~2.1.4",
       "_view_module_version": "~2.1.4",
       "description": "Ki",
       "layout": "IPY_MODEL_977f902595d841b0a8c87b5fb8f0ae27",
       "max": 5,
       "step": 0.001
      }
     },
     "43d746ed41914236aadc8b6a6e5d5caa": {
      "model_module": "jupyter-js-widgets",
      "model_module_version": "~2.1.4",
      "model_name": "LayoutModel",
      "state": {
       "_model_module_version": "~2.1.4",
       "_view_module_version": "~2.1.4"
      }
     },
     "482ffa26b9c748b195b4a4f8a039e98f": {
      "model_module": "jupyter-js-widgets",
      "model_module_version": "~2.1.4",
      "model_name": "FloatSliderModel",
      "state": {
       "_model_module_version": "~2.1.4",
       "_view_module_version": "~2.1.4",
       "description": "motor_duty",
       "layout": "IPY_MODEL_2b89c34827a24266bc2db5804e0727ac",
       "max": 1,
       "step": 0.01,
       "value": 0.5
      }
     },
     "4d9fa4a13e7c4e618f5051ab48c1240e": {
      "model_module": "jupyter-js-widgets",
      "model_module_version": "~2.1.4",
      "model_name": "FloatSliderModel",
      "state": {
       "_model_module_version": "~2.1.4",
       "_view_module_version": "~2.1.4",
       "description": "Kp",
       "layout": "IPY_MODEL_02962fa18e8f49179d367b295b46f0e5",
       "max": 3,
       "min": 0.01,
       "step": 0.01,
       "value": 1
      }
     },
     "51f50f36006f46f0898689aad63fe420": {
      "model_module": "jupyter-js-widgets",
      "model_module_version": "~2.1.4",
      "model_name": "LayoutModel",
      "state": {
       "_model_module_version": "~2.1.4",
       "_view_module_version": "~2.1.4"
      }
     },
     "5ce3c3dce72a406d803f907f92879891": {
      "model_module": "jupyter-js-widgets",
      "model_module_version": "~2.1.4",
      "model_name": "LayoutModel",
      "state": {
       "_model_module_version": "~2.1.4",
       "_view_module_version": "~2.1.4"
      }
     },
     "5d7e40458583449ebaa4a4192248c53f": {
      "model_module": "jupyter-js-widgets",
      "model_module_version": "~2.1.4",
      "model_name": "FloatSliderModel",
      "state": {
       "_model_module_version": "~2.1.4",
       "_view_module_version": "~2.1.4",
       "description": "v_goal",
       "layout": "IPY_MODEL_da8317adc3e14ccf910b7b9b901433e5",
       "max": 4,
       "step": 0.1,
       "value": 1.3
      }
     },
     "6088438f4daf44f3b395c85af1ed1935": {
      "model_module": "jupyter-js-widgets",
      "model_module_version": "~2.1.4",
      "model_name": "FloatSliderModel",
      "state": {
       "_model_module_version": "~2.1.4",
       "_view_module_version": "~2.1.4",
       "description": "Ki",
       "layout": "IPY_MODEL_a419d535761a4f1b8b44c2c9270d4596",
       "max": 5,
       "step": 0.001
      }
     },
     "6226261c1a9d4045becca709c31e3bd7": {
      "model_module": "jupyter-js-widgets",
      "model_module_version": "~2.1.4",
      "model_name": "VBoxModel",
      "state": {
       "_dom_classes": [
        "widget-interact"
       ],
       "_model_module_version": "~2.1.4",
       "_view_module_version": "~2.1.4",
       "children": [
        "IPY_MODEL_e5338feb28d14c1abefbeb26f2946851",
        "IPY_MODEL_6088438f4daf44f3b395c85af1ed1935",
        "IPY_MODEL_dcc55637159b4b85beba6f4c4ae5dcd7",
        "IPY_MODEL_a594ac5e6d5946b988c45c4fbb57120e",
        "IPY_MODEL_f2c0f6f4790d454dba562734ed3f1a54"
       ],
       "layout": "IPY_MODEL_ed55e2905b4947fa846a3c25514cbdca"
      }
     },
     "66e154b5a6ee44de97ea92bd441182d9": {
      "model_module": "jupyter-js-widgets",
      "model_module_version": "~2.1.4",
      "model_name": "VBoxModel",
      "state": {
       "_dom_classes": [
        "widget-interact"
       ],
       "_model_module_version": "~2.1.4",
       "_view_module_version": "~2.1.4",
       "children": [
        "IPY_MODEL_4d9fa4a13e7c4e618f5051ab48c1240e",
        "IPY_MODEL_8f89bdee77404a0daa01422fea1bf6f4",
        "IPY_MODEL_0dd33e77fabe44e6bc482c3a3681d5df",
        "IPY_MODEL_8c64e05c464b4768a12e5601a39c9ba9",
        "IPY_MODEL_993ab172bfc34095b03763b370495283"
       ],
       "layout": "IPY_MODEL_43d746ed41914236aadc8b6a6e5d5caa"
      }
     },
     "6ba68e917f09406bbc3c8dd9ce04d17e": {
      "model_module": "jupyter-js-widgets",
      "model_module_version": "~2.1.4",
      "model_name": "LayoutModel",
      "state": {
       "_model_module_version": "~2.1.4",
       "_view_module_version": "~2.1.4"
      }
     },
     "6f17e0d1a77b47f1852d30e2edfffdfb": {
      "model_module": "jupyter-js-widgets",
      "model_module_version": "~2.1.4",
      "model_name": "OutputModel",
      "state": {
       "_dom_classes": [],
       "_model_module": "jupyter-js-widgets",
       "_model_module_version": "~2.1.4",
       "_view_module": "jupyter-js-widgets",
       "_view_module_version": "~2.1.4",
       "layout": "IPY_MODEL_fd1b38bc3cf946ab80080b3854141d58",
       "msg_throttle": 1
      }
     },
     "7324d536d7564cd8bec3f793b86ac245": {
      "model_module": "jupyter-js-widgets",
      "model_module_version": "~2.1.4",
      "model_name": "FloatSliderModel",
      "state": {
       "_model_module_version": "~2.1.4",
       "_view_module_version": "~2.1.4",
       "description": "v_goal",
       "layout": "IPY_MODEL_9d8c60b8c87a42c5948b0d354510ce72",
       "max": 4,
       "step": 0.1,
       "value": 1
      }
     },
     "8011b2310fbe4d5a908576b511c0cbe0": {
      "model_module": "jupyter-js-widgets",
      "model_module_version": "~2.1.4",
      "model_name": "LayoutModel",
      "state": {
       "_model_module_version": "~2.1.4",
       "_view_module_version": "~2.1.4"
      }
     },
     "833d95109fb140cbaa3b2eccdf5a83e6": {
      "model_module": "jupyter-js-widgets",
      "model_module_version": "~2.1.4",
      "model_name": "VBoxModel",
      "state": {
       "_dom_classes": [
        "widget-interact"
       ],
       "_model_module_version": "~2.1.4",
       "_view_module_version": "~2.1.4",
       "children": [
        "IPY_MODEL_cdbb66eb274f40bf9729d31e9766d8fb",
        "IPY_MODEL_02052329535a45f58fe301419492a277",
        "IPY_MODEL_1735359efe484601b72c1f44e0422114",
        "IPY_MODEL_5d7e40458583449ebaa4a4192248c53f",
        "IPY_MODEL_42e3390b59684eceb11453db873c3455"
       ],
       "layout": "IPY_MODEL_bd3f679d7d0f4befa7578f8613bb7fae"
      }
     },
     "8741e467ed0e4040aa2b51aca5feea50": {
      "model_module": "jupyter-js-widgets",
      "model_module_version": "~2.1.4",
      "model_name": "LayoutModel",
      "state": {
       "_model_module_version": "~2.1.4",
       "_view_module_version": "~2.1.4"
      }
     },
     "8ac6f58562e74ad69f3e3e015fc8b0ab": {
      "model_module": "jupyter-js-widgets",
      "model_module_version": "~2.1.4",
      "model_name": "LayoutModel",
      "state": {
       "_model_module_version": "~2.1.4",
       "_view_module_version": "~2.1.4"
      }
     },
     "8c64e05c464b4768a12e5601a39c9ba9": {
      "model_module": "jupyter-js-widgets",
      "model_module_version": "~2.1.4",
      "model_name": "FloatSliderModel",
      "state": {
       "_model_module_version": "~2.1.4",
       "_view_module_version": "~2.1.4",
       "description": "target",
       "layout": "IPY_MODEL_a8a9d5c4e0654ef3a3e144ccf30cd772",
       "max": 3,
       "step": 0.1,
       "value": 1
      }
     },
     "8cb0feb1371d43f8ad648e313be7d467": {
      "model_module": "jupyter-js-widgets",
      "model_module_version": "~2.1.4",
      "model_name": "LayoutModel",
      "state": {
       "_model_module_version": "~2.1.4",
       "_view_module_version": "~2.1.4"
      }
     },
     "8d7fc110324546d9aebd36ff226f4bf2": {
      "model_module": "jupyter-js-widgets",
      "model_module_version": "~2.1.4",
      "model_name": "LayoutModel",
      "state": {
       "_model_module_version": "~2.1.4",
       "_view_module_version": "~2.1.4"
      }
     },
     "8eccf347b71c4419be022adfa0638384": {
      "model_module": "jupyter-js-widgets",
      "model_module_version": "~2.1.4",
      "model_name": "VBoxModel",
      "state": {
       "_dom_classes": [
        "widget-interact"
       ],
       "_model_module_version": "~2.1.4",
       "_view_module_version": "~2.1.4",
       "children": [
        "IPY_MODEL_3a4fd04d76374e49976727fe997facad",
        "IPY_MODEL_43630c5161514d1ea80ce8563c7bf7c4",
        "IPY_MODEL_e9ea4289d8f042928f4f79dcb9fc19fa",
        "IPY_MODEL_7324d536d7564cd8bec3f793b86ac245",
        "IPY_MODEL_6f17e0d1a77b47f1852d30e2edfffdfb"
       ],
       "layout": "IPY_MODEL_d18bc63641c64e35b611ef52e7434640"
      }
     },
     "8f89bdee77404a0daa01422fea1bf6f4": {
      "model_module": "jupyter-js-widgets",
      "model_module_version": "~2.1.4",
      "model_name": "FloatSliderModel",
      "state": {
       "_model_module_version": "~2.1.4",
       "_view_module_version": "~2.1.4",
       "description": "Ki",
       "layout": "IPY_MODEL_51f50f36006f46f0898689aad63fe420",
       "max": 5,
       "step": 0.001
      }
     },
     "964244f9b98f443e9a08860bb79a4e3f": {
      "model_module": "jupyter-js-widgets",
      "model_module_version": "~2.1.4",
      "model_name": "FloatSliderModel",
      "state": {
       "_model_module_version": "~2.1.4",
       "_view_module_version": "~2.1.4",
       "description": "gear_ratio",
       "layout": "IPY_MODEL_201f2dd72b1e4ec1b22a6cb9b978b209",
       "max": 10,
       "min": 1,
       "step": 0.1,
       "value": 3
      }
     },
     "96e503f8c3034e8d97abecf094130bba": {
      "model_module": "jupyter-js-widgets",
      "model_module_version": "~2.1.4",
      "model_name": "FloatSliderModel",
      "state": {
       "_model_module_version": "~2.1.4",
       "_view_module_version": "~2.1.4",
       "description": "motor_duty",
       "layout": "IPY_MODEL_e474cac8715648eda7c962e2946345a3",
       "max": 1,
       "step": 0.01,
       "value": 0.5
      }
     },
     "977f902595d841b0a8c87b5fb8f0ae27": {
      "model_module": "jupyter-js-widgets",
      "model_module_version": "~2.1.4",
      "model_name": "LayoutModel",
      "state": {
       "_model_module_version": "~2.1.4",
       "_view_module_version": "~2.1.4"
      }
     },
     "993ab172bfc34095b03763b370495283": {
      "model_module": "jupyter-js-widgets",
      "model_module_version": "~2.1.4",
      "model_name": "OutputModel",
      "state": {
       "_dom_classes": [],
       "_model_module": "jupyter-js-widgets",
       "_model_module_version": "~2.1.4",
       "_view_module": "jupyter-js-widgets",
       "_view_module_version": "~2.1.4",
       "layout": "IPY_MODEL_8ac6f58562e74ad69f3e3e015fc8b0ab",
       "msg_throttle": 1
      }
     },
     "9d8c60b8c87a42c5948b0d354510ce72": {
      "model_module": "jupyter-js-widgets",
      "model_module_version": "~2.1.4",
      "model_name": "LayoutModel",
      "state": {
       "_model_module_version": "~2.1.4",
       "_view_module_version": "~2.1.4"
      }
     },
     "9dd4c2ece86b4819bba64f0b102890f1": {
      "model_module": "jupyter-js-widgets",
      "model_module_version": "~2.1.4",
      "model_name": "FloatSliderModel",
      "state": {
       "_model_module_version": "~2.1.4",
       "_view_module_version": "~2.1.4",
       "description": "mass_gram",
       "layout": "IPY_MODEL_31df72f3e58440ff981f9a8b506ca78b",
       "max": 200,
       "min": 5,
       "step": 0.5,
       "value": 30
      }
     },
     "9fd86b13781042ae8d7c9f409570ee23": {
      "model_module": "jupyter-js-widgets",
      "model_module_version": "~2.1.4",
      "model_name": "LayoutModel",
      "state": {
       "_model_module_version": "~2.1.4",
       "_view_module_version": "~2.1.4"
      }
     },
     "a419d535761a4f1b8b44c2c9270d4596": {
      "model_module": "jupyter-js-widgets",
      "model_module_version": "~2.1.4",
      "model_name": "LayoutModel",
      "state": {
       "_model_module_version": "~2.1.4",
       "_view_module_version": "~2.1.4"
      }
     },
     "a4666b7ff95a407fb5f1ce915c70785d": {
      "model_module": "jupyter-js-widgets",
      "model_module_version": "~2.1.4",
      "model_name": "OutputModel",
      "state": {
       "_dom_classes": [],
       "_model_module": "jupyter-js-widgets",
       "_model_module_version": "~2.1.4",
       "_view_module": "jupyter-js-widgets",
       "_view_module_version": "~2.1.4",
       "layout": "IPY_MODEL_6ba68e917f09406bbc3c8dd9ce04d17e",
       "msg_throttle": 1
      }
     },
     "a594ac5e6d5946b988c45c4fbb57120e": {
      "model_module": "jupyter-js-widgets",
      "model_module_version": "~2.1.4",
      "model_name": "FloatSliderModel",
      "state": {
       "_model_module_version": "~2.1.4",
       "_view_module_version": "~2.1.4",
       "description": "target",
       "layout": "IPY_MODEL_8cb0feb1371d43f8ad648e313be7d467",
       "max": 3,
       "step": 0.1,
       "value": 1
      }
     },
     "a8a9d5c4e0654ef3a3e144ccf30cd772": {
      "model_module": "jupyter-js-widgets",
      "model_module_version": "~2.1.4",
      "model_name": "LayoutModel",
      "state": {
       "_model_module_version": "~2.1.4",
       "_view_module_version": "~2.1.4"
      }
     },
     "a93b1abc2f0e4e33987ff82c23d21939": {
      "model_module": "jupyter-js-widgets",
      "model_module_version": "~2.1.4",
      "model_name": "OutputModel",
      "state": {
       "_dom_classes": [],
       "_model_module": "jupyter-js-widgets",
       "_model_module_version": "~2.1.4",
       "_view_module": "jupyter-js-widgets",
       "_view_module_version": "~2.1.4",
       "layout": "IPY_MODEL_b07da7d6fc6944bba912dfcb871727b3",
       "msg_throttle": 1
      }
     },
     "acdd9c7a865048bc804a2fb87bc9d48c": {
      "model_module": "jupyter-js-widgets",
      "model_module_version": "~2.1.4",
      "model_name": "LayoutModel",
      "state": {
       "_model_module_version": "~2.1.4",
       "_view_module_version": "~2.1.4"
      }
     },
     "aee616990ef149fabcdbcbe22abe44e0": {
      "model_module": "jupyter-js-widgets",
      "model_module_version": "~2.1.4",
      "model_name": "FloatSliderModel",
      "state": {
       "_model_module_version": "~2.1.4",
       "_view_module_version": "~2.1.4",
       "description": "mass_gram",
       "layout": "IPY_MODEL_acdd9c7a865048bc804a2fb87bc9d48c",
       "max": 200,
       "min": 5,
       "step": 0.5,
       "value": 30
      }
     },
     "b07da7d6fc6944bba912dfcb871727b3": {
      "model_module": "jupyter-js-widgets",
      "model_module_version": "~2.1.4",
      "model_name": "LayoutModel",
      "state": {
       "_model_module_version": "~2.1.4",
       "_view_module_version": "~2.1.4"
      }
     },
     "b080e8ef99f747c1a29f8ff4a348a55c": {
      "model_module": "jupyter-js-widgets",
      "model_module_version": "~2.1.4",
      "model_name": "LayoutModel",
      "state": {
       "_model_module_version": "~2.1.4",
       "_view_module_version": "~2.1.4"
      }
     },
     "bd3f679d7d0f4befa7578f8613bb7fae": {
      "model_module": "jupyter-js-widgets",
      "model_module_version": "~2.1.4",
      "model_name": "LayoutModel",
      "state": {
       "_model_module_version": "~2.1.4",
       "_view_module_version": "~2.1.4"
      }
     },
     "bd75cbcb82df4f269e1e98bb6e1b5957": {
      "model_module": "jupyter-js-widgets",
      "model_module_version": "~2.1.4",
      "model_name": "LayoutModel",
      "state": {
       "_model_module_version": "~2.1.4",
       "_view_module_version": "~2.1.4"
      }
     },
     "cdbb66eb274f40bf9729d31e9766d8fb": {
      "model_module": "jupyter-js-widgets",
      "model_module_version": "~2.1.4",
      "model_name": "FloatSliderModel",
      "state": {
       "_model_module_version": "~2.1.4",
       "_view_module_version": "~2.1.4",
       "description": "Kp",
       "layout": "IPY_MODEL_1759309698b74976849a1037bf84e49b",
       "max": 10,
       "min": 0.01,
       "step": 0.01,
       "value": 1
      }
     },
     "d18bc63641c64e35b611ef52e7434640": {
      "model_module": "jupyter-js-widgets",
      "model_module_version": "~2.1.4",
      "model_name": "LayoutModel",
      "state": {
       "_model_module_version": "~2.1.4",
       "_view_module_version": "~2.1.4"
      }
     },
     "d68eb088be224fd3b3a2206cf70cc4de": {
      "model_module": "jupyter-js-widgets",
      "model_module_version": "~2.1.4",
      "model_name": "LayoutModel",
      "state": {
       "_model_module_version": "~2.1.4",
       "_view_module_version": "~2.1.4"
      }
     },
     "da8317adc3e14ccf910b7b9b901433e5": {
      "model_module": "jupyter-js-widgets",
      "model_module_version": "~2.1.4",
      "model_name": "LayoutModel",
      "state": {
       "_model_module_version": "~2.1.4",
       "_view_module_version": "~2.1.4"
      }
     },
     "dc7067f21bcc48f0b4ef3b4764be36d6": {
      "model_module": "jupyter-js-widgets",
      "model_module_version": "~2.1.4",
      "model_name": "LayoutModel",
      "state": {
       "_model_module_version": "~2.1.4",
       "_view_module_version": "~2.1.4"
      }
     },
     "dcc55637159b4b85beba6f4c4ae5dcd7": {
      "model_module": "jupyter-js-widgets",
      "model_module_version": "~2.1.4",
      "model_name": "FloatSliderModel",
      "state": {
       "_model_module_version": "~2.1.4",
       "_view_module_version": "~2.1.4",
       "description": "Kd",
       "layout": "IPY_MODEL_9fd86b13781042ae8d7c9f409570ee23",
       "max": 5,
       "step": 0.01
      }
     },
     "e2d7c877ef7c4297b20e0ad7e54c8aed": {
      "model_module": "jupyter-js-widgets",
      "model_module_version": "~2.1.4",
      "model_name": "LayoutModel",
      "state": {
       "_model_module_version": "~2.1.4",
       "_view_module_version": "~2.1.4"
      }
     },
     "e474cac8715648eda7c962e2946345a3": {
      "model_module": "jupyter-js-widgets",
      "model_module_version": "~2.1.4",
      "model_name": "LayoutModel",
      "state": {
       "_model_module_version": "~2.1.4",
       "_view_module_version": "~2.1.4"
      }
     },
     "e5338feb28d14c1abefbeb26f2946851": {
      "model_module": "jupyter-js-widgets",
      "model_module_version": "~2.1.4",
      "model_name": "FloatSliderModel",
      "state": {
       "_model_module_version": "~2.1.4",
       "_view_module_version": "~2.1.4",
       "description": "Kp",
       "layout": "IPY_MODEL_1b9405dac1f444459f3724be8d44448c",
       "max": 3,
       "min": 0.01,
       "step": 0.01,
       "value": 1
      }
     },
     "e949676c6b66417fadff0277cdd54072": {
      "model_module": "jupyter-js-widgets",
      "model_module_version": "~2.1.4",
      "model_name": "VBoxModel",
      "state": {
       "_dom_classes": [
        "widget-interact"
       ],
       "_model_module_version": "~2.1.4",
       "_view_module_version": "~2.1.4",
       "children": [
        "IPY_MODEL_964244f9b98f443e9a08860bb79a4e3f",
        "IPY_MODEL_482ffa26b9c748b195b4a4f8a039e98f",
        "IPY_MODEL_aee616990ef149fabcdbcbe22abe44e0",
        "IPY_MODEL_a93b1abc2f0e4e33987ff82c23d21939"
       ],
       "layout": "IPY_MODEL_dc7067f21bcc48f0b4ef3b4764be36d6"
      }
     },
     "e9ea4289d8f042928f4f79dcb9fc19fa": {
      "model_module": "jupyter-js-widgets",
      "model_module_version": "~2.1.4",
      "model_name": "FloatSliderModel",
      "state": {
       "_model_module_version": "~2.1.4",
       "_view_module_version": "~2.1.4",
       "description": "Kd",
       "layout": "IPY_MODEL_5ce3c3dce72a406d803f907f92879891",
       "max": 5,
       "step": 0.01
      }
     },
     "ed55e2905b4947fa846a3c25514cbdca": {
      "model_module": "jupyter-js-widgets",
      "model_module_version": "~2.1.4",
      "model_name": "LayoutModel",
      "state": {
       "_model_module_version": "~2.1.4",
       "_view_module_version": "~2.1.4"
      }
     },
     "f2c0f6f4790d454dba562734ed3f1a54": {
      "model_module": "jupyter-js-widgets",
      "model_module_version": "~2.1.4",
      "model_name": "OutputModel",
      "state": {
       "_dom_classes": [],
       "_model_module": "jupyter-js-widgets",
       "_model_module_version": "~2.1.4",
       "_view_module": "jupyter-js-widgets",
       "_view_module_version": "~2.1.4",
       "layout": "IPY_MODEL_bd75cbcb82df4f269e1e98bb6e1b5957",
       "msg_throttle": 1
      }
     },
     "f8bc588232d54ecca8370c853dee7b7d": {
      "model_module": "jupyter-js-widgets",
      "model_module_version": "~2.1.4",
      "model_name": "LayoutModel",
      "state": {
       "_model_module_version": "~2.1.4",
       "_view_module_version": "~2.1.4"
      }
     },
     "fd1b38bc3cf946ab80080b3854141d58": {
      "model_module": "jupyter-js-widgets",
      "model_module_version": "~2.1.4",
      "model_name": "LayoutModel",
      "state": {
       "_model_module_version": "~2.1.4",
       "_view_module_version": "~2.1.4"
      }
     }
    },
    "version_major": 1,
    "version_minor": 0
   }
  }
 },
 "nbformat": 4,
 "nbformat_minor": 2
}

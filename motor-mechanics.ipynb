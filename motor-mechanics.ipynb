{
 "cells": [
  {
   "cell_type": "code",
   "execution_count": 1,
   "metadata": {
    "scrolled": true
   },
   "outputs": [
    {
     "name": "stdout",
     "output_type": "stream",
     "text": [
      "モーターの回路方程式\n",
      "IR= \n"
     ]
    },
    {
     "data": {
      "image/png": "[encoded data removed]",
      "text/latex": [
       "$$\\frac{1}{R} \\left(- K_{E} \\dot{\\phi}_R + V_{MR}\\right)$$"
      ],
      "text/plain": [
       "-K_E⋅\\dot{\\phi}_R + V_MR\n",
       "────────────────────────\n",
       "           R            "
      ]
     },
     "metadata": {},
     "output_type": "display_data"
    },
    {
     "name": "stdout",
     "output_type": "stream",
     "text": [
      "IL= \n"
     ]
    },
    {
     "data": {
      "image/png": "[encoded data removed]",
      "text/latex": [
       "$$\\frac{1}{R} \\left(- K_{E} \\dot{\\phi}_L + V_{ML}\\right)$$"
      ],
      "text/plain": [
       "-K_E⋅\\dot{\\phi}_L + V_ML\n",
       "────────────────────────\n",
       "           R            "
      ]
     },
     "metadata": {},
     "output_type": "display_data"
    }
   ],
   "source": [
    "# -*- coding: utf-8 -*-\n",
    "from sympy import *\n",
    "from IPython.core.display import display\n",
    "init_printing()\n",
    "\n",
    "VMR, IR, dphiR = symbols('V_MR I_R \\dot{\\phi}_R')\n",
    "VML, IL, dphiL = symbols('V_ML I_L \\dot{\\phi}_L')\n",
    "R, KE = symbols('R K_E')\n",
    "eq1_R = Eq(VMR, R*IR + KE*dphiR)\n",
    "eq1_L = Eq(VML, R*IL + KE*dphiL)\n",
    "\n",
    "print('モーターの回路方程式')\n",
    "IR = solve(eq1_R, IR)[0]\n",
    "IL = solve(eq1_L, IL)[0]\n",
    "# eq1_L = Eq(IL, solve(eq1_L, IL)[0])\n",
    "\n",
    "print('IR= ')\n",
    "display(IR)\n",
    "print('IL= ')\n",
    "display(IL)"
   ]
  },
  {
   "cell_type": "code",
   "execution_count": 2,
   "metadata": {},
   "outputs": [
    {
     "name": "stdout",
     "output_type": "stream",
     "text": [
      "電流-トルクの関係式\n"
     ]
    },
    {
     "data": {
      "image/png": "[encoded data removed]",
      "text/latex": [
       "$$\\frac{K_{T}}{R} \\left(- K_{E} \\dot{\\phi}_R + V_{MR}\\right)$$"
      ],
      "text/plain": [
       "K_T⋅(-K_E⋅\\dot{\\phi}_R + V_MR)\n",
       "──────────────────────────────\n",
       "              R               "
      ]
     },
     "metadata": {},
     "output_type": "display_data"
    },
    {
     "data": {
      "image/png": "[encoded data removed]",
      "text/latex": [
       "$$\\frac{K_{T}}{R} \\left(- K_{E} \\dot{\\phi}_L + V_{ML}\\right)$$"
      ],
      "text/plain": [
       "K_T⋅(-K_E⋅\\dot{\\phi}_L + V_ML)\n",
       "──────────────────────────────\n",
       "              R               "
      ]
     },
     "metadata": {},
     "output_type": "display_data"
    }
   ],
   "source": [
    "tau_R, tau_L = symbols('tau_R tau_L')\n",
    "KT = symbols('K_T')\n",
    "\n",
    "# eq2_R = Eq(tau_R, KT*IR)\n",
    "# eq2_L = Eq(tau_L, KT*IL)\n",
    "tau_R = KT*IR\n",
    "tau_L = KT*IL\n",
    "print('電流-トルクの関係式')\n",
    "display(tau_R)\n",
    "display(tau_L)"
   ]
  },
  {
   "cell_type": "code",
   "execution_count": 3,
   "metadata": {
    "scrolled": true
   },
   "outputs": [
    {
     "data": {
      "image/png": "[encoded data removed]",
      "text/latex": [
       "$$\\dot{v} = \\frac{K_{T} N_{G}}{R m r} \\left(- K_{E} \\dot{\\phi}_L - K_{E} \\dot{\\phi}_R + V_{ML} + V_{MR}\\right)$$"
      ],
      "text/plain": [
       "          K_T⋅N_{G}⋅(-K_E⋅\\dot{\\phi}_L - K_E⋅\\dot{\\phi}_R + V_ML + V_MR)\n",
       "\\dot{v} = ──────────────────────────────────────────────────────────────\n",
       "                                      R⋅m⋅r                             "
      ]
     },
     "metadata": {},
     "output_type": "display_data"
    },
    {
     "data": {
      "image/png": "[encoded data removed]",
      "text/latex": [
       "$$v = \\frac{\\dot{\\phi}_L r}{N_{G}} + \\frac{\\dot{\\phi}_R r}{N_{G}}$$"
      ],
      "text/plain": [
       "    \\dot{\\phi}_L⋅r   \\dot{\\phi}_R⋅r\n",
       "v = ────────────── + ──────────────\n",
       "        N_{G}            N_{G}     "
      ]
     },
     "metadata": {},
     "output_type": "display_data"
    }
   ],
   "source": [
    "m, v, x, dotv, dotx = symbols('m v x \\dot{v} \\dot{x}')\n",
    "FR, FL  = symbols('F_R F_L')\n",
    "r, Ng = symbols('r N_{G}')\n",
    "FR = Ng*tau_R/r\n",
    "FL = Ng*tau_L/r\n",
    "\n",
    "eq3_v = Eq(dotv, (FR+FL)/m); \n",
    "eq3_x = Eq(v, dphiR*r/Ng+dphiL*r/Ng );\n",
    "# eq3_vx = Eq(dotx, v)\n",
    "\n",
    "display(simplify(eq3_v), eq3_x)"
   ]
  },
  {
   "cell_type": "markdown",
   "metadata": {},
   "source": [
    "ここで式を簡単にするために，\n",
    "$$ \\dot{\\phi}:= \\dot{\\phi}_R + \\dot{\\phi}_L $$\n",
    "$$ V_m := V_R + V_L$$\n",
    "と定義する．すると，"
   ]
  },
  {
   "cell_type": "code",
   "execution_count": 4,
   "metadata": {
    "scrolled": true
   },
   "outputs": [
    {
     "data": {
      "image/png": "[encoded data removed]",
      "text/latex": [
       "$$\\dot{x} = v$$"
      ],
      "text/plain": [
       "\\dot{x} = v"
      ]
     },
     "metadata": {},
     "output_type": "display_data"
    },
    {
     "data": {
      "image/png": "[encoded data removed]",
      "text/latex": [
       "$$\\dot{v} = \\frac{K_{T} N_{G}}{R m r} \\left(- K_{E} \\dot{\\phi} + V_{m}\\right)$$"
      ],
      "text/plain": [
       "          K_T⋅N_{G}⋅(-K_E⋅\\dot{\\phi} + Vₘ)\n",
       "\\dot{v} = ────────────────────────────────\n",
       "                       R⋅m⋅r              "
      ]
     },
     "metadata": {},
     "output_type": "display_data"
    },
    {
     "data": {
      "image/png": "[encoded data removed]",
      "text/latex": [
       "$$v = \\frac{\\dot{\\phi} r}{N_{G}}$$"
      ],
      "text/plain": [
       "    \\dot{\\phi}⋅r\n",
       "v = ────────────\n",
       "       N_{G}    "
      ]
     },
     "metadata": {},
     "output_type": "display_data"
    }
   ],
   "source": [
    "# TODO: 等式に代入することはできる？\n",
    "phi, dphi, Vm = var('\\phi \\dot{\\phi} V_m')\n",
    "\n",
    "eq4_x = Eq(dotx, v)\n",
    "eq4_v = Eq(dotv, (KT*Ng)/(R*m*r)*(-KE*dphi+ Vm))\n",
    "eq4_phi = Eq(v, dphi*r/Ng)\n",
    "\n",
    "display(eq4_x,eq4_v, eq4_phi)"
   ]
  },
  {
   "cell_type": "markdown",
   "metadata": {},
   "source": [
    "#### この式を $\\dot{x},\\dot{v},\\dot{phi}$について整理してみます．すると次のような関係式が得られます．"
   ]
  },
  {
   "cell_type": "code",
   "execution_count": 5,
   "metadata": {
    "scrolled": true
   },
   "outputs": [
    {
     "data": {
      "image/png": "[encoded data removed]",
      "text/latex": [
       "$$\\dot{x} = v$$"
      ],
      "text/plain": [
       "\\dot{x} = v"
      ]
     },
     "metadata": {},
     "output_type": "display_data"
    },
    {
     "data": {
      "image/png": "[encoded data removed]",
      "text/latex": [
       "$$\\dot{v} = - \\frac{K_{E} K_{T} N_{G}^{2} v}{R m r^{2}} + \\frac{K_{T} N_{G} V_{m}}{R m r}$$"
      ],
      "text/plain": [
       "                         2                 \n",
       "            K_E⋅K_T⋅N_{G} ⋅v   K_T⋅N_{G}⋅Vₘ\n",
       "\\dot{v} = - ──────────────── + ────────────\n",
       "                      2           R⋅m⋅r    \n",
       "                 R⋅m⋅r                     "
      ]
     },
     "metadata": {},
     "output_type": "display_data"
    },
    {
     "data": {
      "image/png": "[encoded data removed]",
      "text/latex": [
       "$$\\dot{\\phi} = \\frac{N_{G} v}{r}$$"
      ],
      "text/plain": [
       "             N_{G}⋅v\n",
       "\\dot{\\phi} = ───────\n",
       "                r   "
      ]
     },
     "metadata": {},
     "output_type": "display_data"
    }
   ],
   "source": [
    "sols = solve([eq4_v, eq4_phi, eq4_x], [dotv, dphi, dotx])\n",
    "\n",
    "eq_sol_v = Eq(dotv, sols[dotv])\n",
    "eq_sol_phi = Eq(dphi, sols[dphi])\n",
    "eq_sol_x = Eq(dotx, sols[dotx])\n",
    "\n",
    "display(eq_sol_x, expand(eq_sol_v),eq_sol_phi)\n",
    "polv = Poly(sols[dotv], v)\n",
    "polp = Poly(sols[dphi], v)\n",
    "\n",
    "a = polv.coeffs()[0] # polvの0番目の係数\n",
    "b = polv.coeffs()[1] # polvの1番目の係数\n",
    "c = polp.coeffs()[0] # polpの0番目の係数"
   ]
  },
  {
   "cell_type": "markdown",
   "metadata": {},
   "source": [
    "シミュレーションをする上で，上式をそのまま使っても数値計算はできますが，以降で説明する状態方程式形式に形を少し変えると，\n",
    "既存のライブラリ力を借りやすくなるので，変換してみます．\n",
    "\n",
    "状態方程式は，状態変数$X=[x_1, x_2,...,x_n]^T$および出力変数$Y=[y_1, y_2,...,y_m]^T$ に対して，次のような係数行列$A,B,C$を含んだ形式で表される方程式です．(対象によっては，2番目の式を$Y=CX + Du$とする場合もあります)\n",
    "\n",
    "\\begin{eqnarray}\n",
    "    \\dot{X} &=& AX + Bu \\\\\n",
    "    Y &=& CX\n",
    "\\end{eqnarray}"
   ]
  },
  {
   "cell_type": "code",
   "execution_count": 6,
   "metadata": {
    "scrolled": true
   },
   "outputs": [
    {
     "name": "stdout",
     "output_type": "stream",
     "text": [
      "<DCマウスの直進モデル>\n"
     ]
    },
    {
     "data": {
      "text/latex": [
       "$$\\left[\\begin{matrix}\\dot{x}\\\\\\dot{v}\\\\\\dot{\\phi}\\end{matrix}\\right] = \\left[\\begin{matrix}0 & 1 & 0\\\\0 & - \\frac{K_{E} K_{T} N_{G}^{2}}{R m r^{2}} & 0\\\\0 & \\frac{N_{G}}{r} & 0\\end{matrix}\\right] \\left[\\begin{matrix}x\\\\v\\\\\\phi\\end{matrix}\\right] + \\left[\\begin{matrix}0\\\\\\frac{K_{T} N_{G} V_{m}}{R m r}\\\\0\\end{matrix}\\right] V_{m}$$"
      ],
      "text/plain": [
       "⎡ \\dot{x}  ⎤ = ⎡0         1          0⎤⋅⎡ x  ⎤ + ⎡     0      ⎤⋅Vₘ\n",
       "⎢          ⎥   ⎢                      ⎥ ⎢    ⎥   ⎢            ⎥   \n",
       "⎢ \\dot{v}  ⎥   ⎢                 2    ⎥ ⎢ v  ⎥   ⎢K_T⋅N_{G}⋅Vₘ⎥   \n",
       "⎢          ⎥   ⎢   -K_E⋅K_T⋅N_{G}     ⎥ ⎢    ⎥   ⎢────────────⎥   \n",
       "⎣\\dot{\\phi}⎦   ⎢0  ────────────────  0⎥ ⎣\\phi⎦   ⎢   R⋅m⋅r    ⎥   \n",
       "               ⎢             2        ⎥          ⎢            ⎥   \n",
       "               ⎢        R⋅m⋅r         ⎥          ⎣     0      ⎦   \n",
       "               ⎢                      ⎥                           \n",
       "               ⎢        N_{G}         ⎥                           \n",
       "               ⎢0       ─────        0⎥                           \n",
       "               ⎣          r           ⎦                           "
      ]
     },
     "execution_count": 6,
     "metadata": {},
     "output_type": "execute_result"
    }
   ],
   "source": [
    "A = Matrix([ [0,1,0], [0,a,0], [0,c,0]])\n",
    "B = Matrix([0, b, 0])\n",
    "X = Matrix([x, v, phi])\n",
    "dX = Matrix([dotx, dotv, dphi])\n",
    "\n",
    "print('<DCマウスの直進モデル>')\n",
    "Eq(dX, MatAdd(MatMul(A,X), MatMul(B,Vm)))"
   ]
  },
  {
   "cell_type": "markdown",
   "metadata": {},
   "source": [
    "DCマウスの直進モデルは上記の式で与えられることが分かりました．\n",
    "\n",
    "---\n",
    "\n",
    "### モーターに一定値入力を与えたときのマイクロマウスの直進走行をシミュレーション\n",
    "\n",
    "状態方程式は 1 階連立型線形微分方程式の形式で表されているので，数値計算をするのは簡単です．\n",
    "計算法にはいくつか種類がありますが，ここではPythonのcontrolライブラリを使ってみます．\n",
    "実行するあらかじめPythonで`control`をインストールしておいてください．\n",
    "pipが入っていれば，端末を開いて\n",
    "\n",
    "    sudo pip install control\n",
    "とコマンドを打てば，あとは自動でインストールできます．\n",
    "\n",
    "状態方程式モデルの応答をシミュレーションするには，python-controlのStateSpaceクラスを使うと簡単です．numpyのarrayクラスを使って係数行列\n",
    "$A,B,C,(D=0)$を作成し，StateSpace(A,B,C,D)を与えることで状態方程式モデルを作成できます．\n",
    "\n",
    "一定値入力 $u(t)=1,t >0$ のことは制御工学の分野では**ステップ入力**と呼ばれます(波形が段差:stepのように見える)．\n",
    "このようなステップ入力を与えたときの応答を調べるといった操作はよく行われるので，python-controlにも\n",
    "専用の関数(`control.matlab.step`)が用意されています．"
   ]
  },
  {
   "cell_type": "code",
   "execution_count": 7,
   "metadata": {},
   "outputs": [
    {
     "data": {
      "application/vnd.jupyter.widget-view+json": {
       "model_id": "4c8ee99084f54147a146e16bc258c241"
      }
     },
     "metadata": {},
     "output_type": "display_data"
    }
   ],
   "source": [
    "from control import *\n",
    "import numpy as np\n",
    "from matplotlib import pylab as plt\n",
    "import matplotlib \n",
    "%matplotlib inline\n",
    "plt.rcParams[\"font.size\"] = 13\n",
    "\n",
    "from __future__ import print_function\n",
    "from ipywidgets import interact, FloatSlider, RadioButtons\n",
    "\n",
    "# スライドバーで動かせるプロットを作成\n",
    "@interact(gear_ratio=(1.0, 10, 0.1), motor_duty=(0, 1.0, 0.01), mass_gram=(5, 200, 0.5))\n",
    "def sim_trans_system(gear_ratio=3.0, motor_duty=0.5, mass_gram=30):\n",
    "    Ng = gear_ratio; # ギアの減速比(モーター：ホイール=1:n)\n",
    "    m = mass_gram/1000;\n",
    "    \n",
    "    # パラメータの設定\n",
    "    # 回路定数 (MK06-4.5の場合)\n",
    "    R = 5.0; # ohm\n",
    "    KE = 7.1504e-04; # 逆起電力定数[V/(rad/s)]\n",
    "    KT = 6.5e-04; # トルク定数[Nm/I]\n",
    "    Vbat = 4.0; # モータドライバの電源電圧[V]\n",
    "\n",
    "    # 機体パラメータ\n",
    "#     Ng = 3.0;          # ギアの減速比(モーター：ホイール=1:n), スライドバーで設定\n",
    "    r = 7.5e-03;    # タイヤ半径[m]\n",
    "#     m = 75e-03;     # 機体重量[kg], スライドバーで設定\n",
    "    w = 30e-03;     # 機体の中心から右端までの距離(横幅/2) [m]\n",
    "    h = 45e-03;     # 機体の中心から先端までの距離(縦幅/2) [m]\n",
    "    # J = 1/3*(w**2+h**2)*m; # 機体の慣性モーメント(形状を長方形に近似)\n",
    "\n",
    "    \n",
    "    # 状態空間形式(dX/dt = AX + Bu, y = Cx)でシステムを表現    \n",
    "    a = -(KT*KE*Ng**2)/(R*m*r**2)\n",
    "    b = (2*motor_duty*Vbat) * (KT*Ng)/(m*r*R) # Vm = (2*motor_duty*Vbat)*u と置いた\n",
    "    c = 1/(Ng*r)\n",
    "    A = np.array([ [0,1,0], [0,a,0], [0,c,0]]) \n",
    "    B = np.array([[0], [b], [0]])\n",
    "    C = np.array([[1,0,0],[0,1,0],[0,0,1]])\n",
    "    D = np.array([[0],[0],[0]])\n",
    "    sys = StateSpace(A, B, C, D)\n",
    "\n",
    "    # 線形シミュレーション:ステップ入力 u(t)=1 (t>0)\n",
    "    t = np.linspace(0, 20, 1000)\n",
    "    yout, T = matlab.step(sys, t) \n",
    "    v_array = yout[:,1]\n",
    "    dphi_array = v_array*c\n",
    "    I_array = 2*(-KE*dphi_array+(motor_duty*Vbat))/R\n",
    "\n",
    "    # シミュレーション結果のプロット\n",
    "    fig, (axL, axR) = plt.subplots(ncols=2, figsize=(16,6))\n",
    "    axL.plot(T, v_array)\n",
    "    axL.axhline(b/-a, color=\"b\", linestyle=\"--\");\n",
    "    axL.set_xlim(0, 20);  axL.set_ylim(0,25);\n",
    "    axL.set_xlabel('time t[s]');axL.set_ylabel('speed vx [m/s]')\n",
    "    axL.set_title('  Forward Speed (Vm: Step Input)');  # 日本語使えないつらい\n",
    "        \n",
    "    axR.plot(T, I_array)\n",
    "    axR.set_xlim(0, 20);\n",
    "    axR.set_xlabel('time t[s]');axR.set_ylabel('current I_total [A]')\n",
    "\n",
    "    axR.set_title('Total Current of 2 Motors [A]');  # 日本語使えないつらい\n",
    "    \n",
    "    plt.show();\n"
   ]
  },
  {
   "cell_type": "code",
   "execution_count": 8,
   "metadata": {
    "collapsed": true
   },
   "outputs": [],
   "source": [
    "class MouseConfig:\n",
    "    def __init__(self):\n",
    "        self.R = 5.0; # 抵抗 [ohm]\n",
    "        self.KE = 7.1504e-04; # 逆起電力定数[V/(rad/s)]\n",
    "        self.KT = 6.5e-04; # トルク定数[Nm/I]\n",
    "        self.Vbat = 4.0; # モータドライバの電源電圧[V]\n",
    "\n",
    "        # 機体パラメータ\n",
    "        self.Ng = 3.0;          # ギアの減速比(モーター：ホイール=1:n), スライドバーで設定\n",
    "        self.r = 7.5e-03;    # タイヤ半径[m]\n",
    "        self.m = 75e-03;     # 機体重量[kg], スライドバーで設定\n",
    "        self.w = 30e-03;     # 機体の中心から右端までの距離(横幅/2) [m]\n",
    "        self.h = 45e-03;     # 機体の中心から先端までの距離(縦幅/2) [m]\n",
    "        self.J = 1/3*(self.w**2+self.h**2)*self.m; # 機体の慣性モーメント(形状を長方形に近似)\n",
    "\n",
    "\n",
    "class MouseDynamics:\n",
    "    \"\"\"\n",
    "    Body and Motor Model (Transrational)\n",
    "    -\n",
    "    Input: \n",
    "        * duty :Duty ratio of the voltage input to the motor\n",
    "    Output:\n",
    "        * x: Position\n",
    "        * v: Speed (Forward +)\n",
    "        * phi: motor rotation [in radian]\n",
    "        \n",
    "    \"\"\"\n",
    "    \n",
    "    def __init__(self, config=-1):  # コンストラクタ\n",
    "        if config == -1:\n",
    "            # 回路定数 (MK06-4.5の場合)\n",
    "            self.R = 5.0; # ohm\n",
    "            self.KE = 7.1504e-04; # 逆起電力定数[V/(rad/s)]\n",
    "            self.KT = 6.5e-04; # トルク定数[Nm/I]\n",
    "            self.Vbat = 4.0; # モータドライバの電源電圧[V]\n",
    "\n",
    "            # 機体パラメータ\n",
    "            self.Ng = 3.0;          # ギアの減速比(モーター：ホイール=1:n), スライドバーで設定\n",
    "            self.r = 7.5e-03;    # タイヤ半径[m]\n",
    "            self.m = 75e-03;     # 機体重量[kg], スライドバーで設定\n",
    "            self.w = 30e-03;     # 機体の中心から右端までの距離(横幅/2) [m]\n",
    "            self.h = 45e-03;     # 機体の中心から先端までの距離(縦幅/2) [m]\n",
    "            self.J = 1/3*(self.w**2+self.h**2)*self.m; # 機体の慣性モーメント(形状を長方形に近似)\n",
    "        else:\n",
    "            self.R = config.R; # ohm\n",
    "            self.KE = config.KE; # 逆起電力定数[V/(rad/s)]\n",
    "            self.KT = config.KT; # トルク定数[Nm/I]\n",
    "            self.Vbat = config.Vbat; # モータドライバの電源電圧[V]\n",
    "            self.Ng = config.Ng;          # ギアの減速比(モーター：ホイール=1:n), スライドバーで設定\n",
    "            self.r = config.r;     # タイヤ半径[m]\n",
    "            self.m = config.m;     # 機体重量[kg], スライドバーで設定\n",
    "            self.w = config.w;     # 機体の中心から右端までの距離(横幅/2) [m]\n",
    "            self.h = config.h;     # 機体の中心から先端までの距離(縦幅/2) [m]\n",
    "            self.J = config.J;     # 機体の慣性モーメント(形状を長方形に近似)        \n",
    "\n",
    "        self._ismodified = False # モデル再計算フラグ\n",
    "        # state space model\n",
    "        a = -(self.KT*self.KE*self.Ng**2)/(self.R*self.m*self.r**2)\n",
    "        b = (2*self.Vbat) * (self.KT*self.Ng)/(self.m*self.r*self.R) # Vm = (2*motor_duty*Vbat)*u と置いた\n",
    "        c = 1/(self.Ng*self.r)\n",
    "        A = np.array([ [0,1,0], [0,a,0], [0,c,0]]) \n",
    "        B = np.array([[0], [b], [0]])\n",
    "        C = np.array([[1,0,0],[0,1,0],[0,0,1]])\n",
    "        D = np.array([[0],[0],[0]])\n",
    "        self.sys = StateSpace(A, B, C, D)\n",
    "        \n",
    "    def set_config(config):\n",
    "        self.R = config.R; # ohm\n",
    "        self.KE = config.KE; # 逆起電力定数[V/(rad/s)]\n",
    "        self.KT = config.KT; # トルク定数[Nm/I]\n",
    "        self.Vbat = config.Vbat; # モータドライバの電源電圧[V]\n",
    "        self.Ng = config.Ng;          # ギアの減速比(モーター：ホイール=1:n), スライドバーで設定\n",
    "        self.r = config.r;     # タイヤ半径[m]\n",
    "        self.m = config.m;     # 機体重量[kg], スライドバーで設定\n",
    "        self.w = config.w;     # 機体の中心から右端までの距離(横幅/2) [m]\n",
    "        self.h = config.h;     # 機体の中心から先端までの距離(縦幅/2) [m]\n",
    "        self.J = config.J;     # 機体の慣性モーメント(形状を長方形に近似)        \n",
    "        self._ismodified = True\n",
    "        \n",
    "    @property\n",
    "    def ss(self):\n",
    "        if self._ismodified: # パラメータに変更があればモデルを再計算\n",
    "            # state space model\n",
    "            a = -(self.KT*self.KE*self.Ng**2)/(self.R*self.m*self.r**2)\n",
    "            b = (2*self.Vbat) * (self.KT*self.Ng)/(self.m*self.r*self.R) # Vm = (2*motor_duty*Vbat)*u と置いた\n",
    "            c = 1/(self.Ng*self.r)\n",
    "            A = np.array([ [0,1,0], [0,a,0], [0,c,0]]) \n",
    "            B = np.array([[0], [b], [0]])\n",
    "            C = np.array([[1,0,0],[0,1,0],[0,0,1]])\n",
    "            D = np.array([[0],[0],[0]])\n",
    "            self.sys = StateSpace(A, B, C, D)\n",
    "            self._ismodified = False\n",
    "\n",
    "        return self.sys\n",
    "\n",
    "    "
   ]
  },
  {
   "cell_type": "code",
   "execution_count": 9,
   "metadata": {},
   "outputs": [],
   "source": [
    "config = MouseConfig()\n",
    "\n",
    "config.R = 5.0; # 抵抗 [ohm]\n",
    "config.KE = 7.1504e-04; # 逆起電力定数[V/(rad/s)]\n",
    "config.KT = 6.5e-04; # トルク定数[Nm/I]\n",
    "config.Vbat = 4.0; # モータドライバの電源電圧[V]\n",
    "config.Ng = 3.0;          # ギアの減速比(モーター：ホイール=1:n), スライドバーで設定\n",
    "config.r = 7.5e-03;    # タイヤ半径[m]\n",
    "config.m = 75e-03;     # 機体重量[kg], スライドバーで設定\n",
    "config.w = 30e-03;     # 機体の中心から右端までの距離(横幅/2) [m]\n",
    "config.h = 45e-03;     # 機体の中心から先端までの距離(縦幅/2) [m]\n",
    "config.J = 1/3*(config.w**2+config.h**2)*config.m; # 機体の慣性モーメント(形状を長方形に近似)\n",
    "mouse = MouseDynamics(config)\n"
   ]
  },
  {
   "cell_type": "code",
   "execution_count": 10,
   "metadata": {},
   "outputs": [
    {
     "data": {
      "image/png": "[encoded data removed]",
      "text/plain": [
       "<matplotlib.figure.Figure at 0x17c0e65c160>"
      ]
     },
     "metadata": {},
     "output_type": "display_data"
    }
   ],
   "source": [
    "# 線形シミュレーションの実行\n",
    "motor_duty = 0.5\n",
    "t = np.linspace(0, 20, 1000)\n",
    "u = np.ones(1000) * motor_duty # u(t)=duty (const)\n",
    "yout, T, xout = matlab.lsim(mouse.ss, u, t)\n",
    "v_array = xout[:,1]\n",
    "c = mouse.ss.A[2,1]\n",
    "dphi_array = v_array*c\n",
    "I_array = 2*(-config.KE*dphi_array+(config.Vbat))/config.R  # 回路方程式から計算\n",
    "\n",
    "# シミュレーション結果のプロット\n",
    "fig, (axL, axR) = plt.subplots(ncols=2, figsize=(16,6))\n",
    "\n",
    "axL.plot(T, v_array)\n",
    "axL.set_xlim(0, 20);  axL.set_ylim(0,25);\n",
    "axL.set_xlabel('time t[s]'); axL.set_ylabel('Speed vx [m/s]')\n",
    "axL.set_title('Forward Speed (duty: Step Input)');  \n",
    "# axL.tick_params(labelsize=13)\n",
    "\n",
    "axR.plot(T, I_array)\n",
    "axR.set_xlim(0, 20);\n",
    "axR.set_xlabel('time t[s]');axR.set_ylabel('current I_total [A]')\n",
    "axR.set_title('Total Current of 2 motors [A]');  \n",
    "# axR.tick_params(labelsize=13)\n",
    "\n",
    "plt.show();"
   ]
  },
  {
   "cell_type": "markdown",
   "metadata": {},
   "source": [
    "それでは直進走行モデルを用いて速度の制御を行ってみます．\n",
    "まず，第一ステップとして，ステップ入力で目標速度値が与えられたとき，応答速度が$t\\to \\infty$で偏差なく追従することを目指してみます．\n",
    "\n",
    "以下に示すのは，一番ベーシックなフィードバック制御系のブロック線図です．\n",
    "Pは制御対象でプラントと呼ばれることもあります．今回の例では，入力がdutyで出力が速度なシステムだと考えてください．  \n",
    "Kはコントローラを表します．目標値$v_{ref}$と実際の出力$v$との偏差$e$を入力し，内部で何らかの演算を行うことで制御対象へ与える入力値$u$を決定します．$K$のとり方は自由ですが，今回はメジャーな制御法の一つであるPID制御器設計してみましょう．\n",
    "\n",
    "PID制御器は時間領域では，\n",
    "$$\n",
    "    K(t) = K_p e  + K_i \\int_0^t edt + K_d \\dfrac{de}{dt}\n",
    "$$\n",
    "\n",
    "ラプラス変換形式では，\n",
    "\n",
    "$$\n",
    "    K(s) = K_p E(s)  + K_i \\dfrac{1}{s} E(s) + K_d sE(s) \\\\\n",
    "        = ( \\dfrac{K_d s^2 + K_p s +  + K_i}{s})E(s)\n",
    "$$\n",
    "\n",
    "と表すことができます．両者の式は等価なので，どちらを使っても同じ結果になりますが，\n",
    "ラプラス変換の方がブロック線図と相性がよく考えやすいのでこちらを使います．\n",
    "\n",
    "\n",
    "<img src=\"img/FeedbackSpeedControl.PNG\">\n"
   ]
  },
  {
   "cell_type": "code",
   "execution_count": 33,
   "metadata": {},
   "outputs": [
    {
     "data": {
      "application/vnd.jupyter.widget-view+json": {
       "model_id": "3906064a303f4c6c9e409c86d11d787e"
      }
     },
     "metadata": {},
     "output_type": "display_data"
    }
   ],
   "source": [
    "\n",
    "# スライドバーで動かせるプロットを作成\n",
    "@interact(Kp=(0.1, 10, 0.1), Ki=(0, 10, 0.1), Kd=(0, 10, 0.1), target=(0,10,0.1))\n",
    "def sim_closed_loop(Kp=1.0, Ki=0, Kd=0, target=1):\n",
    "    # PID 制御器 の作成\n",
    "#     Kp = 0.5\n",
    "#     Ki = 0.01\n",
    "#     Kd = 0.01\n",
    "    num = [Kd, Kp, Ki]\n",
    "    den = [1, 0]\n",
    "    K = matlab.tf(num, den)\n",
    "\n",
    "    dmux = StateSpace(0,np.array([0,0,0]),0,np.array([0,1,0]) )\n",
    "    P = series(mouse.ss , dmux) # 3出力あるうちの2番目(v)だけを取り出す． \n",
    "\n",
    "    # フィードバックループ\n",
    "    sys = matlab.feedback(K*P, 1, -1)  # ネガティブフィードバック\n",
    "\n",
    "    t = np.linspace(0, 20, 1000)\n",
    "    u = np.ones(1000) * target # u(t)=duty (const)\n",
    "    yout, T, xout = matlab.lsim(sys, u, t)\n",
    "\n",
    "    plt.plot(t,yout)\n",
    "#     plt.xlim(0,3)\n",
    "#     plt.ylim(0,5)\n",
    "    plt.show()\n",
    "\n"
   ]
  }
 ],
 "metadata": {
  "kernelspec": {
   "display_name": "Python 3",
   "language": "python",
   "name": "python3"
  },
  "language_info": {
   "codemirror_mode": {
    "name": "ipython",
    "version": 3
   },
   "file_extension": ".py",
   "mimetype": "text/x-python",
   "name": "python",
   "nbconvert_exporter": "python",
   "pygments_lexer": "ipython3",
   "version": "3.6.1"
  }
 },
 "nbformat": 4,
 "nbformat_minor": 2
}

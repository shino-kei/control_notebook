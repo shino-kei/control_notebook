{
 "cells": [
  {
   "cell_type": "code",
   "execution_count": 1,
   "metadata": {
    "scrolled": true
   },
   "outputs": [
    {
     "name": "stdout",
     "output_type": "stream",
     "text": [
      "モーターの回路方程式\n",
      "IR= \n"
     ]
    },
    {
     "data": {
      "image/png": "[encoded data removed]",
      "text/latex": [
       "$$\\frac{1}{R} \\left(- K_{E} \\dot{\\phi}_R + V_{MR}\\right)$$"
      ],
      "text/plain": [
       "-K_E⋅\\dot{\\phi}_R + V_MR\n",
       "────────────────────────\n",
       "           R            "
      ]
     },
     "metadata": {},
     "output_type": "display_data"
    },
    {
     "name": "stdout",
     "output_type": "stream",
     "text": [
      "IL= \n"
     ]
    },
    {
     "data": {
      "image/png": "[encoded data removed]",
      "text/latex": [
       "$$\\frac{1}{R} \\left(- K_{E} \\dot{\\phi}_L + V_{ML}\\right)$$"
      ],
      "text/plain": [
       "-K_E⋅\\dot{\\phi}_L + V_ML\n",
       "────────────────────────\n",
       "           R            "
      ]
     },
     "metadata": {},
     "output_type": "display_data"
    }
   ],
   "source": [
    "from sympy import *\n",
    "init_printing()\n",
    "\n",
    "VMR, IR, dphiR = symbols('V_MR I_R \\dot{\\phi}_R')\n",
    "VML, IL, dphiL = symbols('V_ML I_L \\dot{\\phi}_L')\n",
    "R, KE = symbols('R K_E')\n",
    "eq1_R = Eq(VMR, R*IR + KE*dphiR)\n",
    "eq1_L = Eq(VML, R*IL + KE*dphiL)\n",
    "\n",
    "print('モーターの回路方程式')\n",
    "IR = solve(eq1_R, IR)[0]\n",
    "IL = solve(eq1_L, IL)[0]\n",
    "# eq1_L = Eq(IL, solve(eq1_L, IL)[0])\n",
    "\n",
    "print('IR= ')\n",
    "display(IR)\n",
    "print('IL= ')\n",
    "display(IL)"
   ]
  },
  {
   "cell_type": "code",
   "execution_count": 2,
   "metadata": {},
   "outputs": [
    {
     "name": "stdout",
     "output_type": "stream",
     "text": [
      "電流-トルクの関係式\n"
     ]
    },
    {
     "data": {
      "image/png": "[encoded data removed]",
      "text/latex": [
       "$$\\frac{K_{T}}{R} \\left(- K_{E} \\dot{\\phi}_R + V_{MR}\\right)$$"
      ],
      "text/plain": [
       "K_T⋅(-K_E⋅\\dot{\\phi}_R + V_MR)\n",
       "──────────────────────────────\n",
       "              R               "
      ]
     },
     "metadata": {},
     "output_type": "display_data"
    },
    {
     "data": {
      "image/png": "[encoded data removed]",
      "text/latex": [
       "$$\\frac{K_{T}}{R} \\left(- K_{E} \\dot{\\phi}_L + V_{ML}\\right)$$"
      ],
      "text/plain": [
       "K_T⋅(-K_E⋅\\dot{\\phi}_L + V_ML)\n",
       "──────────────────────────────\n",
       "              R               "
      ]
     },
     "metadata": {},
     "output_type": "display_data"
    }
   ],
   "source": [
    "tau_R, tau_L = symbols('tau_R tau_L')\n",
    "KT = symbols('K_T')\n",
    "\n",
    "# eq2_R = Eq(tau_R, KT*IR)\n",
    "# eq2_L = Eq(tau_L, KT*IL)\n",
    "tau_R = KT*IR\n",
    "tau_L = KT*IL\n",
    "print('電流-トルクの関係式')\n",
    "display(tau_R)\n",
    "display(tau_L)"
   ]
  },
  {
   "cell_type": "code",
   "execution_count": 3,
   "metadata": {
    "scrolled": true
   },
   "outputs": [
    {
     "data": {
      "image/png": "[encoded data removed]",
      "text/latex": [
       "$$\\dot{v} = \\frac{K_{T}}{R m r} \\left(- K_{E} \\dot{\\phi}_L - K_{E} \\dot{\\phi}_R + V_{ML} + V_{MR}\\right)$$"
      ],
      "text/plain": [
       "          K_T⋅(-K_E⋅\\dot{\\phi}_L - K_E⋅\\dot{\\phi}_R + V_ML + V_MR)\n",
       "\\dot{v} = ────────────────────────────────────────────────────────\n",
       "                                   R⋅m⋅r                          "
      ]
     },
     "metadata": {},
     "output_type": "display_data"
    },
    {
     "data": {
      "image/png": "[encoded data removed]",
      "text/latex": [
       "$$v = N_{G} \\dot{\\phi}_L r + N_{G} \\dot{\\phi}_R r$$"
      ],
      "text/plain": [
       "v = N_{G}⋅\\dot{\\phi}_L⋅r + N_{G}⋅\\dot{\\phi}_R⋅r"
      ]
     },
     "metadata": {},
     "output_type": "display_data"
    }
   ],
   "source": [
    "m, v, x, dotv, dotx = symbols('m v x \\dot{v} \\dot{x}')\n",
    "FR, FL  = symbols('F_R F_L')\n",
    "r, Ng = symbols('r N_{G}')\n",
    "FR = tau_R/r\n",
    "FL = tau_L/r\n",
    "\n",
    "eq3_v = Eq(dotv, (FR+FL)/m); \n",
    "eq3_x = Eq(v, dphiR*Ng*r+dphiL*Ng*r );\n",
    "# eq3_vx = Eq(dotx, v)\n",
    "\n",
    "display(simplify(eq3_v), eq3_x)"
   ]
  },
  {
   "cell_type": "markdown",
   "metadata": {},
   "source": [
    "ここで式を簡単にするために，\n",
    "$$ \\dot{\\phi}:= \\dot{\\phi}_R + \\dot{\\phi}_L $$\n",
    "$$ V_m := V_R + V_L$$\n",
    "と定義する．すると，"
   ]
  },
  {
   "cell_type": "code",
   "execution_count": 4,
   "metadata": {},
   "outputs": [
    {
     "data": {
      "image/png": "[encoded data removed]",
      "text/latex": [
       "$$\\dot{v} = \\frac{K_{T} m}{R} r{\\left (- K_{E} \\dot{\\phi} + V_{m} \\right )}$$"
      ],
      "text/plain": [
       "          K_T⋅m⋅r(-K_E⋅\\dot{\\phi} + Vₘ)\n",
       "\\dot{v} = ─────────────────────────────\n",
       "                        R              "
      ]
     },
     "metadata": {},
     "output_type": "display_data"
    },
    {
     "data": {
      "image/png": "[encoded data removed]",
      "text/latex": [
       "$$v = N_{G} \\dot{\\phi} r$$"
      ],
      "text/plain": [
       "v = N_{G}⋅\\dot{\\phi}⋅r"
      ]
     },
     "metadata": {},
     "output_type": "display_data"
    },
    {
     "data": {
      "image/png": "[encoded data removed]",
      "text/latex": [
       "$$\\dot{x} = v$$"
      ],
      "text/plain": [
       "\\dot{x} = v"
      ]
     },
     "metadata": {},
     "output_type": "display_data"
    }
   ],
   "source": [
    "dphi, Vm = var('\\dot{\\phi} V_m')\n",
    "\n",
    "eq4_v = Eq(dotv, KT/R*m*r(-KE*dphi+ Vm))\n",
    "eq4_phi = Eq(v, Ng*dphi*r)\n",
    "eq4_x = Eq(dotx, v)\n",
    "\n",
    "display(eq4_v, eq4_phi, eq4_x)"
   ]
  },
  {
   "cell_type": "markdown",
   "metadata": {},
   "source": [
    "#### この式を $\\dot{x},\\dot{v},\\dot{phi}$について整理してみます．すると次のような状態方程式が得られます．"
   ]
  },
  {
   "cell_type": "code",
   "execution_count": 5,
   "metadata": {},
   "outputs": [
    {
     "data": {
      "image/png": "[encoded data removed]",
      "text/latex": [
       "$$\\dot{x} = v$$"
      ],
      "text/plain": [
       "\\dot{x} = v"
      ]
     },
     "metadata": {},
     "output_type": "display_data"
    },
    {
     "data": {
      "image/png": "[encoded data removed]",
      "text/latex": [
       "$$\\dot{v} = \\frac{K_{T} m}{R} r{\\left (- \\frac{K_{E} v}{N_{G} r} + V_{m} \\right )}$$"
      ],
      "text/plain": [
       "                 ⎛   K_E⋅v      ⎞\n",
       "          K_T⋅m⋅r⎜- ─────── + Vₘ⎟\n",
       "                 ⎝  N_{G}⋅r     ⎠\n",
       "\\dot{v} = ───────────────────────\n",
       "                     R           "
      ]
     },
     "metadata": {},
     "output_type": "display_data"
    },
    {
     "data": {
      "image/png": "[encoded data removed]",
      "text/latex": [
       "$$\\dot{\\phi} = \\frac{v}{N_{G} r}$$"
      ],
      "text/plain": [
       "                v   \n",
       "\\dot{\\phi} = ───────\n",
       "             N_{G}⋅r"
      ]
     },
     "metadata": {},
     "output_type": "display_data"
    }
   ],
   "source": [
    "sols = solve([eq4_v, eq4_phi, eq4_x], [dotv, dphi, dotx])\n",
    "\n",
    "eq_sol_v = Eq(dotv, sols[0][0])\n",
    "eq_sol_phi = Eq(dphi, sols[0][1])\n",
    "eq_sol_x = Eq(dotx, sols[0][2])\n",
    "\n",
    "display(eq_sol_x, eq_sol_v,eq_sol_phi)"
   ]
  },
  {
   "cell_type": "code",
   "execution_count": 6,
   "metadata": {
    "collapsed": true
   },
   "outputs": [],
   "source": [
    "from sympy import var\n",
    "\n",
    "Ldy, Ldz = var('\\dot{L}_y \\dot{L}_z')\n",
    "g, x, y, z = var('g x y z')\n",
    "xZ, yZ, zZ = var('x_Z y_Z z_Z')\n",
    "xdd, ydd, zdd = var('\\ddot{x} \\ddot{y} \\ddot{z} ')"
   ]
  },
  {
   "cell_type": "code",
   "execution_count": 7,
   "metadata": {
    "scrolled": false
   },
   "outputs": [
    {
     "data": {
      "image/png": "[encoded data removed]",
      "text/latex": [
       "$$\\ddot{x} z + \\left(\\ddot{z} + g\\right) \\left(- x + x_{Z}\\right) = 0$$"
      ],
      "text/plain": [
       "\\ddot{x}⋅z + (\\ddot{z} + g)⋅(-x + x_Z) = 0"
      ]
     },
     "metadata": {},
     "output_type": "display_data"
    },
    {
     "data": {
      "image/png": "[encoded data removed]",
      "text/latex": [
       "$$\\ddot{y} z - \\dot{L}_y + \\left(\\ddot{z} + g\\right) \\left(- y + y_{Z}\\right) = 0$$"
      ],
      "text/plain": [
       "\\ddot{y}⋅z - \\dot{L}_y + (\\ddot{z} + g)⋅(-y + y_Z) = 0"
      ]
     },
     "metadata": {},
     "output_type": "display_data"
    },
    {
     "data": {
      "image/png": "[encoded data removed]",
      "text/latex": [
       "$$- \\ddot{x} y + \\ddot{y} x + \\dot{L}_z - z_{Z} \\left(\\ddot{z} + g\\right) = 0$$"
      ],
      "text/plain": [
       "-\\ddot{x}⋅y + \\ddot{y}⋅x + \\dot{L}_z - z_Z⋅(\\ddot{z} + g) = 0"
      ]
     },
     "metadata": {},
     "output_type": "display_data"
    }
   ],
   "source": [
    "from sympy import solve\n",
    "from IPython.display import display\n",
    "\n",
    "E1 = Eq(z * xdd + (xZ - x) * (g + zdd))\n",
    "E2 = Eq(z * ydd + (yZ - y) * (g + zdd) - Ldy)\n",
    "E3 = Eq(-y * xdd + x * ydd - zZ * (g + zdd) + Ldz)\n",
    "display(E1)\n",
    "display(E2)\n",
    "display(E3)\n",
    "\n",
    "sols = solve([E1, E2, E3], [xdd, ydd, Ldy])\n",
    "\n"
   ]
  },
  {
   "cell_type": "code",
   "execution_count": 8,
   "metadata": {},
   "outputs": [
    {
     "data": {
      "image/png": "[encoded data removed]",
      "text/latex": [
       "$$\\ddot{x} = \\frac{1}{z} \\left(\\ddot{z} x - \\ddot{z} x_{Z} + g x - g x_{Z}\\right)$$"
      ],
      "text/plain": [
       "           \\ddot{z}⋅x - \\ddot{z}⋅x_Z + g⋅x - g⋅x_Z\n",
       "\\ddot{x} = ───────────────────────────────────────\n",
       "                              z                   "
      ]
     },
     "metadata": {},
     "output_type": "display_data"
    },
    {
     "data": {
      "image/png": "[encoded data removed]",
      "text/latex": [
       "$$\\ddot{y} = \\frac{1}{x z} \\left(y \\left(\\ddot{z} x - \\ddot{z} x_{Z} + g x - g x_{Z}\\right) + z \\left(\\ddot{z} z_{Z} - \\dot{L}_z + g z_{Z}\\right)\\right)$$"
      ],
      "text/plain": [
       "           y⋅(\\ddot{z}⋅x - \\ddot{z}⋅x_Z + g⋅x - g⋅x_Z) + z⋅(\\ddot{z}⋅z_Z - \\do\n",
       "\\ddot{y} = ───────────────────────────────────────────────────────────────────\n",
       "                                                  x⋅z                         \n",
       "\n",
       "t{L}_z + g⋅z_Z)\n",
       "───────────────\n",
       "               "
      ]
     },
     "metadata": {},
     "output_type": "display_data"
    },
    {
     "data": {
      "image/png": "[encoded data removed]",
      "text/latex": [
       "$$\\dot{L}_y = \\frac{1}{x} \\left(\\ddot{z} x y_{Z} - \\ddot{z} x_{Z} y + \\ddot{z} z z_{Z} - \\dot{L}_z z + g x y_{Z} - g x_{Z} y + g z z_{Z}\\right)$$"
      ],
      "text/plain": [
       "            \\ddot{z}⋅x⋅y_Z - \\ddot{z}⋅x_Z⋅y + \\ddot{z}⋅z⋅z_Z - \\dot{L}_z⋅z + g\n",
       "\\dot{L}_y = ──────────────────────────────────────────────────────────────────\n",
       "                                                         x                    \n",
       "\n",
       "⋅x⋅y_Z - g⋅x_Z⋅y + g⋅z⋅z_Z\n",
       "──────────────────────────\n",
       "                          "
      ]
     },
     "metadata": {},
     "output_type": "display_data"
    }
   ],
   "source": [
    "display(Eq(xdd,sols[xdd]))\n",
    "display(Eq(ydd,sols[ydd]))\n",
    "display(Eq(Ldy,sols[Ldy]))\n"
   ]
  }
 ],
 "metadata": {
  "kernelspec": {
   "display_name": "Python 3",
   "language": "python",
   "name": "python3"
  },
  "language_info": {
   "codemirror_mode": {
    "name": "ipython",
    "version": 3
   },
   "file_extension": ".py",
   "mimetype": "text/x-python",
   "name": "python",
   "nbconvert_exporter": "python",
   "pygments_lexer": "ipython3",
   "version": "3.6.1"
  }
 },
 "nbformat": 4,
 "nbformat_minor": 2
}

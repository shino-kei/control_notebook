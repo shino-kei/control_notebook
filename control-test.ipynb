{
 "cells": [
  {
   "cell_type": "code",
   "execution_count": 5,
   "metadata": {},
   "outputs": [],
   "source": [
    "% matplotlib inline\n",
    "import numpy as np\n",
    "from control import matlab\n",
    "from matplotlib import pylab as plt\n",
    "\n",
    "# PID 制御器\n",
    "Kp = 0.5\n",
    "Ki = 0.01\n",
    "Kd = 0.01\n",
    "num = [Kd, Kp, Ki]\n",
    "den = [1, 0]\n",
    "K = matlab.tf(num, den)\n",
    "\n",
    "# 制御対象\n",
    "Kt = 1\n",
    "J = 0.01\n",
    "C = 0.1\n",
    "num = [Kt]\n",
    "den = [J, C, 0]\n",
    "G = matlab.tf(num, den)\n",
    "\n",
    "# フィードバックループ\n",
    "sys = matlab.feedback(K*G, 1)"
   ]
  },
  {
   "cell_type": "markdown",
   "metadata": {},
   "source": [
    "# ステップ応答"
   ]
  },
  {
   "cell_type": "code",
   "execution_count": 6,
   "metadata": {},
   "outputs": [
    {
     "data": {
      "text/plain": [
       "(0, 3)"
      ]
     },
     "execution_count": 6,
     "metadata": {},
     "output_type": "execute_result"
    },
    {
     "data": {
      "image/png": "[encoded data removed]",
      "text/plain": [
       "<matplotlib.figure.Figure at 0x260320d7518>"
      ]
     },
     "metadata": {},
     "output_type": "display_data"
    }
   ],
   "source": [
    "t = np.linspace(0, 3, 1000)\n",
    "yout, T = matlab.step(sys, t)\n",
    "plt.plot(T, yout)\n",
    "plt.axhline(1, color=\"b\", linestyle=\"--\")\n",
    "plt.xlim(0, 3)"
   ]
  },
  {
   "cell_type": "code",
   "execution_count": null,
   "metadata": {
    "collapsed": true
   },
   "outputs": [],
   "source": []
  }
 ],
 "metadata": {
  "kernelspec": {
   "display_name": "Python 3",
   "language": "python",
   "name": "python3"
  },
  "language_info": {
   "codemirror_mode": {
    "name": "ipython",
    "version": 3
   },
   "file_extension": ".py",
   "mimetype": "text/x-python",
   "name": "python",
   "nbconvert_exporter": "python",
   "pygments_lexer": "ipython3",
   "version": "3.6.1"
  }
 },
 "nbformat": 4,
 "nbformat_minor": 2
}

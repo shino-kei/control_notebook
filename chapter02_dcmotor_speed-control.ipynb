{
 "cells": [
  {
   "cell_type": "markdown",
   "metadata": {},
   "source": [
    "\n",
    "# マイクロマウスの直進モデルに対する速度制御系の設計\n",
    "\n",
    "状態方程式は 1 階連立型線形微分方程式の形式で表されているので，数値計算をするのは比較的簡単です．  \n",
    "計算法にはいくつか種類がありますが，ここではPythonの「control」というライブラリを使ってみます．\n",
    "\n",
    ">ここでは外部のライブラリを使用するので，あらかじめ`control`と`slycot`をインストールしておいてください．   \n",
    "pipが入っていれば，端末を開いて\n",
    "\n",
    ">    sudo pip install control  \n",
    ">    sudo pip install slycot\n",
    "    \n",
    ">とコマンドを打てば，あとは自動でインストールできます．\n",
    "Macの場合，Fortranのコンパイラが必要になるかもしれませんので，予めインストールしておいてください．  \n",
    "(homebrewでは，`brew install gcc`でfortranも一緒に入ります)\n",
    "\n",
    "状態方程式モデルの応答を数値計算する際は，python-controlのStateSpaceクラスを使うと簡単です．numpyのarrayクラスを使って係数行列\n",
    "$A,B,C,D(=0)$を作成し，StateSpace(A,B,C,D)のように引数を与えることで状態方程式モデルのインスタンスを作成できます．\n",
    "\n",
    "---\n",
    "\n",
    "## モーターに一定値入力を与えてみる\n",
    "\n",
    "システムの特性を直感的に理解するために，まずは何も考えず一定値入力を与えてみます．  \n",
    "一定値入力 $u(t)=1,t >0$ は制御工学の分野で**ステップ入力**と呼ばれます(波形が段差:stepのように見えることから)．  \n",
    "\n",
    "このようなステップ入力を与えたときの応答を調べるといった操作はよく行われるので，python-controlにも\n",
    "専用の関数(`control.matlab.step`)が用意されています．  \n",
    "また，`ipywidgets`には，スライドバーのようなGUI要素を用いて，インタラクティブに数値を操作できる機能が用意されているので，\n",
    "今回はこれを使って，色々パラメータを変更してみましょう．\n",
    "\n",
    "操作できる変数\n",
    "* gear_ratio: ギアの減速比(モーターギアの歯数：タイヤギアの歯数 = $1:n$)\n",
    "* mass_gram: 機体の質量[g]\n",
    "* motor_duty: 入力PWM信号のduty比"
   ]
  },
  {
   "cell_type": "code",
   "execution_count": 1,
   "metadata": {},
   "outputs": [
    {
     "data": {
      "application/vnd.jupyter.widget-view+json": {
       "model_id": "9e2970bf20ee44dfa7e7e7f998988912"
      }
     },
     "metadata": {},
     "output_type": "display_data"
    }
   ],
   "source": [
    "from control import *\n",
    "import numpy as np\n",
    "from matplotlib import pylab as plt\n",
    "import matplotlib \n",
    "%matplotlib inline\n",
    "plt.rcParams[\"font.size\"] = 13\n",
    "from __future__ import print_function\n",
    "from ipywidgets import interact, FloatSlider, RadioButtons\n",
    "\n",
    "# パラメータの設定\n",
    "# 回路定数 (MK06-4.5の場合)\n",
    "R = 5.0; # ohm\n",
    "KE = 7.1504e-04; # 逆起電力定数[V/(rad/s)]\n",
    "KT = 6.5e-04; # トルク定数[Nm/I]\n",
    "Vbat = 4.0; # モータドライバの電源電圧[V]\n",
    "\n",
    "# 機体パラメータ\n",
    "#     Ng = 3.0;          # ギアの減速比(モーター：ホイール=1:n), スライドバーで設定\n",
    "r = 7.5e-03;    # タイヤ半径[m]\n",
    "#     m = 75e-03;     # 機体重量[kg], スライドバーで設定\n",
    "w = 30e-03;     # 機体の中心から右端までの距離(横幅/2) [m]\n",
    "h = 45e-03;     # 機体の中心から先端までの距離(縦幅/2) [m]\n",
    "# J = 1/3*(w**2+h**2)*m; # 機体の慣性モーメント(形状を長方形に近似)\n",
    "\n",
    "# スライドバーで動かせるプロットを作成\n",
    "@interact(gear_ratio=(1.0, 10, 0.1), mass_gram=(5, 200, 0.5), motor_duty=(0, 1.0, 0.01))\n",
    "def sim_trans_system(gear_ratio=3.0, mass_gram=30,motor_duty=0.5):\n",
    "    Ng = gear_ratio; # ギアの減速比(モーター：ホイール=1:n)\n",
    "    m = mass_gram/1000; # 機体の質量[kg] (スライドバーからはgで渡される)\n",
    "    \n",
    "    # 状態空間形式(dX/dt = AX + Bu, y = Cx)でシステムを表現    \n",
    "    a = -(KT*KE*Ng**2)/(R*m*r**2)\n",
    "    b = (2*motor_duty*Vbat) * (KT*Ng)/(m*r*R) # Vm = (2*motor_duty*Vbat)*u と置いた\n",
    "    c = 1/(Ng*r)\n",
    "    A = np.array([ [0,1,0], [0,a,0], [0,c,0]]) \n",
    "    B = np.array([[0], [b], [0]])\n",
    "    C = np.array([[1,0,0],[0,1,0],[0,0,1]])\n",
    "    D = np.array([[0],[0],[0]])\n",
    "    sys = StateSpace(A, B, C, D)\n",
    "\n",
    "    # 線形シミュレーション:ステップ入力 u(t)=1 (t>0)\n",
    "    t = np.linspace(0, 20, 1000)\n",
    "    yout, T = matlab.step(sys, t) \n",
    "    v_array = yout[:,1]\n",
    "    dphi_array = v_array*c\n",
    "    I_array = 2*(-KE*dphi_array+(motor_duty*Vbat))/R\n",
    "\n",
    "    # シミュレーション結果のプロット\n",
    "    fig, (axL, axR) = plt.subplots(ncols=2, figsize=(16,6))\n",
    "    axL.plot(T, v_array)\n",
    "    axL.axhline(b/-a, color=\"b\", linestyle=\"--\");\n",
    "    axL.set_xlim(0, 20);  axL.set_ylim(0,30);\n",
    "    axL.set_xlabel('time t[s]');axL.set_ylabel('speed vx [m/s]')\n",
    "    axL.set_title('  Forward Speed (Vm: Step Input)');  # 日本語使えないつらい\n",
    "        \n",
    "    axR.plot(T, I_array)\n",
    "    axR.set_xlim(0, 20);\n",
    "    axR.set_xlabel('time t[s]');axR.set_ylabel('current I_total [A]')\n",
    "\n",
    "    axR.set_title('Total Current of 2 Motors [A]');  # 日本語使えないのほんとウンチ\n",
    "    \n",
    "    plt.show();\n"
   ]
  },
  {
   "cell_type": "markdown",
   "metadata": {},
   "source": [
    "DCモーターを理解する上で，次のポイントを抑えておくといいでしょう．\n",
    "\n",
    "* 定常速度は電圧に比例\n",
    "* ギアの減速比$N_G$を上げると，加速性能が上がるが，最高速度は下がる\n",
    "* 流れる電流は始動時が一番大きい\n",
    "\n",
    "---\n",
    "\n",
    "それでは，このような特性を持つマウスのダイナミクスを制御することについて考えていきましょう．\n",
    "\n",
    "ただ，このままだと，シミュレーションを書くのにコードが長くなりそうなので， 先にマウスの線形モデルを表現するためのクラスを用意しておきました．\n",
    "\n",
    "詳細に関しては，mouse.pyを参照してください．"
   ]
  },
  {
   "cell_type": "code",
   "execution_count": 3,
   "metadata": {
    "scrolled": true
   },
   "outputs": [],
   "source": [
    "from mouse import *\n",
    "\n",
    "# インスタンスの生成\n",
    "config = MouseConfig()\n",
    "\n",
    "config.R = 5.0; # 抵抗 [ohm]\n",
    "config.KE = 7.1504e-04; # 逆起電力定数[V/(rad/s)]\n",
    "config.KT = 6.5e-04; # トルク定数[Nm/I]\n",
    "config.Vbat = 4.0; # モータドライバの電源電圧[V]\n",
    "config.Ng = 3.0;          # ギアの減速比(モーター：ホイール=1:n), スライドバーで設定\n",
    "config.r = 7.5e-03;    # タイヤ半径[m]\n",
    "config.m = 50e-03;     # 機体重量[kg], スライドバーで設定\n",
    "config.w = 30e-03;     # 機体の中心から右端までの距離(横幅/2) [m]\n",
    "config.h = 45e-03;     # 機体の中心から先端までの距離(縦幅/2) [m]\n",
    "config.J = 1/3*(config.w**2+config.h**2)*config.m; # 機体の慣性モーメント(形状を長方形に近似)\n",
    "mouse = MouseDynamics(config)\n"
   ]
  },
  {
   "cell_type": "markdown",
   "metadata": {},
   "source": [
    "それでは以上の直進走行モデルを用いて速度の制御系を立ててみます．  \n",
    "まずは，第一ステップとして，ステップ入力で目標速度値が与えられたとき，速度が$t\\to \\infty$で偏差なく追従することを目指してみましょう．\n",
    "\n",
    "以下に示すのは，一番ベーシックなフィードバック制御系のブロック線図です．  \n",
    "Pは制御対象でプラントと呼ばれることもあります．今回の例では，入力がdutyで出力が速度なシステムだと考えてください．  \n",
    "    Kはコントローラを表します．基準速度$v_{ref}$と実際の出力$v$との偏差$e$を入力し，内部で何らかの演算を行うことで制御対象$P$へ与える入力値$u$を決定します．  \n",
    "$K$のとり方は自由ですが，今回はメジャーな制御法の一つであるPID制御器を設計してみましょう．\n",
    "\n",
    "<img src=\"img/FeedbackSpeedControl.PNG\" width=70%>\n",
    "\n",
    "\n",
    "PID制御器は時間領域では，\n",
    "$$\n",
    "    K(t) = K_p e(t)  + K_i \\int_0^t e(t)dt + K_d \\dfrac{de(t)}{dt}\n",
    "$$\n",
    "\n",
    "ラプラス変換形式(伝達関数形式)では，\n",
    "\n",
    "$$\n",
    "    K(s) = K_p E(s)  + K_i \\dfrac{1}{s} E(s) + K_d sE(s) \\\\\n",
    "        = ( \\dfrac{K_d s^2 + K_p s +  K_i}{s})E(s)\n",
    "$$\n",
    "\n",
    "と表すことができます．両者の式は等価なので，どちらを使っても同じ結果になりますが，\n",
    "ラプラス変換の方がブロック線図と相性がよく扱いやすいのでこちらを使います．  \n",
    "python-controlでは，連立微分方程式で表現された状態方程式とラプラス変換で表現された伝達関数が混在していても，\n",
    "自動で計算に都合の良い形式にモデルを変換してくれます．便利ですね．\n",
    "\n",
    "---\n",
    "\n",
    "それでは，ステップ入力で与えられた目標速度にうまく追従するようにPIDのパラメータを調整してみましょう．\n",
    "ただし，モーターへ与えることのできるdutyは最大100％であるので，これを超えないようにしましょう．\n",
    "（オーバーすると，プロットが赤色になります）\n"
   ]
  },
  {
   "cell_type": "code",
   "execution_count": 4,
   "metadata": {},
   "outputs": [
    {
     "data": {
      "application/vnd.jupyter.widget-view+json": {
       "model_id": "408c876c2c2748d3bdf5520bb2803bb5"
      }
     },
     "metadata": {},
     "output_type": "display_data"
    }
   ],
   "source": [
    "# ステップ目標値を与えたときの，FB制御系のシミュレーション\n",
    "@interact(Kp=(0.01, 3, 0.01), Ki=(0, 5, 0.001), Kd=(0, 5, 0.01), target=(0,3,0.1))\n",
    "def sim_closed_loop(Kp=1.0, Ki=0, Kd=0, target=1):\n",
    "    \n",
    "    # PIDコントローラ（伝達関数形式）の作成\n",
    "    # 純粋微分器は計算不可能なので，1次ローパスフィルタを接続した実用微分器(Kd*s/(gamma*Kd*s+1))を使う\n",
    "    D_COEFFICIENT = 0.1 # 微分係数\n",
    "    Kp = matlab.tf([Kp], [1])\n",
    "    Ki = matlab.tf([Ki], [1, 0])\n",
    "    Kd = matlab.tf([Kd, 0], [D_COEFFICIENT*Kd, 1])  \n",
    "    K = Kp+Ki+Kd\n",
    "\n",
    "    dmux = StateSpace(0,np.array([0,0,0]),0,np.array([0,1,0]) )\n",
    "    P = series(mouse.ss , dmux) # 3出力あるうちの2番目(v)だけを取り出す． \n",
    "\n",
    "    # 閉ループ系の伝達関数を計算\n",
    "    Ysys = matlab.feedback(K*P, 1, -1)  # ネガティブフィードバック\n",
    "    Esys = matlab.feedback(1, K*P, -1)\n",
    "    Usys = K/(1+K*P)\n",
    "    \n",
    "    # 線形シミュレーション\n",
    "    SIM_TIME = 5    # シミュレーション時間\n",
    "    SAMPLE_RATE = 100 # サンプリングレート\n",
    "    t = np.linspace(0, SIM_TIME, SIM_TIME*SAMPLE_RATE)\n",
    "    ref = np.ones(SIM_TIME*SAMPLE_RATE) * target # u(t)=duty (const)\n",
    "    yout, T, xout = matlab.lsim(Ysys, ref, t)\n",
    "#     Eout, T, xout = matlab.lsim(Esys, ref, t)\n",
    "    Uout, T, xout = matlab.lsim(Usys, ref, t)\n",
    "    \n",
    "    \n",
    "    \n",
    "    if np.amax(Uout) > 1.0 :\n",
    "        _is_saturated = True\n",
    "    else :\n",
    "        _is_saturated = False\n",
    "        \n",
    "    # シミュレーション結果のプロット\n",
    "    fig, (axL, axR) = plt.subplots(ncols=2, figsize=(16,6))\n",
    "    \n",
    "    axL.plot(T, yout)\n",
    "    axL.axhline(target, color=\"k\", linestyle=\"--\");\n",
    "    axL.set_xlim(0, SIM_TIME);  axL.set_ylim(0,5);\n",
    "    axL.set_xlabel('time t [s]'); axL.set_ylabel('Speed vx [m/s]')\n",
    "    axL.set_title('Speed Control');  \n",
    "    # axL.tick_params(labelsize=13)\n",
    "\n",
    "    if _is_saturated: axR.plot(T, Uout, 'r',  lw=5)\n",
    "    else: axR.plot(T, Uout, 'b')\n",
    "    axR.set_xlim(0, SIM_TIME);\n",
    "    axR.set_xlabel('time t [s]');axR.set_ylabel('duty [.]')\n",
    "    axR.set_title('Average Duty Output To Two Motors');  \n",
    "    # axR.tick_params(labelsize=13)\n",
    "\n",
    "    plt.show();\n"
   ]
  },
  {
   "cell_type": "markdown",
   "metadata": {},
   "source": [
    "目標速度$v_{target}$と$Kp,Ki,Kd$のスライダーを動かして，いろいろ試してみましょう．\n",
    "\n",
    "\n",
    "---\n",
    "\n",
    "どうだったでしょうか？  \n",
    "今回の問題設定では，$t\\to \\infty$で漸近安定にするためにはP制御があれば十分であり，もし定常偏差も0にしたいなら$Ki$を増やせば良いことがわかります．  \n",
    "\n",
    "筆者の設定したパラメータでは，$v_{target}=1.0 $[m/s]のとき，$Kp=0.84, Ki=0.08$で入力dutyに20%ほどの余裕を残すことができました．\n",
    "\n",
    "\n",
    "![@aaa](img/control_result01.PNG)\n",
    "\n",
    "\n",
    "目標速度に追従する，という点に関しては，以上の制御法で目的が達成されたと言えます．\n",
    "しかし，ここはコンマ一秒を争うマイクロマウスの世界，どうせならできるだけ高速かつ高加速度を追求したいものです．\n",
    "\n",
    "そういったことを考えると実は，先程の制御系はいくつかの問題点を抱えています．その問題点とは，以下のようなものです．\n",
    "\n",
    "* ステップ入力の目標値はそもそも実現不可能(これを実現しようとすると，加速度$a\\to \\infty$となるため)\n",
    "* 急加速を行うことになるため，場合によってはタイヤのスリップと言った影響が無視できなくなる．\n",
    "* また，急加速に伴い動作開始時に非常に大きな電流が流れるため，設計次第ではモーター回路が焼かれて死ぬ．\n",
    "* 入力値は最初の一瞬だけ高くて，後は低いという，無駄が多い制御となっている．\n",
    "* 目標速度を上げると，PIDパラメータの再調整が必要\n",
    "\n",
    "要は，止まってる物体が突然トップスピードで走り出すことは不可能なので，ステップ入力の目標速度信号が良くないわけです．  \n",
    "このような問題を克服するため，目標速度を一定値で与えるのではなく，**加速→等速→減速**といった台形加速の目標値信号を与えることを考えます．\n",
    "\n",
    "\n",
    "ただし，モータの特性上，速度と加速度にはトレードオフの関係があるので，まずは目標とする最高速度に対して実現可能な加速度を見積もっておきます．\n",
    "\n",
    "\n",
    "---\n",
    "\n",
    "マウスの直進モデルにおいて，機体の速度$v$と加速度$\\dot{v}$の間には次のような関係がありました．"
   ]
  },
  {
   "cell_type": "markdown",
   "metadata": {
    "scrolled": true
   },
   "source": [
    "$$\\dot{v} = - \\frac{K_{E} K_{T} N_{G}^{2} }{R m r^{2}}v + \\frac{K_{T} N_{G} }{R m r}V_{m}$$\n"
   ]
  },
  {
   "cell_type": "markdown",
   "metadata": {},
   "source": [
    "台形加速による等加速度制御を行うためには，最高速に達するまで同じ加速度を維持できなければいけません．  \n",
    "直進の制御だけでなく，回転の制御も後で行うことを考えると，コントローラの出力には余裕をもたせたいので，\n",
    "最高速時，$V_m = 2V_{Bat}\\times 0.8$となっているようにします．\n",
    "\n",
    "よって，目標とする最高速度に達したときに，出すことのできる加速度の最大値$a_{max}$は\n",
    "\n",
    "$$\\dot{v} = \\alpha v + \\beta Vm$$ とおくと，\n",
    "\n",
    "$$a_{max} = \\alpha v_{Goal} + 1.6 \\beta V_{Bat}$$\n",
    "\n",
    "$$(ただし，\\alpha= -\\frac{K_{E} K_{T} N_{G}^{2} }{R m r^{2}},\\  \\beta =\\frac{K_{T} N_{G} }{R m r})$$\n",
    "\n",
    "となるので，目標速度の傾きは$a_{max}$より低くなければならないことがわかりました．  \n",
    "\n",
    "例として，最高速度を$v_{Goal}=2.0$ [m/s] に設定した場合，"
   ]
  },
  {
   "cell_type": "code",
   "execution_count": 6,
   "metadata": {
    "scrolled": true
   },
   "outputs": [
    {
     "name": "stdout",
     "output_type": "stream",
     "text": [
      "a_max: 6.061 [m/s^2], v_goal: 2.000 [m/s]\n",
      "最高速度に達するまでに 0.330秒\n"
     ]
    }
   ],
   "source": [
    "a = mouse.ss.A[1,1]\n",
    "b = mouse.ss.B[1,0] \n",
    "v_bat = 3.6 # 1セル Lipo\n",
    "v_goal = 2.0 # 最高速度\n",
    "\n",
    "a_max = a*v_goal + 0.8*b #*2*v_bat\n",
    "print(\"a_max: {0:.3f} [m/s^2], v_goal: {1:.3f} [m/s]\".format(a_max, v_goal))\n",
    "print(\"最高速度に達するまでに {0:.3f}秒\".format(v_goal/a_max))"
   ]
  },
  {
   "cell_type": "markdown",
   "metadata": {},
   "source": [
    "となるので，$a_{max}=6.061 [m/s^2]$が限界のようです．\n",
    "\n",
    "このように，加速度と最高速度は独立には設定できないので，先に一方を決めてしまった後に，\n",
    "もう一方を実現可能な解の中から選ぶようにしたほうが合理的であると言えるでしょう．\n",
    "\n",
    "そこで，下の例では，目標速度$v_{GOAL}$から算出した限界加速度$a_{max}$に0〜1のゲイン(acc_gain)を掛けることで，\n",
    "目標軌道を決定しています．\n",
    "\n",
    ">```python\n",
    "# 限界加速度を計算\n",
    "a_max = a*v_goal + 0.8*b \n",
    "acc_ref = a_max * acc_gain/100\n",
    "```\n",
    "\n",
    "それでは，台形加速軌道に対するフィードバック制御系の設計を行ってみましょう．"
   ]
  },
  {
   "cell_type": "code",
   "execution_count": 7,
   "metadata": {},
   "outputs": [
    {
     "data": {
      "application/vnd.jupyter.widget-view+json": {
       "model_id": "b7fbab53a94c424b915cee34937fab0c"
      }
     },
     "metadata": {},
     "output_type": "display_data"
    }
   ],
   "source": [
    "a = mouse.ss.A[1,1]\n",
    "b = mouse.ss.B[1,0] \n",
    "\n",
    "# 台形加速軌道を与えたときの，FB制御系のシミュレーション\n",
    "@interact(Kp=(0.01, 10, 0.01), Ki=(0, 5, 0.001), Kd=(0, 5, 0.01), v_goal=(0,4,0.1), acc_gain=(0,100,0.1))\n",
    "def sim_closed_loop(Kp=1.0, Ki=0, Kd=0, v_goal=1, acc_gain=100):\n",
    "    # PID 制御器 の作成\n",
    "\n",
    "    # 限界加速度を計算\n",
    "    a_max = a*v_goal + 0.8*b \n",
    "    acc_ref = a_max * acc_gain/100\n",
    "    \n",
    "    # PIDコントローラ（伝達関数形式）の作成\n",
    "    # 純粋微分器は計算不可能なので，1次ローパスフィルタを接続した実用微分器(Kd*s/(gamma*Kd*s+1))を使う\n",
    "    D_COEFFICIENT = 0.1 # 微分係数\n",
    "    Kp = matlab.tf([Kp], [1])\n",
    "    Ki = matlab.tf([Ki], [1, 0])\n",
    "    Kd = matlab.tf([Kd, 0], [D_COEFFICIENT*Kd, 1])  \n",
    "    K = Kp+Ki+Kd\n",
    "#     K =matlab.c2d(K, 0.001)\n",
    "\n",
    "    dmux = StateSpace(0,np.array([0,0,0]),0,np.array([0,1,0]) )\n",
    "    P = series(mouse.ss , dmux) # 3出力あるうちの2番目(v)だけを取り出す． \n",
    "\n",
    "    # 閉ループ系の伝達関数を計算\n",
    "    Ysys = matlab.feedback(K*P, 1, -1)  # ネガティブフィードバック\n",
    "    Esys = matlab.feedback(1, K*P, -1)\n",
    "    Usys = K/(1+K*P)\n",
    "    \n",
    "    # 線形シミュレーション\n",
    "    SIM_TIME = 3    # シミュレーション時間\n",
    "    SAMPLE_RATE = 1000 # サンプリングレート\n",
    "    \n",
    "    t = np.linspace(0, SIM_TIME, SIM_TIME*SAMPLE_RATE)\n",
    "    ref = acc_ref*t\n",
    "    ref[ref>v_goal] = v_goal\n",
    "    yout, T, xout = matlab.lsim(Ysys, ref, t)\n",
    "    #     Eout, T, xout = matlab.lsim(Esys, ref, t)\n",
    "    Uout, T, xout = matlab.lsim(Usys, ref, t)\n",
    "\n",
    "    \n",
    "    if np.amax(Uout) > 1.0 :\n",
    "        _is_saturated = True\n",
    "    else :\n",
    "        _is_saturated = False\n",
    "        \n",
    "    # シミュレーション結果のプロット\n",
    "    fig, (axL, axR) = plt.subplots(ncols=2, figsize=(16,6))\n",
    "    \n",
    "    axL.plot(t, yout)\n",
    "    axL.plot(t, ref)    \n",
    "    axL.set_xlim(0, SIM_TIME);  axL.set_ylim(0,5);\n",
    "    axL.set_xlabel('time t [s]'); axL.set_ylabel('Speed vx [m/s]')\n",
    "    axL.set_title('Speed Control');  \n",
    "    # axL.tick_params(labelsize=13)\n",
    "\n",
    "    if _is_saturated: axR.plot(T, Uout, 'r',  lw=5)\n",
    "    else: axR.plot(T, Uout, 'b')\n",
    "    axR.set_xlim(0, SIM_TIME);\n",
    "    axR.set_xlabel('time t [s]');axR.set_ylabel('duty [.]')\n",
    "    axR.set_title('Average Duty Output To Two Motors');  \n",
    "    # axR.tick_params(labelsize=13)\n",
    "\n",
    "    plt.show();\n"
   ]
  },
  {
   "cell_type": "markdown",
   "metadata": {
    "collapsed": true
   },
   "source": [
    "どうでしょうか？先程よりも調整が楽になったことが分かるでしょうか？\n",
    "\n",
    "先程のステップ指令値の場合には，目標速度を変更したらPIDパラメータの再調整が必要でしたが，  \n",
    "こちらの台形加速の場合は一旦PIDのパラメータを決めてしまえば，目標速度が変わってもほぼ同じような制御性能を発揮してくれます．  \n",
    "また，実現可能な加速度・最高速度の軌道を設定したお陰で，常に出力が80%以内に収まっていることが確認できます．\n",
    "\n",
    "指定した目標値に追従するように制御することを目的とした制御系のことを**サーボ(Servo)系**と呼ぶのですが，  \n",
    "このサーボ系の制御問題においては「どのような目標軌道」を与えるかという点も制御性能に関わる非常に重要な要素であることがわかります．\n",
    "\n",
    "---\n",
    "\n",
    "ところで，これまで，グラフの波形をみて，なんとなくいい感じの結果が得られそうなPIDパラメータの調整を行うことができました．  \n",
    "これによってモーターが制御できそうな気持ちになってきたかもしれません．\n",
    "でもその一方で，皆さんは次のようなことを考えたかもしれません．\n",
    "\n",
    "* **「これまでの結果はあくまでも理想的なモデルに対する結果であって，現実には全く違う結果になるのではないか？」**\n",
    "* **「実際の制御システムはサンプリングによる離散的な制御になるはずだが，これらの影響は無視して良いのか？」**\n",
    "* **「センサーの観測ノイズやシステムの外乱は制御にどのような影響をもたらすのか？」**\n",
    "\n",
    "このように思った方はスルドイです．   \n",
    "実際これまで制御系設計に用いてきたモデルは，外乱やモデルの不確かさが存在しない**確定的なシステム**を対象としてきました．   \n",
    "なので，シミューレーションに用いたモデルと現実の結果は必ずしも一致しません．じゃあ意味がないのかというと，そうとも限りません．\n",
    "\n",
    "このあたりの話に関しては，小難しい話が並ぶので，ここでは語らないことにします．  \n",
    "結論から言えば，フィードバックによって多少のモデル誤差や外乱の影響は減衰するので，あまり気にしなくても大丈夫です．  \n",
    "また，むだ時間に関しては，サンプリング時間を小さめにとっておくようにしたほうが良いでしょう．\n",
    "マウスの場合1〜10ms周期位を目安にすると良いかと思います．  \n",
    "ただし，サンプリング時間を短くするほどノイズを拾いやすくなるので，良いセンサを買うか，フィルタリングを頑張る必要があります．\n",
    "ココらへんの話が気になる人は別ファイルの`FeedBackControl_part-ex.ipynb`にまとめるのでを参照してください．"
   ]
  },
  {
   "cell_type": "markdown",
   "metadata": {
    "collapsed": true
   },
   "source": [
    "---\n",
    "\n",
    "\n",
    "# 2自由度制御系\n",
    "\n",
    "フィードバック制御では，センサによって観測した情報に基づいてコントローラーの出力を決定します．\n",
    "コントローラーのゲインを上げれば，即応性が上がりますが，その分センサに入力されたノイズも一緒に増幅してしまいます．\n",
    "また，サンプリングに伴うむだ時間も存在するため，現実にはコントローラーのゲインを上げすぎるとかえって制御が安定しないということが起こりえます．"
   ]
  }
 ],
 "metadata": {
  "kernelspec": {
   "display_name": "Python 3",
   "language": "python",
   "name": "python3"
  },
  "language_info": {
   "codemirror_mode": {
    "name": "ipython",
    "version": 3
   },
   "file_extension": ".py",
   "mimetype": "text/x-python",
   "name": "python",
   "nbconvert_exporter": "python",
   "pygments_lexer": "ipython3",
   "version": "3.6.1"
  },
  "widgets": {
   "application/vnd.jupyter.widget-state+json": {
    "state": {
     "02052329535a45f58fe301419492a277": {
      "model_module": "jupyter-js-widgets",
      "model_module_version": "~2.1.4",
      "model_name": "FloatSliderModel",
      "state": {
       "_model_module_version": "~2.1.4",
       "_view_module_version": "~2.1.4",
       "description": "Ki",
       "layout": "IPY_MODEL_d68eb088be224fd3b3a2206cf70cc4de",
       "max": 5,
       "step": 0.001
      }
     },
     "02962fa18e8f49179d367b295b46f0e5": {
      "model_module": "jupyter-js-widgets",
      "model_module_version": "~2.1.4",
      "model_name": "LayoutModel",
      "state": {
       "_model_module_version": "~2.1.4",
       "_view_module_version": "~2.1.4"
      }
     },
     "0dd33e77fabe44e6bc482c3a3681d5df": {
      "model_module": "jupyter-js-widgets",
      "model_module_version": "~2.1.4",
      "model_name": "FloatSliderModel",
      "state": {
       "_model_module_version": "~2.1.4",
       "_view_module_version": "~2.1.4",
       "description": "Kd",
       "layout": "IPY_MODEL_e2d7c877ef7c4297b20e0ad7e54c8aed",
       "max": 5,
       "step": 0.01
      }
     },
     "1735359efe484601b72c1f44e0422114": {
      "model_module": "jupyter-js-widgets",
      "model_module_version": "~2.1.4",
      "model_name": "FloatSliderModel",
      "state": {
       "_model_module_version": "~2.1.4",
       "_view_module_version": "~2.1.4",
       "description": "Kd",
       "layout": "IPY_MODEL_8011b2310fbe4d5a908576b511c0cbe0",
       "max": 5,
       "step": 0.01
      }
     },
     "1759309698b74976849a1037bf84e49b": {
      "model_module": "jupyter-js-widgets",
      "model_module_version": "~2.1.4",
      "model_name": "LayoutModel",
      "state": {
       "_model_module_version": "~2.1.4",
       "_view_module_version": "~2.1.4"
      }
     },
     "1b9405dac1f444459f3724be8d44448c": {
      "model_module": "jupyter-js-widgets",
      "model_module_version": "~2.1.4",
      "model_name": "LayoutModel",
      "state": {
       "_model_module_version": "~2.1.4",
       "_view_module_version": "~2.1.4"
      }
     },
     "201f2dd72b1e4ec1b22a6cb9b978b209": {
      "model_module": "jupyter-js-widgets",
      "model_module_version": "~2.1.4",
      "model_name": "LayoutModel",
      "state": {
       "_model_module_version": "~2.1.4",
       "_view_module_version": "~2.1.4"
      }
     },
     "267103be356442e1a395432ea9c84c24": {
      "model_module": "jupyter-js-widgets",
      "model_module_version": "~2.1.4",
      "model_name": "VBoxModel",
      "state": {
       "_dom_classes": [
        "widget-interact"
       ],
       "_model_module_version": "~2.1.4",
       "_view_module_version": "~2.1.4",
       "children": [
        "IPY_MODEL_3706abd2039041c7944330ac56a037fa",
        "IPY_MODEL_96e503f8c3034e8d97abecf094130bba",
        "IPY_MODEL_9dd4c2ece86b4819bba64f0b102890f1",
        "IPY_MODEL_a4666b7ff95a407fb5f1ce915c70785d"
       ],
       "layout": "IPY_MODEL_f8bc588232d54ecca8370c853dee7b7d"
      }
     },
     "2b89c34827a24266bc2db5804e0727ac": {
      "model_module": "jupyter-js-widgets",
      "model_module_version": "~2.1.4",
      "model_name": "LayoutModel",
      "state": {
       "_model_module_version": "~2.1.4",
       "_view_module_version": "~2.1.4"
      }
     },
     "31df72f3e58440ff981f9a8b506ca78b": {
      "model_module": "jupyter-js-widgets",
      "model_module_version": "~2.1.4",
      "model_name": "LayoutModel",
      "state": {
       "_model_module_version": "~2.1.4",
       "_view_module_version": "~2.1.4"
      }
     },
     "3706abd2039041c7944330ac56a037fa": {
      "model_module": "jupyter-js-widgets",
      "model_module_version": "~2.1.4",
      "model_name": "FloatSliderModel",
      "state": {
       "_model_module_version": "~2.1.4",
       "_view_module_version": "~2.1.4",
       "description": "gear_ratio",
       "layout": "IPY_MODEL_8d7fc110324546d9aebd36ff226f4bf2",
       "max": 10,
       "min": 1,
       "step": 0.1,
       "value": 3
      }
     },
     "3a4fd04d76374e49976727fe997facad": {
      "model_module": "jupyter-js-widgets",
      "model_module_version": "~2.1.4",
      "model_name": "FloatSliderModel",
      "state": {
       "_model_module_version": "~2.1.4",
       "_view_module_version": "~2.1.4",
       "description": "Kp",
       "layout": "IPY_MODEL_b080e8ef99f747c1a29f8ff4a348a55c",
       "max": 10,
       "min": 0.01,
       "step": 0.01,
       "value": 1
      }
     },
     "42e3390b59684eceb11453db873c3455": {
      "model_module": "jupyter-js-widgets",
      "model_module_version": "~2.1.4",
      "model_name": "OutputModel",
      "state": {
       "_dom_classes": [],
       "_model_module": "jupyter-js-widgets",
       "_model_module_version": "~2.1.4",
       "_view_module": "jupyter-js-widgets",
       "_view_module_version": "~2.1.4",
       "layout": "IPY_MODEL_8741e467ed0e4040aa2b51aca5feea50",
       "msg_throttle": 1
      }
     },
     "43630c5161514d1ea80ce8563c7bf7c4": {
      "model_module": "jupyter-js-widgets",
      "model_module_version": "~2.1.4",
      "model_name": "FloatSliderModel",
      "state": {
       "_model_module_version": "~2.1.4",
       "_view_module_version": "~2.1.4",
       "description": "Ki",
       "layout": "IPY_MODEL_977f902595d841b0a8c87b5fb8f0ae27",
       "max": 5,
       "step": 0.001
      }
     },
     "43d746ed41914236aadc8b6a6e5d5caa": {
      "model_module": "jupyter-js-widgets",
      "model_module_version": "~2.1.4",
      "model_name": "LayoutModel",
      "state": {
       "_model_module_version": "~2.1.4",
       "_view_module_version": "~2.1.4"
      }
     },
     "482ffa26b9c748b195b4a4f8a039e98f": {
      "model_module": "jupyter-js-widgets",
      "model_module_version": "~2.1.4",
      "model_name": "FloatSliderModel",
      "state": {
       "_model_module_version": "~2.1.4",
       "_view_module_version": "~2.1.4",
       "description": "motor_duty",
       "layout": "IPY_MODEL_2b89c34827a24266bc2db5804e0727ac",
       "max": 1,
       "step": 0.01,
       "value": 0.5
      }
     },
     "4d9fa4a13e7c4e618f5051ab48c1240e": {
      "model_module": "jupyter-js-widgets",
      "model_module_version": "~2.1.4",
      "model_name": "FloatSliderModel",
      "state": {
       "_model_module_version": "~2.1.4",
       "_view_module_version": "~2.1.4",
       "description": "Kp",
       "layout": "IPY_MODEL_02962fa18e8f49179d367b295b46f0e5",
       "max": 3,
       "min": 0.01,
       "step": 0.01,
       "value": 1
      }
     },
     "51f50f36006f46f0898689aad63fe420": {
      "model_module": "jupyter-js-widgets",
      "model_module_version": "~2.1.4",
      "model_name": "LayoutModel",
      "state": {
       "_model_module_version": "~2.1.4",
       "_view_module_version": "~2.1.4"
      }
     },
     "5ce3c3dce72a406d803f907f92879891": {
      "model_module": "jupyter-js-widgets",
      "model_module_version": "~2.1.4",
      "model_name": "LayoutModel",
      "state": {
       "_model_module_version": "~2.1.4",
       "_view_module_version": "~2.1.4"
      }
     },
     "5d7e40458583449ebaa4a4192248c53f": {
      "model_module": "jupyter-js-widgets",
      "model_module_version": "~2.1.4",
      "model_name": "FloatSliderModel",
      "state": {
       "_model_module_version": "~2.1.4",
       "_view_module_version": "~2.1.4",
       "description": "v_goal",
       "layout": "IPY_MODEL_da8317adc3e14ccf910b7b9b901433e5",
       "max": 4,
       "step": 0.1,
       "value": 1.3
      }
     },
     "6088438f4daf44f3b395c85af1ed1935": {
      "model_module": "jupyter-js-widgets",
      "model_module_version": "~2.1.4",
      "model_name": "FloatSliderModel",
      "state": {
       "_model_module_version": "~2.1.4",
       "_view_module_version": "~2.1.4",
       "description": "Ki",
       "layout": "IPY_MODEL_a419d535761a4f1b8b44c2c9270d4596",
       "max": 5,
       "step": 0.001
      }
     },
     "6226261c1a9d4045becca709c31e3bd7": {
      "model_module": "jupyter-js-widgets",
      "model_module_version": "~2.1.4",
      "model_name": "VBoxModel",
      "state": {
       "_dom_classes": [
        "widget-interact"
       ],
       "_model_module_version": "~2.1.4",
       "_view_module_version": "~2.1.4",
       "children": [
        "IPY_MODEL_e5338feb28d14c1abefbeb26f2946851",
        "IPY_MODEL_6088438f4daf44f3b395c85af1ed1935",
        "IPY_MODEL_dcc55637159b4b85beba6f4c4ae5dcd7",
        "IPY_MODEL_a594ac5e6d5946b988c45c4fbb57120e",
        "IPY_MODEL_f2c0f6f4790d454dba562734ed3f1a54"
       ],
       "layout": "IPY_MODEL_ed55e2905b4947fa846a3c25514cbdca"
      }
     },
     "66e154b5a6ee44de97ea92bd441182d9": {
      "model_module": "jupyter-js-widgets",
      "model_module_version": "~2.1.4",
      "model_name": "VBoxModel",
      "state": {
       "_dom_classes": [
        "widget-interact"
       ],
       "_model_module_version": "~2.1.4",
       "_view_module_version": "~2.1.4",
       "children": [
        "IPY_MODEL_4d9fa4a13e7c4e618f5051ab48c1240e",
        "IPY_MODEL_8f89bdee77404a0daa01422fea1bf6f4",
        "IPY_MODEL_0dd33e77fabe44e6bc482c3a3681d5df",
        "IPY_MODEL_8c64e05c464b4768a12e5601a39c9ba9",
        "IPY_MODEL_993ab172bfc34095b03763b370495283"
       ],
       "layout": "IPY_MODEL_43d746ed41914236aadc8b6a6e5d5caa"
      }
     },
     "6ba68e917f09406bbc3c8dd9ce04d17e": {
      "model_module": "jupyter-js-widgets",
      "model_module_version": "~2.1.4",
      "model_name": "LayoutModel",
      "state": {
       "_model_module_version": "~2.1.4",
       "_view_module_version": "~2.1.4"
      }
     },
     "6f17e0d1a77b47f1852d30e2edfffdfb": {
      "model_module": "jupyter-js-widgets",
      "model_module_version": "~2.1.4",
      "model_name": "OutputModel",
      "state": {
       "_dom_classes": [],
       "_model_module": "jupyter-js-widgets",
       "_model_module_version": "~2.1.4",
       "_view_module": "jupyter-js-widgets",
       "_view_module_version": "~2.1.4",
       "layout": "IPY_MODEL_fd1b38bc3cf946ab80080b3854141d58",
       "msg_throttle": 1
      }
     },
     "7324d536d7564cd8bec3f793b86ac245": {
      "model_module": "jupyter-js-widgets",
      "model_module_version": "~2.1.4",
      "model_name": "FloatSliderModel",
      "state": {
       "_model_module_version": "~2.1.4",
       "_view_module_version": "~2.1.4",
       "description": "v_goal",
       "layout": "IPY_MODEL_9d8c60b8c87a42c5948b0d354510ce72",
       "max": 4,
       "step": 0.1,
       "value": 1
      }
     },
     "8011b2310fbe4d5a908576b511c0cbe0": {
      "model_module": "jupyter-js-widgets",
      "model_module_version": "~2.1.4",
      "model_name": "LayoutModel",
      "state": {
       "_model_module_version": "~2.1.4",
       "_view_module_version": "~2.1.4"
      }
     },
     "833d95109fb140cbaa3b2eccdf5a83e6": {
      "model_module": "jupyter-js-widgets",
      "model_module_version": "~2.1.4",
      "model_name": "VBoxModel",
      "state": {
       "_dom_classes": [
        "widget-interact"
       ],
       "_model_module_version": "~2.1.4",
       "_view_module_version": "~2.1.4",
       "children": [
        "IPY_MODEL_cdbb66eb274f40bf9729d31e9766d8fb",
        "IPY_MODEL_02052329535a45f58fe301419492a277",
        "IPY_MODEL_1735359efe484601b72c1f44e0422114",
        "IPY_MODEL_5d7e40458583449ebaa4a4192248c53f",
        "IPY_MODEL_42e3390b59684eceb11453db873c3455"
       ],
       "layout": "IPY_MODEL_bd3f679d7d0f4befa7578f8613bb7fae"
      }
     },
     "8741e467ed0e4040aa2b51aca5feea50": {
      "model_module": "jupyter-js-widgets",
      "model_module_version": "~2.1.4",
      "model_name": "LayoutModel",
      "state": {
       "_model_module_version": "~2.1.4",
       "_view_module_version": "~2.1.4"
      }
     },
     "8ac6f58562e74ad69f3e3e015fc8b0ab": {
      "model_module": "jupyter-js-widgets",
      "model_module_version": "~2.1.4",
      "model_name": "LayoutModel",
      "state": {
       "_model_module_version": "~2.1.4",
       "_view_module_version": "~2.1.4"
      }
     },
     "8c64e05c464b4768a12e5601a39c9ba9": {
      "model_module": "jupyter-js-widgets",
      "model_module_version": "~2.1.4",
      "model_name": "FloatSliderModel",
      "state": {
       "_model_module_version": "~2.1.4",
       "_view_module_version": "~2.1.4",
       "description": "target",
       "layout": "IPY_MODEL_a8a9d5c4e0654ef3a3e144ccf30cd772",
       "max": 3,
       "step": 0.1,
       "value": 1
      }
     },
     "8cb0feb1371d43f8ad648e313be7d467": {
      "model_module": "jupyter-js-widgets",
      "model_module_version": "~2.1.4",
      "model_name": "LayoutModel",
      "state": {
       "_model_module_version": "~2.1.4",
       "_view_module_version": "~2.1.4"
      }
     },
     "8d7fc110324546d9aebd36ff226f4bf2": {
      "model_module": "jupyter-js-widgets",
      "model_module_version": "~2.1.4",
      "model_name": "LayoutModel",
      "state": {
       "_model_module_version": "~2.1.4",
       "_view_module_version": "~2.1.4"
      }
     },
     "8eccf347b71c4419be022adfa0638384": {
      "model_module": "jupyter-js-widgets",
      "model_module_version": "~2.1.4",
      "model_name": "VBoxModel",
      "state": {
       "_dom_classes": [
        "widget-interact"
       ],
       "_model_module_version": "~2.1.4",
       "_view_module_version": "~2.1.4",
       "children": [
        "IPY_MODEL_3a4fd04d76374e49976727fe997facad",
        "IPY_MODEL_43630c5161514d1ea80ce8563c7bf7c4",
        "IPY_MODEL_e9ea4289d8f042928f4f79dcb9fc19fa",
        "IPY_MODEL_7324d536d7564cd8bec3f793b86ac245",
        "IPY_MODEL_6f17e0d1a77b47f1852d30e2edfffdfb"
       ],
       "layout": "IPY_MODEL_d18bc63641c64e35b611ef52e7434640"
      }
     },
     "8f89bdee77404a0daa01422fea1bf6f4": {
      "model_module": "jupyter-js-widgets",
      "model_module_version": "~2.1.4",
      "model_name": "FloatSliderModel",
      "state": {
       "_model_module_version": "~2.1.4",
       "_view_module_version": "~2.1.4",
       "description": "Ki",
       "layout": "IPY_MODEL_51f50f36006f46f0898689aad63fe420",
       "max": 5,
       "step": 0.001
      }
     },
     "964244f9b98f443e9a08860bb79a4e3f": {
      "model_module": "jupyter-js-widgets",
      "model_module_version": "~2.1.4",
      "model_name": "FloatSliderModel",
      "state": {
       "_model_module_version": "~2.1.4",
       "_view_module_version": "~2.1.4",
       "description": "gear_ratio",
       "layout": "IPY_MODEL_201f2dd72b1e4ec1b22a6cb9b978b209",
       "max": 10,
       "min": 1,
       "step": 0.1,
       "value": 3
      }
     },
     "96e503f8c3034e8d97abecf094130bba": {
      "model_module": "jupyter-js-widgets",
      "model_module_version": "~2.1.4",
      "model_name": "FloatSliderModel",
      "state": {
       "_model_module_version": "~2.1.4",
       "_view_module_version": "~2.1.4",
       "description": "motor_duty",
       "layout": "IPY_MODEL_e474cac8715648eda7c962e2946345a3",
       "max": 1,
       "step": 0.01,
       "value": 0.5
      }
     },
     "977f902595d841b0a8c87b5fb8f0ae27": {
      "model_module": "jupyter-js-widgets",
      "model_module_version": "~2.1.4",
      "model_name": "LayoutModel",
      "state": {
       "_model_module_version": "~2.1.4",
       "_view_module_version": "~2.1.4"
      }
     },
     "993ab172bfc34095b03763b370495283": {
      "model_module": "jupyter-js-widgets",
      "model_module_version": "~2.1.4",
      "model_name": "OutputModel",
      "state": {
       "_dom_classes": [],
       "_model_module": "jupyter-js-widgets",
       "_model_module_version": "~2.1.4",
       "_view_module": "jupyter-js-widgets",
       "_view_module_version": "~2.1.4",
       "layout": "IPY_MODEL_8ac6f58562e74ad69f3e3e015fc8b0ab",
       "msg_throttle": 1
      }
     },
     "9d8c60b8c87a42c5948b0d354510ce72": {
      "model_module": "jupyter-js-widgets",
      "model_module_version": "~2.1.4",
      "model_name": "LayoutModel",
      "state": {
       "_model_module_version": "~2.1.4",
       "_view_module_version": "~2.1.4"
      }
     },
     "9dd4c2ece86b4819bba64f0b102890f1": {
      "model_module": "jupyter-js-widgets",
      "model_module_version": "~2.1.4",
      "model_name": "FloatSliderModel",
      "state": {
       "_model_module_version": "~2.1.4",
       "_view_module_version": "~2.1.4",
       "description": "mass_gram",
       "layout": "IPY_MODEL_31df72f3e58440ff981f9a8b506ca78b",
       "max": 200,
       "min": 5,
       "step": 0.5,
       "value": 30
      }
     },
     "9fd86b13781042ae8d7c9f409570ee23": {
      "model_module": "jupyter-js-widgets",
      "model_module_version": "~2.1.4",
      "model_name": "LayoutModel",
      "state": {
       "_model_module_version": "~2.1.4",
       "_view_module_version": "~2.1.4"
      }
     },
     "a419d535761a4f1b8b44c2c9270d4596": {
      "model_module": "jupyter-js-widgets",
      "model_module_version": "~2.1.4",
      "model_name": "LayoutModel",
      "state": {
       "_model_module_version": "~2.1.4",
       "_view_module_version": "~2.1.4"
      }
     },
     "a4666b7ff95a407fb5f1ce915c70785d": {
      "model_module": "jupyter-js-widgets",
      "model_module_version": "~2.1.4",
      "model_name": "OutputModel",
      "state": {
       "_dom_classes": [],
       "_model_module": "jupyter-js-widgets",
       "_model_module_version": "~2.1.4",
       "_view_module": "jupyter-js-widgets",
       "_view_module_version": "~2.1.4",
       "layout": "IPY_MODEL_6ba68e917f09406bbc3c8dd9ce04d17e",
       "msg_throttle": 1
      }
     },
     "a594ac5e6d5946b988c45c4fbb57120e": {
      "model_module": "jupyter-js-widgets",
      "model_module_version": "~2.1.4",
      "model_name": "FloatSliderModel",
      "state": {
       "_model_module_version": "~2.1.4",
       "_view_module_version": "~2.1.4",
       "description": "target",
       "layout": "IPY_MODEL_8cb0feb1371d43f8ad648e313be7d467",
       "max": 3,
       "step": 0.1,
       "value": 1
      }
     },
     "a8a9d5c4e0654ef3a3e144ccf30cd772": {
      "model_module": "jupyter-js-widgets",
      "model_module_version": "~2.1.4",
      "model_name": "LayoutModel",
      "state": {
       "_model_module_version": "~2.1.4",
       "_view_module_version": "~2.1.4"
      }
     },
     "a93b1abc2f0e4e33987ff82c23d21939": {
      "model_module": "jupyter-js-widgets",
      "model_module_version": "~2.1.4",
      "model_name": "OutputModel",
      "state": {
       "_dom_classes": [],
       "_model_module": "jupyter-js-widgets",
       "_model_module_version": "~2.1.4",
       "_view_module": "jupyter-js-widgets",
       "_view_module_version": "~2.1.4",
       "layout": "IPY_MODEL_b07da7d6fc6944bba912dfcb871727b3",
       "msg_throttle": 1
      }
     },
     "acdd9c7a865048bc804a2fb87bc9d48c": {
      "model_module": "jupyter-js-widgets",
      "model_module_version": "~2.1.4",
      "model_name": "LayoutModel",
      "state": {
       "_model_module_version": "~2.1.4",
       "_view_module_version": "~2.1.4"
      }
     },
     "aee616990ef149fabcdbcbe22abe44e0": {
      "model_module": "jupyter-js-widgets",
      "model_module_version": "~2.1.4",
      "model_name": "FloatSliderModel",
      "state": {
       "_model_module_version": "~2.1.4",
       "_view_module_version": "~2.1.4",
       "description": "mass_gram",
       "layout": "IPY_MODEL_acdd9c7a865048bc804a2fb87bc9d48c",
       "max": 200,
       "min": 5,
       "step": 0.5,
       "value": 30
      }
     },
     "b07da7d6fc6944bba912dfcb871727b3": {
      "model_module": "jupyter-js-widgets",
      "model_module_version": "~2.1.4",
      "model_name": "LayoutModel",
      "state": {
       "_model_module_version": "~2.1.4",
       "_view_module_version": "~2.1.4"
      }
     },
     "b080e8ef99f747c1a29f8ff4a348a55c": {
      "model_module": "jupyter-js-widgets",
      "model_module_version": "~2.1.4",
      "model_name": "LayoutModel",
      "state": {
       "_model_module_version": "~2.1.4",
       "_view_module_version": "~2.1.4"
      }
     },
     "bd3f679d7d0f4befa7578f8613bb7fae": {
      "model_module": "jupyter-js-widgets",
      "model_module_version": "~2.1.4",
      "model_name": "LayoutModel",
      "state": {
       "_model_module_version": "~2.1.4",
       "_view_module_version": "~2.1.4"
      }
     },
     "bd75cbcb82df4f269e1e98bb6e1b5957": {
      "model_module": "jupyter-js-widgets",
      "model_module_version": "~2.1.4",
      "model_name": "LayoutModel",
      "state": {
       "_model_module_version": "~2.1.4",
       "_view_module_version": "~2.1.4"
      }
     },
     "cdbb66eb274f40bf9729d31e9766d8fb": {
      "model_module": "jupyter-js-widgets",
      "model_module_version": "~2.1.4",
      "model_name": "FloatSliderModel",
      "state": {
       "_model_module_version": "~2.1.4",
       "_view_module_version": "~2.1.4",
       "description": "Kp",
       "layout": "IPY_MODEL_1759309698b74976849a1037bf84e49b",
       "max": 10,
       "min": 0.01,
       "step": 0.01,
       "value": 1
      }
     },
     "d18bc63641c64e35b611ef52e7434640": {
      "model_module": "jupyter-js-widgets",
      "model_module_version": "~2.1.4",
      "model_name": "LayoutModel",
      "state": {
       "_model_module_version": "~2.1.4",
       "_view_module_version": "~2.1.4"
      }
     },
     "d68eb088be224fd3b3a2206cf70cc4de": {
      "model_module": "jupyter-js-widgets",
      "model_module_version": "~2.1.4",
      "model_name": "LayoutModel",
      "state": {
       "_model_module_version": "~2.1.4",
       "_view_module_version": "~2.1.4"
      }
     },
     "da8317adc3e14ccf910b7b9b901433e5": {
      "model_module": "jupyter-js-widgets",
      "model_module_version": "~2.1.4",
      "model_name": "LayoutModel",
      "state": {
       "_model_module_version": "~2.1.4",
       "_view_module_version": "~2.1.4"
      }
     },
     "dc7067f21bcc48f0b4ef3b4764be36d6": {
      "model_module": "jupyter-js-widgets",
      "model_module_version": "~2.1.4",
      "model_name": "LayoutModel",
      "state": {
       "_model_module_version": "~2.1.4",
       "_view_module_version": "~2.1.4"
      }
     },
     "dcc55637159b4b85beba6f4c4ae5dcd7": {
      "model_module": "jupyter-js-widgets",
      "model_module_version": "~2.1.4",
      "model_name": "FloatSliderModel",
      "state": {
       "_model_module_version": "~2.1.4",
       "_view_module_version": "~2.1.4",
       "description": "Kd",
       "layout": "IPY_MODEL_9fd86b13781042ae8d7c9f409570ee23",
       "max": 5,
       "step": 0.01
      }
     },
     "e2d7c877ef7c4297b20e0ad7e54c8aed": {
      "model_module": "jupyter-js-widgets",
      "model_module_version": "~2.1.4",
      "model_name": "LayoutModel",
      "state": {
       "_model_module_version": "~2.1.4",
       "_view_module_version": "~2.1.4"
      }
     },
     "e474cac8715648eda7c962e2946345a3": {
      "model_module": "jupyter-js-widgets",
      "model_module_version": "~2.1.4",
      "model_name": "LayoutModel",
      "state": {
       "_model_module_version": "~2.1.4",
       "_view_module_version": "~2.1.4"
      }
     },
     "e5338feb28d14c1abefbeb26f2946851": {
      "model_module": "jupyter-js-widgets",
      "model_module_version": "~2.1.4",
      "model_name": "FloatSliderModel",
      "state": {
       "_model_module_version": "~2.1.4",
       "_view_module_version": "~2.1.4",
       "description": "Kp",
       "layout": "IPY_MODEL_1b9405dac1f444459f3724be8d44448c",
       "max": 3,
       "min": 0.01,
       "step": 0.01,
       "value": 1
      }
     },
     "e949676c6b66417fadff0277cdd54072": {
      "model_module": "jupyter-js-widgets",
      "model_module_version": "~2.1.4",
      "model_name": "VBoxModel",
      "state": {
       "_dom_classes": [
        "widget-interact"
       ],
       "_model_module_version": "~2.1.4",
       "_view_module_version": "~2.1.4",
       "children": [
        "IPY_MODEL_964244f9b98f443e9a08860bb79a4e3f",
        "IPY_MODEL_482ffa26b9c748b195b4a4f8a039e98f",
        "IPY_MODEL_aee616990ef149fabcdbcbe22abe44e0",
        "IPY_MODEL_a93b1abc2f0e4e33987ff82c23d21939"
       ],
       "layout": "IPY_MODEL_dc7067f21bcc48f0b4ef3b4764be36d6"
      }
     },
     "e9ea4289d8f042928f4f79dcb9fc19fa": {
      "model_module": "jupyter-js-widgets",
      "model_module_version": "~2.1.4",
      "model_name": "FloatSliderModel",
      "state": {
       "_model_module_version": "~2.1.4",
       "_view_module_version": "~2.1.4",
       "description": "Kd",
       "layout": "IPY_MODEL_5ce3c3dce72a406d803f907f92879891",
       "max": 5,
       "step": 0.01
      }
     },
     "ed55e2905b4947fa846a3c25514cbdca": {
      "model_module": "jupyter-js-widgets",
      "model_module_version": "~2.1.4",
      "model_name": "LayoutModel",
      "state": {
       "_model_module_version": "~2.1.4",
       "_view_module_version": "~2.1.4"
      }
     },
     "f2c0f6f4790d454dba562734ed3f1a54": {
      "model_module": "jupyter-js-widgets",
      "model_module_version": "~2.1.4",
      "model_name": "OutputModel",
      "state": {
       "_dom_classes": [],
       "_model_module": "jupyter-js-widgets",
       "_model_module_version": "~2.1.4",
       "_view_module": "jupyter-js-widgets",
       "_view_module_version": "~2.1.4",
       "layout": "IPY_MODEL_bd75cbcb82df4f269e1e98bb6e1b5957",
       "msg_throttle": 1
      }
     },
     "f8bc588232d54ecca8370c853dee7b7d": {
      "model_module": "jupyter-js-widgets",
      "model_module_version": "~2.1.4",
      "model_name": "LayoutModel",
      "state": {
       "_model_module_version": "~2.1.4",
       "_view_module_version": "~2.1.4"
      }
     },
     "fd1b38bc3cf946ab80080b3854141d58": {
      "model_module": "jupyter-js-widgets",
      "model_module_version": "~2.1.4",
      "model_name": "LayoutModel",
      "state": {
       "_model_module_version": "~2.1.4",
       "_view_module_version": "~2.1.4"
      }
     }
    },
    "version_major": 1,
    "version_minor": 0
   }
  }
 },
 "nbformat": 4,
 "nbformat_minor": 2
}
